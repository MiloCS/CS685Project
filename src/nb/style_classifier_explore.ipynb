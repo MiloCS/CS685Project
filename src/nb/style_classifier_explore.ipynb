{
 "cells": [
  {
   "cell_type": "code",
   "execution_count": 1,
   "metadata": {},
   "outputs": [],
   "source": [
    "import os\n",
    "\n",
    "DATA_DIR = \"data\" # This may need to be changed on different machines\n",
    "\n",
    "# Make sure we're in the correct directory and make sure the data directory exists\n",
    "if not os.path.exists(DATA_DIR):\n",
    "    os.chdir(\"../..\") # Move up two directories because we're in src/nb and the data directory/path should be in/start at the root directory \n",
    "    assert os.path.exists(DATA_DIR), f\"ERROR: DATA_DIR={DATA_DIR} not found\"  # If we still can't see the data directory something is wrong\n",
    "\n",
    "from src.lib.style_classifier import StyleEncoder"
   ]
  },
  {
   "cell_type": "code",
   "execution_count": 2,
   "metadata": {},
   "outputs": [],
   "source": [
    "style_encoder = StyleEncoder()"
   ]
  },
  {
   "cell_type": "code",
   "execution_count": 3,
   "metadata": {},
   "outputs": [
    {
     "ename": "AttributeError",
     "evalue": "'SequenceClassifierOutput' object has no attribute 'last_hidden_state'",
     "output_type": "error",
     "traceback": [
      "\u001b[0;31m---------------------------------------------------------------------------\u001b[0m",
      "\u001b[0;31mAttributeError\u001b[0m                            Traceback (most recent call last)",
      "\u001b[1;32m/home/bill/spring2022/685/CS685Project/src/nb/style_classifier_explore.ipynb Cell 3'\u001b[0m in \u001b[0;36m<cell line: 8>\u001b[0;34m()\u001b[0m\n\u001b[1;32m      <a href='vscode-notebook-cell://ssh-remote%2Bobiwan/home/bill/spring2022/685/CS685Project/src/nb/style_classifier_explore.ipynb#ch0000004vscode-remote?line=0'>1</a>\u001b[0m texts \u001b[39m=\u001b[39m [\n\u001b[1;32m      <a href='vscode-notebook-cell://ssh-remote%2Bobiwan/home/bill/spring2022/685/CS685Project/src/nb/style_classifier_explore.ipynb#ch0000004vscode-remote?line=1'>2</a>\u001b[0m     \u001b[39m\"\u001b[39m\u001b[39mI am a student at the University of Massachusetts Amherst.\u001b[39m\u001b[39m\"\u001b[39m,\n\u001b[1;32m      <a href='vscode-notebook-cell://ssh-remote%2Bobiwan/home/bill/spring2022/685/CS685Project/src/nb/style_classifier_explore.ipynb#ch0000004vscode-remote?line=2'>3</a>\u001b[0m     \u001b[39m\"\u001b[39m\u001b[39mHow are you guys today\u001b[39m\u001b[39m\"\u001b[39m,\n\u001b[1;32m      <a href='vscode-notebook-cell://ssh-remote%2Bobiwan/home/bill/spring2022/685/CS685Project/src/nb/style_classifier_explore.ipynb#ch0000004vscode-remote?line=3'>4</a>\u001b[0m     \u001b[39m\"\u001b[39m\u001b[39mThe sunset is really beautiful over the ocean\u001b[39m\u001b[39m\"\u001b[39m,\n\u001b[1;32m      <a href='vscode-notebook-cell://ssh-remote%2Bobiwan/home/bill/spring2022/685/CS685Project/src/nb/style_classifier_explore.ipynb#ch0000004vscode-remote?line=4'>5</a>\u001b[0m     \u001b[39m\"\u001b[39m\u001b[39mHow did he know we were going to be working on this last minute?\u001b[39m\u001b[39m\"\u001b[39m\n\u001b[1;32m      <a href='vscode-notebook-cell://ssh-remote%2Bobiwan/home/bill/spring2022/685/CS685Project/src/nb/style_classifier_explore.ipynb#ch0000004vscode-remote?line=5'>6</a>\u001b[0m ]\n\u001b[0;32m----> <a href='vscode-notebook-cell://ssh-remote%2Bobiwan/home/bill/spring2022/685/CS685Project/src/nb/style_classifier_explore.ipynb#ch0000004vscode-remote?line=7'>8</a>\u001b[0m encodings \u001b[39m=\u001b[39m style_encoder\u001b[39m.\u001b[39;49mget_style_vector(texts)\n\u001b[1;32m      <a href='vscode-notebook-cell://ssh-remote%2Bobiwan/home/bill/spring2022/685/CS685Project/src/nb/style_classifier_explore.ipynb#ch0000004vscode-remote?line=8'>9</a>\u001b[0m encodings\u001b[39m.\u001b[39mshape\n",
      "File \u001b[0;32m~/spring2022/685/CS685Project/src/lib/style_classifier.py:31\u001b[0m, in \u001b[0;36mStyleEncoder.get_style_vector\u001b[0;34m(self, text)\u001b[0m\n\u001b[1;32m     <a href='file:///home/bill/spring2022/685/CS685Project/src/lib/style_classifier.py?line=26'>27</a>\u001b[0m output \u001b[39m=\u001b[39m \u001b[39mself\u001b[39m\u001b[39m.\u001b[39mmodel(input_ids)\n\u001b[1;32m     <a href='file:///home/bill/spring2022/685/CS685Project/src/lib/style_classifier.py?line=27'>28</a>\u001b[0m \u001b[39m# hidden_states = output.hidden_states\u001b[39;00m\n\u001b[1;32m     <a href='file:///home/bill/spring2022/685/CS685Project/src/lib/style_classifier.py?line=28'>29</a>\u001b[0m \u001b[39m# style vector is the hidden state for the [CLS] token of the last layer\u001b[39;00m\n\u001b[1;32m     <a href='file:///home/bill/spring2022/685/CS685Project/src/lib/style_classifier.py?line=29'>30</a>\u001b[0m \u001b[39m# style_vector = hidden_states[-1][:, 0, :]\u001b[39;00m\n\u001b[0;32m---> <a href='file:///home/bill/spring2022/685/CS685Project/src/lib/style_classifier.py?line=30'>31</a>\u001b[0m style_vector \u001b[39m=\u001b[39m output\u001b[39m.\u001b[39;49mlast_hidden_state[:, \u001b[39m0\u001b[39m]\n\u001b[1;32m     <a href='file:///home/bill/spring2022/685/CS685Project/src/lib/style_classifier.py?line=31'>32</a>\u001b[0m \u001b[39mreturn\u001b[39;00m style_vector\n",
      "\u001b[0;31mAttributeError\u001b[0m: 'SequenceClassifierOutput' object has no attribute 'last_hidden_state'"
     ]
    },
    {
     "ename": "",
     "evalue": "",
     "output_type": "error",
     "traceback": [
      "\u001b[1;31mThe Kernel crashed while executing code in the the current cell or a previous cell. Please review the code in the cell(s) to identify a possible cause of the failure. Click <a href='https://aka.ms/vscodeJupyterKernelCrash'>here</a> for more info. View Jupyter <a href='command:jupyter.viewOutput'>log</a> for further details."
     ]
    }
   ],
   "source": [
    "texts = [\n",
    "    \"I am a student at the University of Massachusetts Amherst.\",\n",
    "    \"How are you guys today\",\n",
    "    \"The sunset is really beautiful over the ocean\",\n",
    "    \"How did he know we were going to be working on this last minute?\"\n",
    "]\n",
    "\n",
    "encodings = style_encoder.get_style_vector(texts)\n",
    "encodings.shape"
   ]
  }
 ],
 "metadata": {
  "interpreter": {
   "hash": "5854a06c42c722c9b376878a2b0ccc4f0377baad6105251f5d0bcbe5a7e06c30"
  },
  "kernelspec": {
   "display_name": "Python 3.10.4 ('env': venv)",
   "language": "python",
   "name": "python3"
  },
  "language_info": {
   "codemirror_mode": {
    "name": "ipython",
    "version": 3
   },
   "file_extension": ".py",
   "mimetype": "text/x-python",
   "name": "python",
   "nbconvert_exporter": "python",
   "pygments_lexer": "ipython3",
   "version": "3.10.4"
  },
  "orig_nbformat": 4
 },
 "nbformat": 4,
 "nbformat_minor": 2
}
