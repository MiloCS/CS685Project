{
 "cells": [
  {
   "cell_type": "code",
   "execution_count": 1,
   "metadata": {},
   "outputs": [],
   "source": [
    "import os\n",
    "\n",
    "DATA_DIR = \"data\" # This may need to be changed on different machines\n",
    "\n",
    "# Make sure we're in the correct directory and make sure the data directory exists\n",
    "if not os.path.exists(DATA_DIR):\n",
    "    os.chdir(\"../..\") # Move up two directories because we're in src/nb and the data directory/path should be in/start at the root directory \n",
    "    assert os.path.exists(DATA_DIR), f\"ERROR: DATA_DIR={DATA_DIR} not found\"  # If we still can't see the data directory something is wrong\n",
    "\n",
    "from tqdm.notebook import tqdm\n",
    "\n",
    "import torch\n",
    "# get Dataset class\n",
    "from torch.utils.data import DataLoader\n",
    "from torch import nn\n",
    "import pandas as pd\n",
    "\n",
    "from transformers import GPT2LMHeadModel, AdamW, GPT2Tokenizer\n",
    "\n",
    "from src.lib.decoder_dataset import DecoderDataset\n",
    "from src.lib.decoder import Decoder"
   ]
  },
  {
   "cell_type": "markdown",
   "metadata": {},
   "source": [
    "I'm pretty sure there's a memory leak where things stay on the GPU when making the dataset with the constructor but that does not persist pass saving to state_dict and then loading from state_dict.\n",
    "\n",
    "My recommendation is to load the dataset, save the dataset, reset the runtime, read dataset from state_dict from then on."
   ]
  },
  {
   "cell_type": "code",
   "execution_count": 2,
   "metadata": {},
   "outputs": [],
   "source": [
    "device = torch.device(\"cuda\" if torch.cuda.is_available() else \"cpu\")\n",
    "save_path = os.path.join(DATA_DIR, \"decoded_cds\", \"balanced\", \"dev_dataset.pth\")\n",
    "\n",
    "if not os.path.exists(save_path):\n",
    "    df = pd.read_csv(os.path.join(DATA_DIR, \"decoded_cds\", \"balanced\", \"dev.csv\"), index_col=0)\n",
    "    dataset = DecoderDataset(df)\n",
    "    dataset.save_state_dict(save_path)\n",
    "else:\n",
    "    dataset = DecoderDataset.from_state_dict(save_path)"
   ]
  },
  {
   "cell_type": "code",
   "execution_count": 4,
   "metadata": {},
   "outputs": [
    {
     "name": "stderr",
     "output_type": "stream",
     "text": [
      "Some weights of the model checkpoint at models/gpt2_large were not used when initializing GPT2LMHeadModel: ['transformer.extra_embedding_project.bias', 'transformer.extra_embedding_project.weight']\n",
      "- This IS expected if you are initializing GPT2LMHeadModel from the checkpoint of a model trained on another task or with another architecture (e.g. initializing a BertForSequenceClassification model from a BertForPreTraining model).\n",
      "- This IS NOT expected if you are initializing GPT2LMHeadModel from the checkpoint of a model that you expect to be exactly identical (initializing a BertForSequenceClassification model from a BertForSequenceClassification model).\n"
     ]
    }
   ],
   "source": [
    "decoder = Decoder().to(device)"
   ]
  },
  {
   "cell_type": "code",
   "execution_count": 5,
   "metadata": {},
   "outputs": [],
   "source": [
    "optimizer = torch.optim.AdamW(decoder.parameters(), lr=5e-5)\n",
    "loss_fn = nn.CrossEntropyLoss()"
   ]
  },
  {
   "cell_type": "code",
   "execution_count": 6,
   "metadata": {},
   "outputs": [],
   "source": [
    "data_loader = DataLoader(dataset, batch_size=20, shuffle=False, num_workers=10)"
   ]
  },
  {
   "cell_type": "code",
   "execution_count": 7,
   "metadata": {},
   "outputs": [
    {
     "data": {
      "application/vnd.jupyter.widget-view+json": {
       "model_id": "33c799100f904ddab4bd68f20885faf2",
       "version_major": 2,
       "version_minor": 0
      },
      "text/plain": [
       "  0%|          | 0/723 [00:00<?, ?it/s]"
      ]
     },
     "metadata": {},
     "output_type": "display_data"
    },
    {
     "ename": "KeyboardInterrupt",
     "evalue": "",
     "output_type": "error",
     "traceback": [
      "\u001b[0;31m---------------------------------------------------------------------------\u001b[0m",
      "\u001b[0;31mKeyboardInterrupt\u001b[0m                         Traceback (most recent call last)",
      "\u001b[1;32m/home/ubuntu/CS685Project/src/nb/decoder_test.ipynb Cell 8'\u001b[0m in \u001b[0;36m<cell line: 13>\u001b[0;34m()\u001b[0m\n\u001b[1;32m     <a href='vscode-notebook-cell://ssh-remote%2Blambda/home/ubuntu/CS685Project/src/nb/decoder_test.ipynb#ch0000008vscode-remote?line=30'>31</a>\u001b[0m \u001b[39mdel\u001b[39;00m x, y, logits, label, label_idx, batch\n\u001b[1;32m     <a href='vscode-notebook-cell://ssh-remote%2Blambda/home/ubuntu/CS685Project/src/nb/decoder_test.ipynb#ch0000008vscode-remote?line=31'>32</a>\u001b[0m torch\u001b[39m.\u001b[39mcuda\u001b[39m.\u001b[39mempty_cache()\n\u001b[0;32m---> <a href='vscode-notebook-cell://ssh-remote%2Blambda/home/ubuntu/CS685Project/src/nb/decoder_test.ipynb#ch0000008vscode-remote?line=34'>35</a>\u001b[0m optimizer\u001b[39m.\u001b[39;49mzero_grad()\n\u001b[1;32m     <a href='vscode-notebook-cell://ssh-remote%2Blambda/home/ubuntu/CS685Project/src/nb/decoder_test.ipynb#ch0000008vscode-remote?line=35'>36</a>\u001b[0m loss\u001b[39m.\u001b[39mbackward()\n\u001b[1;32m     <a href='vscode-notebook-cell://ssh-remote%2Blambda/home/ubuntu/CS685Project/src/nb/decoder_test.ipynb#ch0000008vscode-remote?line=36'>37</a>\u001b[0m optimizer\u001b[39m.\u001b[39mstep()\n",
      "File \u001b[0;32m~/.local/lib/python3.8/site-packages/torch/optim/optimizer.py:222\u001b[0m, in \u001b[0;36mOptimizer.zero_grad\u001b[0;34m(self, set_to_none)\u001b[0m\n\u001b[1;32m    <a href='file:///home/ubuntu/.local/lib/python3.8/site-packages/torch/optim/optimizer.py?line=219'>220</a>\u001b[0m     p\u001b[39m.\u001b[39mgrad\u001b[39m.\u001b[39mrequires_grad_(\u001b[39mFalse\u001b[39;00m)\n\u001b[1;32m    <a href='file:///home/ubuntu/.local/lib/python3.8/site-packages/torch/optim/optimizer.py?line=220'>221</a>\u001b[0m \u001b[39mif\u001b[39;00m (\u001b[39mnot\u001b[39;00m foreach \u001b[39mor\u001b[39;00m p\u001b[39m.\u001b[39mgrad\u001b[39m.\u001b[39mis_sparse):\n\u001b[0;32m--> <a href='file:///home/ubuntu/.local/lib/python3.8/site-packages/torch/optim/optimizer.py?line=221'>222</a>\u001b[0m     p\u001b[39m.\u001b[39;49mgrad\u001b[39m.\u001b[39;49mzero_()\n\u001b[1;32m    <a href='file:///home/ubuntu/.local/lib/python3.8/site-packages/torch/optim/optimizer.py?line=222'>223</a>\u001b[0m \u001b[39melse\u001b[39;00m:\n\u001b[1;32m    <a href='file:///home/ubuntu/.local/lib/python3.8/site-packages/torch/optim/optimizer.py?line=223'>224</a>\u001b[0m     per_device_and_dtype_grads[p\u001b[39m.\u001b[39mgrad\u001b[39m.\u001b[39mdevice][p\u001b[39m.\u001b[39mgrad\u001b[39m.\u001b[39mdtype]\u001b[39m.\u001b[39mappend(p\u001b[39m.\u001b[39mgrad)\n",
      "\u001b[0;31mKeyboardInterrupt\u001b[0m: "
     ]
    }
   ],
   "source": [
    "def to_device(tup, device):\n",
    "    on_device = []\n",
    "    for i in range(len(tup)):\n",
    "        if type(tup[i]) == list:\n",
    "            on_device.append(to_device(tup[i], device))\n",
    "        else:\n",
    "            tensor = tup[i].to(device)\n",
    "            on_device.append(tensor)\n",
    "    return on_device\n",
    "\n",
    "decoder.train()\n",
    "epochs = 1\n",
    "for epoch in range(epochs):\n",
    "    pbar = tqdm(data_loader)\n",
    "    for batch in pbar:\n",
    "        batch = to_device(batch, device)\n",
    "\n",
    "        x, y = batch\n",
    "\n",
    "        label, label_idx = y\n",
    "\n",
    "        logits = decoder(x).logits[:, label_idx].diagonal().t()\n",
    "\n",
    "        # logits (batch_size, vocab_size)\n",
    "        # label (batch_size)\n",
    "\n",
    "        # calculate loss and backprop\n",
    "        loss = loss_fn(logits, label)\n",
    "\n",
    "        # del everything that is not the loss\n",
    "        del x, y, logits, label, label_idx, batch\n",
    "        torch.cuda.empty_cache()\n",
    "\n",
    "\n",
    "        optimizer.zero_grad()\n",
    "        loss.backward()\n",
    "        optimizer.step()\n",
    "\n",
    "        pbar.set_description(f\"Epoch {epoch} Loss: {loss.item():.4f}\")"
   ]
  }
 ],
 "metadata": {
  "interpreter": {
   "hash": "31f2aee4e71d21fbe5cf8b01ff0e069b9275f58929596ceb00d14d90e3e16cd6"
  },
  "kernelspec": {
   "display_name": "Python 3.10.4 64-bit",
   "language": "python",
   "name": "python3"
  },
  "language_info": {
   "codemirror_mode": {
    "name": "ipython",
    "version": 3
   },
   "file_extension": ".py",
   "mimetype": "text/x-python",
   "name": "python",
   "nbconvert_exporter": "python",
   "pygments_lexer": "ipython3",
   "version": "3.8.10"
  },
  "orig_nbformat": 4
 },
 "nbformat": 4,
 "nbformat_minor": 2
}
