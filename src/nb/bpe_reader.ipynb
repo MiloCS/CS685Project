{
 "cells": [
  {
   "cell_type": "code",
   "execution_count": 1,
   "metadata": {},
   "outputs": [],
   "source": [
    "import os\n",
    "import numpy as np\n",
    "import json\n",
    "\n",
    "DATA_DIR = \"data\" # This may need to be changed on different machines\n",
    "\n",
    "# Make sure we're in the correct directory and make sure the data directory exists\n",
    "if not os.path.exists(DATA_DIR):\n",
    "    os.chdir(\"../..\") # Move up two directories because we're in src/nb and the data directory/path should be in/start at the root directory \n",
    "    assert os.path.exists(DATA_DIR), f\"ERROR: DATA_DIR={DATA_DIR} not found\"  # If we still can't see the data directory something is wrong\n",
    "\n",
    "from src.lib.bpe_parser import read_bpe_data"
   ]
  },
  {
   "cell_type": "code",
   "execution_count": 2,
   "metadata": {},
   "outputs": [
    {
     "data": {
      "text/plain": [
       "array([[ 3237,  2907, 13449, ...,    -1,    -1,    -1],\n",
       "       [  464,  1743,  3329, ...,    -1,    -1,    -1],\n",
       "       [16371, 13779,   290, ...,    -1,    -1,    -1],\n",
       "       ...,\n",
       "       [19782, 32583, 12460, ...,    -1,    -1,    -1],\n",
       "       [   72,  1842,  2832, ...,    -1,    -1,    -1],\n",
       "       [   34, 26730,  2635, ...,    -1,    -1,    -1]], dtype=int32)"
      ]
     },
     "execution_count": 2,
     "metadata": {},
     "output_type": "execute_result"
    }
   ],
   "source": [
    "tweets_path = os.path.join(DATA_DIR, \"datasets/cds/tweets\") # Path to the tweets data\n",
    "dev_input_path = os.path.join(tweets_path, \"dev.input0.bpe\") # Path to the dev input file\n",
    "dev_label_path = os.path.join(tweets_path, \"dev.label\") # Path to the dev label file\n",
    "\n",
    "\n",
    "# Load the data\n",
    "dev_input = read_bpe_data(dev_input_path)\n",
    "dev_input"
   ]
  }
 ],
 "metadata": {
  "interpreter": {
   "hash": "a892e5552f0f7997e49c2f3c9539a1e1ef121afc7c58dbef042c1dee912bd74e"
  },
  "kernelspec": {
   "display_name": "Python 3.10.4 ('env': venv)",
   "language": "python",
   "name": "python3"
  },
  "language_info": {
   "codemirror_mode": {
    "name": "ipython",
    "version": 3
   },
   "file_extension": ".py",
   "mimetype": "text/x-python",
   "name": "python",
   "nbconvert_exporter": "python",
   "pygments_lexer": "ipython3",
   "version": "3.9.10"
  },
  "orig_nbformat": 4
 },
 "nbformat": 4,
 "nbformat_minor": 2
}
