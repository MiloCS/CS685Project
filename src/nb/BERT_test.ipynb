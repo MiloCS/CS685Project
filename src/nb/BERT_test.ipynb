{
 "cells": [
  {
   "cell_type": "code",
   "execution_count": 3,
   "metadata": {},
   "outputs": [],
   "source": [
    "import os\n",
    "import numpy as np\n",
    "from transformers import BertModel, BertConfig\n",
    "\n",
    "DATA_DIR = \"data\" # This may need to be changed on different machines\n",
    "\n",
    "# Make sure we're in the correct directory and make sure the data directory exists\n",
    "if not os.path.exists(DATA_DIR):\n",
    "    os.chdir(\"../..\") # Move up two directories because we're in src/nb and the data directory/path should be in/start at the root directory \n",
    "    assert os.path.exists(DATA_DIR), f\"ERROR: DATA_DIR={DATA_DIR} not found\"  # If we still can't see the data directory something is wrong"
   ]
  },
  {
   "cell_type": "code",
   "execution_count": 11,
   "metadata": {},
   "outputs": [],
   "source": [
    "def read_bpe_data(data_path):\n",
    "    \"\"\"\n",
    "    Reads in the BPE data from the given path into an (N, M) integer numpy array.\n",
    "    Samples are padded with -1\n",
    "    N = Number of samples\n",
    "    M = Maximum number of tokens in an example\n",
    "    \"\"\"\n",
    "    with open(data_path, \"r\") as f:\n",
    "        lines = f.readlines()\n",
    "\n",
    "    def process_row(row):\n",
    "        # row string \" 123 456 789\\n\" -> integer list [123, 456, 789]\n",
    "        row = row.strip().split()\n",
    "        row = list(map(int, row))\n",
    "        return row\n",
    "\n",
    "    list_data = list(map(process_row, lines))\n",
    "\n",
    "    # Find the length of the longest samples in the data\n",
    "    max_len = 0\n",
    "    for row in list_data:\n",
    "        max_len = max(max_len, len(row))\n",
    "    \n",
    "    # Pad the data to the maximum length\n",
    "    padded_data = -np.ones((len(list_data), max_len), dtype=np.int32)\n",
    "    for i, row in enumerate(list_data):\n",
    "        padded_data[i, :len(row)] = row\n",
    "    \n",
    "    return padded_data"
   ]
  },
  {
   "cell_type": "code",
   "execution_count": 12,
   "metadata": {},
   "outputs": [
    {
     "data": {
      "text/plain": [
       "array([[ 3237,  2907, 13449, ...,    -1,    -1,    -1],\n",
       "       [  464,  1743,  3329, ...,    -1,    -1,    -1],\n",
       "       [16371, 13779,   290, ...,    -1,    -1,    -1],\n",
       "       ...,\n",
       "       [19782, 32583, 12460, ...,    -1,    -1,    -1],\n",
       "       [   72,  1842,  2832, ...,    -1,    -1,    -1],\n",
       "       [   34, 26730,  2635, ...,    -1,    -1,    -1]], dtype=int32)"
      ]
     },
     "execution_count": 12,
     "metadata": {},
     "output_type": "execute_result"
    }
   ],
   "source": [
    "tweets_path = os.path.join(DATA_DIR, \"datasets/cds/tweets\") # Path to the tweets data\n",
    "dev_input_path = os.path.join(tweets_path, \"dev.input0.bpe\") # Path to the dev input file\n",
    "dev_label_path = os.path.join(tweets_path, \"dev.label\") # Path to the dev label file\n",
    "\n",
    "\n",
    "# Load the data\n",
    "dev_input = read_bpe_data(dev_input_path)\n",
    "dev_input"
   ]
  }
 ],
 "metadata": {
  "interpreter": {
   "hash": "a892e5552f0f7997e49c2f3c9539a1e1ef121afc7c58dbef042c1dee912bd74e"
  },
  "kernelspec": {
   "display_name": "Python 3.10.4 ('env': venv)",
   "language": "python",
   "name": "python3"
  },
  "language_info": {
   "codemirror_mode": {
    "name": "ipython",
    "version": 3
   },
   "file_extension": ".py",
   "mimetype": "text/x-python",
   "name": "python",
   "nbconvert_exporter": "python",
   "pygments_lexer": "ipython3",
   "version": "3.10.4"
  },
  "orig_nbformat": 4
 },
 "nbformat": 4,
 "nbformat_minor": 2
}
