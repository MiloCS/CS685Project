{
 "cells": [
  {
   "cell_type": "code",
   "execution_count": 7,
   "metadata": {},
   "outputs": [],
   "source": [
    "import os\n",
    "\n",
    "DATA_DIR = \"data\" # This may need to be changed on different machines\n",
    "\n",
    "# Make sure we're in the correct directory and make sure the data directory exists\n",
    "if not os.path.exists(DATA_DIR):\n",
    "    os.chdir(\"../..\") # Move up two directories because we're in src/nb and the data directory/path should be in/start at the root directory \n",
    "    assert os.path.exists(DATA_DIR), f\"ERROR: DATA_DIR={DATA_DIR} not found\"  # If we still can't see the data directory something is wrong\n",
    "\n",
    "\n",
    "from torch.utils.data import DataLoader\n",
    "\n",
    "import pandas as pd\n",
    "from src.lib.decoder_dataset import DecoderDataset\n"
   ]
  },
  {
   "cell_type": "code",
   "execution_count": 8,
   "metadata": {},
   "outputs": [],
   "source": [
    "save_path = os.path.join(DATA_DIR, \"decoded_cds\", \"balanced\", \"dev_dataset.pth\")"
   ]
  },
  {
   "cell_type": "code",
   "execution_count": 9,
   "metadata": {},
   "outputs": [],
   "source": [
    "if not os.path.exists(save_path):\n",
    "    df = pd.read_csv(os.path.join(DATA_DIR, \"decoded_cds\", \"balanced\", \"dev.csv\"), index_col=0)\n",
    "    dataset = DecoderDataset(df)\n",
    "\n",
    "    dataset.save_state_dict(save_path)\n",
    "else:\n",
    "    dataset = DecoderDataset.from_state_dict(save_path)"
   ]
  },
  {
   "cell_type": "code",
   "execution_count": 10,
   "metadata": {},
   "outputs": [
    {
     "name": "stdout",
     "output_type": "stream",
     "text": [
      "14443\n"
     ]
    }
   ],
   "source": [
    "print(len(dataset))"
   ]
  },
  {
   "cell_type": "code",
   "execution_count": 11,
   "metadata": {},
   "outputs": [
    {
     "name": "stdout",
     "output_type": "stream",
     "text": [
      "torch.Size([20, 768])\n",
      "torch.Size([20, 12, 1280])\n",
      "torch.Size([20, 12, 1280])\n",
      "torch.Size([20, 1280])\n",
      "torch.Size([20, 12, 1280])\n",
      "torch.Size([20, 12, 1280])\n",
      "torch.Size([20, 26])\n",
      "torch.Size([20])\n",
      "torch.Size([20])\n"
     ]
    }
   ],
   "source": [
    "\n",
    "data_loader = DataLoader(dataset, batch_size=20, shuffle=True)\n",
    "\n",
    "for batch in data_loader:\n",
    "    x, y = batch\n",
    "    style_encoding, para, bos_pos, target, attn_mask = x\n",
    "    para_embed, para_pos = para\n",
    "    target_embeds, target_pos = target\n",
    "    label, label_idx = y\n",
    "    \n",
    "    print(style_encoding.shape)\n",
    "\n",
    "    print(para_embed.shape)\n",
    "    print(para_pos.shape)\n",
    "\n",
    "    print(bos_pos.shape)\n",
    "\n",
    "    print(target_embeds.shape)\n",
    "    print(target_pos.shape)\n",
    "\n",
    "    print(attn_mask.shape)\n",
    "    \n",
    "    print(label.shape)\n",
    "    print(label_idx.shape)\n",
    "\n",
    "    break\n",
    "    "
   ]
  },
  {
   "cell_type": "code",
   "execution_count": 12,
   "metadata": {},
   "outputs": [
    {
     "name": "stdout",
     "output_type": "stream",
     "text": [
      "tensor([1., 1., 1., 1., 1., 1., 1., 1., 1., 1., 1., 1., 0., 1., 1., 1., 0., 0.,\n",
      "        0., 0., 0., 0., 0., 0., 0., 0.])\n",
      "tensor([ 1.2377,  1.5913, -0.2598,  1.2065,  0.3681, -0.1464, -0.4857,  0.1138,\n",
      "         0.3017,  0.4296, -0.3893,  0.7515], grad_fn=<SumBackward1>)\n",
      "16 tensor(11)\n"
     ]
    }
   ],
   "source": [
    "batch = dataset[0]\n",
    "x, y = batch\n",
    "style_encoding, para, bos_pos, target, attn_mask = x\n",
    "para_embed, para_pos = para\n",
    "target_embeds, target_pos = target\n",
    "label, label_idx = y\n",
    "\n",
    "print(attn_mask)\n",
    "print(para_embed.sum(dim=1))\n",
    "print(label_idx, label)\n"
   ]
  }
 ],
 "metadata": {
  "interpreter": {
   "hash": "5854a06c42c722c9b376878a2b0ccc4f0377baad6105251f5d0bcbe5a7e06c30"
  },
  "kernelspec": {
   "display_name": "Python 3.10.4 ('env': venv)",
   "language": "python",
   "name": "python3"
  },
  "language_info": {
   "codemirror_mode": {
    "name": "ipython",
    "version": 3
   },
   "file_extension": ".py",
   "mimetype": "text/x-python",
   "name": "python",
   "nbconvert_exporter": "python",
   "pygments_lexer": "ipython3",
   "version": "3.10.4"
  },
  "orig_nbformat": 4
 },
 "nbformat": 4,
 "nbformat_minor": 2
}
