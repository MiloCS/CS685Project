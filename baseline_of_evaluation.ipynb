{
  "nbformat": 4,
  "nbformat_minor": 0,
  "metadata": {
    "colab": {
      "name": "baseline_of_evaluation",
      "provenance": []
    },
    "kernelspec": {
      "name": "python3",
      "display_name": "Python 3"
    },
    "language_info": {
      "name": "python"
    },
    "widgets": {
      "application/vnd.jupyter.widget-state+json": {
        "0673c2686b5040b6af0932e6402ff074": {
          "model_module": "@jupyter-widgets/controls",
          "model_name": "HBoxModel",
          "model_module_version": "1.5.0",
          "state": {
            "_dom_classes": [],
            "_model_module": "@jupyter-widgets/controls",
            "_model_module_version": "1.5.0",
            "_model_name": "HBoxModel",
            "_view_count": null,
            "_view_module": "@jupyter-widgets/controls",
            "_view_module_version": "1.5.0",
            "_view_name": "HBoxView",
            "box_style": "",
            "children": [
              "IPY_MODEL_a6a4baaaa4ec401e9756766cea00100f",
              "IPY_MODEL_c286dcdd78054668b269936e822b76fa",
              "IPY_MODEL_3768b37c43144c25bcedc6553edc24d9"
            ],
            "layout": "IPY_MODEL_dc374444534c422eafe7189eb08affd0"
          }
        },
        "a6a4baaaa4ec401e9756766cea00100f": {
          "model_module": "@jupyter-widgets/controls",
          "model_name": "HTMLModel",
          "model_module_version": "1.5.0",
          "state": {
            "_dom_classes": [],
            "_model_module": "@jupyter-widgets/controls",
            "_model_module_version": "1.5.0",
            "_model_name": "HTMLModel",
            "_view_count": null,
            "_view_module": "@jupyter-widgets/controls",
            "_view_module_version": "1.5.0",
            "_view_name": "HTMLView",
            "description": "",
            "description_tooltip": null,
            "layout": "IPY_MODEL_099df2186ce243029d7a0fb5070485ba",
            "placeholder": "​",
            "style": "IPY_MODEL_cc541ed160fc4db88c8e68d11c1d1242",
            "value": "Downloading builder script: "
          }
        },
        "c286dcdd78054668b269936e822b76fa": {
          "model_module": "@jupyter-widgets/controls",
          "model_name": "FloatProgressModel",
          "model_module_version": "1.5.0",
          "state": {
            "_dom_classes": [],
            "_model_module": "@jupyter-widgets/controls",
            "_model_module_version": "1.5.0",
            "_model_name": "FloatProgressModel",
            "_view_count": null,
            "_view_module": "@jupyter-widgets/controls",
            "_view_module_version": "1.5.0",
            "_view_name": "ProgressView",
            "bar_style": "success",
            "description": "",
            "description_tooltip": null,
            "layout": "IPY_MODEL_cd399cc6616343a0ae405a70eecf8097",
            "max": 2478,
            "min": 0,
            "orientation": "horizontal",
            "style": "IPY_MODEL_d11925ef675f475f9fcb0648526b2f89",
            "value": 2478
          }
        },
        "3768b37c43144c25bcedc6553edc24d9": {
          "model_module": "@jupyter-widgets/controls",
          "model_name": "HTMLModel",
          "model_module_version": "1.5.0",
          "state": {
            "_dom_classes": [],
            "_model_module": "@jupyter-widgets/controls",
            "_model_module_version": "1.5.0",
            "_model_name": "HTMLModel",
            "_view_count": null,
            "_view_module": "@jupyter-widgets/controls",
            "_view_module_version": "1.5.0",
            "_view_name": "HTMLView",
            "description": "",
            "description_tooltip": null,
            "layout": "IPY_MODEL_ca4783fdff224bb885aa127a04a1fc26",
            "placeholder": "​",
            "style": "IPY_MODEL_c49c35c0d66d443f95d31e36acb95268",
            "value": " 6.06k/? [00:00&lt;00:00, 88.2kB/s]"
          }
        },
        "dc374444534c422eafe7189eb08affd0": {
          "model_module": "@jupyter-widgets/base",
          "model_name": "LayoutModel",
          "model_module_version": "1.2.0",
          "state": {
            "_model_module": "@jupyter-widgets/base",
            "_model_module_version": "1.2.0",
            "_model_name": "LayoutModel",
            "_view_count": null,
            "_view_module": "@jupyter-widgets/base",
            "_view_module_version": "1.2.0",
            "_view_name": "LayoutView",
            "align_content": null,
            "align_items": null,
            "align_self": null,
            "border": null,
            "bottom": null,
            "display": null,
            "flex": null,
            "flex_flow": null,
            "grid_area": null,
            "grid_auto_columns": null,
            "grid_auto_flow": null,
            "grid_auto_rows": null,
            "grid_column": null,
            "grid_gap": null,
            "grid_row": null,
            "grid_template_areas": null,
            "grid_template_columns": null,
            "grid_template_rows": null,
            "height": null,
            "justify_content": null,
            "justify_items": null,
            "left": null,
            "margin": null,
            "max_height": null,
            "max_width": null,
            "min_height": null,
            "min_width": null,
            "object_fit": null,
            "object_position": null,
            "order": null,
            "overflow": null,
            "overflow_x": null,
            "overflow_y": null,
            "padding": null,
            "right": null,
            "top": null,
            "visibility": null,
            "width": null
          }
        },
        "099df2186ce243029d7a0fb5070485ba": {
          "model_module": "@jupyter-widgets/base",
          "model_name": "LayoutModel",
          "model_module_version": "1.2.0",
          "state": {
            "_model_module": "@jupyter-widgets/base",
            "_model_module_version": "1.2.0",
            "_model_name": "LayoutModel",
            "_view_count": null,
            "_view_module": "@jupyter-widgets/base",
            "_view_module_version": "1.2.0",
            "_view_name": "LayoutView",
            "align_content": null,
            "align_items": null,
            "align_self": null,
            "border": null,
            "bottom": null,
            "display": null,
            "flex": null,
            "flex_flow": null,
            "grid_area": null,
            "grid_auto_columns": null,
            "grid_auto_flow": null,
            "grid_auto_rows": null,
            "grid_column": null,
            "grid_gap": null,
            "grid_row": null,
            "grid_template_areas": null,
            "grid_template_columns": null,
            "grid_template_rows": null,
            "height": null,
            "justify_content": null,
            "justify_items": null,
            "left": null,
            "margin": null,
            "max_height": null,
            "max_width": null,
            "min_height": null,
            "min_width": null,
            "object_fit": null,
            "object_position": null,
            "order": null,
            "overflow": null,
            "overflow_x": null,
            "overflow_y": null,
            "padding": null,
            "right": null,
            "top": null,
            "visibility": null,
            "width": null
          }
        },
        "cc541ed160fc4db88c8e68d11c1d1242": {
          "model_module": "@jupyter-widgets/controls",
          "model_name": "DescriptionStyleModel",
          "model_module_version": "1.5.0",
          "state": {
            "_model_module": "@jupyter-widgets/controls",
            "_model_module_version": "1.5.0",
            "_model_name": "DescriptionStyleModel",
            "_view_count": null,
            "_view_module": "@jupyter-widgets/base",
            "_view_module_version": "1.2.0",
            "_view_name": "StyleView",
            "description_width": ""
          }
        },
        "cd399cc6616343a0ae405a70eecf8097": {
          "model_module": "@jupyter-widgets/base",
          "model_name": "LayoutModel",
          "model_module_version": "1.2.0",
          "state": {
            "_model_module": "@jupyter-widgets/base",
            "_model_module_version": "1.2.0",
            "_model_name": "LayoutModel",
            "_view_count": null,
            "_view_module": "@jupyter-widgets/base",
            "_view_module_version": "1.2.0",
            "_view_name": "LayoutView",
            "align_content": null,
            "align_items": null,
            "align_self": null,
            "border": null,
            "bottom": null,
            "display": null,
            "flex": null,
            "flex_flow": null,
            "grid_area": null,
            "grid_auto_columns": null,
            "grid_auto_flow": null,
            "grid_auto_rows": null,
            "grid_column": null,
            "grid_gap": null,
            "grid_row": null,
            "grid_template_areas": null,
            "grid_template_columns": null,
            "grid_template_rows": null,
            "height": null,
            "justify_content": null,
            "justify_items": null,
            "left": null,
            "margin": null,
            "max_height": null,
            "max_width": null,
            "min_height": null,
            "min_width": null,
            "object_fit": null,
            "object_position": null,
            "order": null,
            "overflow": null,
            "overflow_x": null,
            "overflow_y": null,
            "padding": null,
            "right": null,
            "top": null,
            "visibility": null,
            "width": null
          }
        },
        "d11925ef675f475f9fcb0648526b2f89": {
          "model_module": "@jupyter-widgets/controls",
          "model_name": "ProgressStyleModel",
          "model_module_version": "1.5.0",
          "state": {
            "_model_module": "@jupyter-widgets/controls",
            "_model_module_version": "1.5.0",
            "_model_name": "ProgressStyleModel",
            "_view_count": null,
            "_view_module": "@jupyter-widgets/base",
            "_view_module_version": "1.2.0",
            "_view_name": "StyleView",
            "bar_color": null,
            "description_width": ""
          }
        },
        "ca4783fdff224bb885aa127a04a1fc26": {
          "model_module": "@jupyter-widgets/base",
          "model_name": "LayoutModel",
          "model_module_version": "1.2.0",
          "state": {
            "_model_module": "@jupyter-widgets/base",
            "_model_module_version": "1.2.0",
            "_model_name": "LayoutModel",
            "_view_count": null,
            "_view_module": "@jupyter-widgets/base",
            "_view_module_version": "1.2.0",
            "_view_name": "LayoutView",
            "align_content": null,
            "align_items": null,
            "align_self": null,
            "border": null,
            "bottom": null,
            "display": null,
            "flex": null,
            "flex_flow": null,
            "grid_area": null,
            "grid_auto_columns": null,
            "grid_auto_flow": null,
            "grid_auto_rows": null,
            "grid_column": null,
            "grid_gap": null,
            "grid_row": null,
            "grid_template_areas": null,
            "grid_template_columns": null,
            "grid_template_rows": null,
            "height": null,
            "justify_content": null,
            "justify_items": null,
            "left": null,
            "margin": null,
            "max_height": null,
            "max_width": null,
            "min_height": null,
            "min_width": null,
            "object_fit": null,
            "object_position": null,
            "order": null,
            "overflow": null,
            "overflow_x": null,
            "overflow_y": null,
            "padding": null,
            "right": null,
            "top": null,
            "visibility": null,
            "width": null
          }
        },
        "c49c35c0d66d443f95d31e36acb95268": {
          "model_module": "@jupyter-widgets/controls",
          "model_name": "DescriptionStyleModel",
          "model_module_version": "1.5.0",
          "state": {
            "_model_module": "@jupyter-widgets/controls",
            "_model_module_version": "1.5.0",
            "_model_name": "DescriptionStyleModel",
            "_view_count": null,
            "_view_module": "@jupyter-widgets/base",
            "_view_module_version": "1.2.0",
            "_view_name": "StyleView",
            "description_width": ""
          }
        },
        "084c1762d4c34fb48cb4557755358d71": {
          "model_module": "@jupyter-widgets/controls",
          "model_name": "HBoxModel",
          "model_module_version": "1.5.0",
          "state": {
            "_dom_classes": [],
            "_model_module": "@jupyter-widgets/controls",
            "_model_module_version": "1.5.0",
            "_model_name": "HBoxModel",
            "_view_count": null,
            "_view_module": "@jupyter-widgets/controls",
            "_view_module_version": "1.5.0",
            "_view_name": "HBoxView",
            "box_style": "",
            "children": [
              "IPY_MODEL_6de618558c06454faa2af96b7546f0fa",
              "IPY_MODEL_e03fd0321938489fb404f00bfae5524d",
              "IPY_MODEL_d5d70303c39841eb9eb878ae369d231d"
            ],
            "layout": "IPY_MODEL_986d324ba4274764923d965d9fc94327"
          }
        },
        "6de618558c06454faa2af96b7546f0fa": {
          "model_module": "@jupyter-widgets/controls",
          "model_name": "HTMLModel",
          "model_module_version": "1.5.0",
          "state": {
            "_dom_classes": [],
            "_model_module": "@jupyter-widgets/controls",
            "_model_module_version": "1.5.0",
            "_model_name": "HTMLModel",
            "_view_count": null,
            "_view_module": "@jupyter-widgets/controls",
            "_view_module_version": "1.5.0",
            "_view_name": "HTMLView",
            "description": "",
            "description_tooltip": null,
            "layout": "IPY_MODEL_5bff0005057843e09115f79b6a1a81d6",
            "placeholder": "​",
            "style": "IPY_MODEL_27ec94d657d34ad4b2fe469d3a3194a4",
            "value": "Downloading extra modules: "
          }
        },
        "e03fd0321938489fb404f00bfae5524d": {
          "model_module": "@jupyter-widgets/controls",
          "model_name": "FloatProgressModel",
          "model_module_version": "1.5.0",
          "state": {
            "_dom_classes": [],
            "_model_module": "@jupyter-widgets/controls",
            "_model_module_version": "1.5.0",
            "_model_name": "FloatProgressModel",
            "_view_count": null,
            "_view_module": "@jupyter-widgets/controls",
            "_view_module_version": "1.5.0",
            "_view_name": "ProgressView",
            "bar_style": "success",
            "description": "",
            "description_tooltip": null,
            "layout": "IPY_MODEL_0cfe8dba3c944e0e9d02a0ce7e2abcd1",
            "max": 1554,
            "min": 0,
            "orientation": "horizontal",
            "style": "IPY_MODEL_29829bfa0e1e4fdf9b0dcfaee6f4721b",
            "value": 1554
          }
        },
        "d5d70303c39841eb9eb878ae369d231d": {
          "model_module": "@jupyter-widgets/controls",
          "model_name": "HTMLModel",
          "model_module_version": "1.5.0",
          "state": {
            "_dom_classes": [],
            "_model_module": "@jupyter-widgets/controls",
            "_model_module_version": "1.5.0",
            "_model_name": "HTMLModel",
            "_view_count": null,
            "_view_module": "@jupyter-widgets/controls",
            "_view_module_version": "1.5.0",
            "_view_name": "HTMLView",
            "description": "",
            "description_tooltip": null,
            "layout": "IPY_MODEL_bb9deee80cc548b7a9b79ba26df5c5e9",
            "placeholder": "​",
            "style": "IPY_MODEL_811a864f4b7d40d3a0692145b4906f60",
            "value": " 4.07k/? [00:00&lt;00:00, 72.2kB/s]"
          }
        },
        "986d324ba4274764923d965d9fc94327": {
          "model_module": "@jupyter-widgets/base",
          "model_name": "LayoutModel",
          "model_module_version": "1.2.0",
          "state": {
            "_model_module": "@jupyter-widgets/base",
            "_model_module_version": "1.2.0",
            "_model_name": "LayoutModel",
            "_view_count": null,
            "_view_module": "@jupyter-widgets/base",
            "_view_module_version": "1.2.0",
            "_view_name": "LayoutView",
            "align_content": null,
            "align_items": null,
            "align_self": null,
            "border": null,
            "bottom": null,
            "display": null,
            "flex": null,
            "flex_flow": null,
            "grid_area": null,
            "grid_auto_columns": null,
            "grid_auto_flow": null,
            "grid_auto_rows": null,
            "grid_column": null,
            "grid_gap": null,
            "grid_row": null,
            "grid_template_areas": null,
            "grid_template_columns": null,
            "grid_template_rows": null,
            "height": null,
            "justify_content": null,
            "justify_items": null,
            "left": null,
            "margin": null,
            "max_height": null,
            "max_width": null,
            "min_height": null,
            "min_width": null,
            "object_fit": null,
            "object_position": null,
            "order": null,
            "overflow": null,
            "overflow_x": null,
            "overflow_y": null,
            "padding": null,
            "right": null,
            "top": null,
            "visibility": null,
            "width": null
          }
        },
        "5bff0005057843e09115f79b6a1a81d6": {
          "model_module": "@jupyter-widgets/base",
          "model_name": "LayoutModel",
          "model_module_version": "1.2.0",
          "state": {
            "_model_module": "@jupyter-widgets/base",
            "_model_module_version": "1.2.0",
            "_model_name": "LayoutModel",
            "_view_count": null,
            "_view_module": "@jupyter-widgets/base",
            "_view_module_version": "1.2.0",
            "_view_name": "LayoutView",
            "align_content": null,
            "align_items": null,
            "align_self": null,
            "border": null,
            "bottom": null,
            "display": null,
            "flex": null,
            "flex_flow": null,
            "grid_area": null,
            "grid_auto_columns": null,
            "grid_auto_flow": null,
            "grid_auto_rows": null,
            "grid_column": null,
            "grid_gap": null,
            "grid_row": null,
            "grid_template_areas": null,
            "grid_template_columns": null,
            "grid_template_rows": null,
            "height": null,
            "justify_content": null,
            "justify_items": null,
            "left": null,
            "margin": null,
            "max_height": null,
            "max_width": null,
            "min_height": null,
            "min_width": null,
            "object_fit": null,
            "object_position": null,
            "order": null,
            "overflow": null,
            "overflow_x": null,
            "overflow_y": null,
            "padding": null,
            "right": null,
            "top": null,
            "visibility": null,
            "width": null
          }
        },
        "27ec94d657d34ad4b2fe469d3a3194a4": {
          "model_module": "@jupyter-widgets/controls",
          "model_name": "DescriptionStyleModel",
          "model_module_version": "1.5.0",
          "state": {
            "_model_module": "@jupyter-widgets/controls",
            "_model_module_version": "1.5.0",
            "_model_name": "DescriptionStyleModel",
            "_view_count": null,
            "_view_module": "@jupyter-widgets/base",
            "_view_module_version": "1.2.0",
            "_view_name": "StyleView",
            "description_width": ""
          }
        },
        "0cfe8dba3c944e0e9d02a0ce7e2abcd1": {
          "model_module": "@jupyter-widgets/base",
          "model_name": "LayoutModel",
          "model_module_version": "1.2.0",
          "state": {
            "_model_module": "@jupyter-widgets/base",
            "_model_module_version": "1.2.0",
            "_model_name": "LayoutModel",
            "_view_count": null,
            "_view_module": "@jupyter-widgets/base",
            "_view_module_version": "1.2.0",
            "_view_name": "LayoutView",
            "align_content": null,
            "align_items": null,
            "align_self": null,
            "border": null,
            "bottom": null,
            "display": null,
            "flex": null,
            "flex_flow": null,
            "grid_area": null,
            "grid_auto_columns": null,
            "grid_auto_flow": null,
            "grid_auto_rows": null,
            "grid_column": null,
            "grid_gap": null,
            "grid_row": null,
            "grid_template_areas": null,
            "grid_template_columns": null,
            "grid_template_rows": null,
            "height": null,
            "justify_content": null,
            "justify_items": null,
            "left": null,
            "margin": null,
            "max_height": null,
            "max_width": null,
            "min_height": null,
            "min_width": null,
            "object_fit": null,
            "object_position": null,
            "order": null,
            "overflow": null,
            "overflow_x": null,
            "overflow_y": null,
            "padding": null,
            "right": null,
            "top": null,
            "visibility": null,
            "width": null
          }
        },
        "29829bfa0e1e4fdf9b0dcfaee6f4721b": {
          "model_module": "@jupyter-widgets/controls",
          "model_name": "ProgressStyleModel",
          "model_module_version": "1.5.0",
          "state": {
            "_model_module": "@jupyter-widgets/controls",
            "_model_module_version": "1.5.0",
            "_model_name": "ProgressStyleModel",
            "_view_count": null,
            "_view_module": "@jupyter-widgets/base",
            "_view_module_version": "1.2.0",
            "_view_name": "StyleView",
            "bar_color": null,
            "description_width": ""
          }
        },
        "bb9deee80cc548b7a9b79ba26df5c5e9": {
          "model_module": "@jupyter-widgets/base",
          "model_name": "LayoutModel",
          "model_module_version": "1.2.0",
          "state": {
            "_model_module": "@jupyter-widgets/base",
            "_model_module_version": "1.2.0",
            "_model_name": "LayoutModel",
            "_view_count": null,
            "_view_module": "@jupyter-widgets/base",
            "_view_module_version": "1.2.0",
            "_view_name": "LayoutView",
            "align_content": null,
            "align_items": null,
            "align_self": null,
            "border": null,
            "bottom": null,
            "display": null,
            "flex": null,
            "flex_flow": null,
            "grid_area": null,
            "grid_auto_columns": null,
            "grid_auto_flow": null,
            "grid_auto_rows": null,
            "grid_column": null,
            "grid_gap": null,
            "grid_row": null,
            "grid_template_areas": null,
            "grid_template_columns": null,
            "grid_template_rows": null,
            "height": null,
            "justify_content": null,
            "justify_items": null,
            "left": null,
            "margin": null,
            "max_height": null,
            "max_width": null,
            "min_height": null,
            "min_width": null,
            "object_fit": null,
            "object_position": null,
            "order": null,
            "overflow": null,
            "overflow_x": null,
            "overflow_y": null,
            "padding": null,
            "right": null,
            "top": null,
            "visibility": null,
            "width": null
          }
        },
        "811a864f4b7d40d3a0692145b4906f60": {
          "model_module": "@jupyter-widgets/controls",
          "model_name": "DescriptionStyleModel",
          "model_module_version": "1.5.0",
          "state": {
            "_model_module": "@jupyter-widgets/controls",
            "_model_module_version": "1.5.0",
            "_model_name": "DescriptionStyleModel",
            "_view_count": null,
            "_view_module": "@jupyter-widgets/base",
            "_view_module_version": "1.2.0",
            "_view_name": "StyleView",
            "description_width": ""
          }
        }
      }
    }
  },
  "cells": [
    {
      "cell_type": "code",
      "source": [
        "!pip install datasets"
      ],
      "metadata": {
        "colab": {
          "base_uri": "https://localhost:8080/"
        },
        "id": "fSEbpaKVCmd-",
        "outputId": "8fddc854-9a4f-4547-fd63-7bcc5ac3a879"
      },
      "execution_count": 2,
      "outputs": [
        {
          "output_type": "stream",
          "name": "stdout",
          "text": [
            "Collecting datasets\n",
            "  Downloading datasets-2.2.1-py3-none-any.whl (342 kB)\n",
            "\u001b[K     |████████████████████████████████| 342 kB 5.2 MB/s \n",
            "\u001b[?25hCollecting xxhash\n",
            "  Downloading xxhash-3.0.0-cp37-cp37m-manylinux_2_17_x86_64.manylinux2014_x86_64.whl (212 kB)\n",
            "\u001b[K     |████████████████████████████████| 212 kB 60.9 MB/s \n",
            "\u001b[?25hRequirement already satisfied: dill in /usr/local/lib/python3.7/dist-packages (from datasets) (0.3.4)\n",
            "Requirement already satisfied: requests>=2.19.0 in /usr/local/lib/python3.7/dist-packages (from datasets) (2.23.0)\n",
            "Requirement already satisfied: pandas in /usr/local/lib/python3.7/dist-packages (from datasets) (1.3.5)\n",
            "Requirement already satisfied: multiprocess in /usr/local/lib/python3.7/dist-packages (from datasets) (0.70.12.2)\n",
            "Collecting fsspec[http]>=2021.05.0\n",
            "  Downloading fsspec-2022.3.0-py3-none-any.whl (136 kB)\n",
            "\u001b[K     |████████████████████████████████| 136 kB 50.5 MB/s \n",
            "\u001b[?25hCollecting huggingface-hub<1.0.0,>=0.1.0\n",
            "  Downloading huggingface_hub-0.6.0-py3-none-any.whl (84 kB)\n",
            "\u001b[K     |████████████████████████████████| 84 kB 3.1 MB/s \n",
            "\u001b[?25hRequirement already satisfied: packaging in /usr/local/lib/python3.7/dist-packages (from datasets) (21.3)\n",
            "Collecting responses<0.19\n",
            "  Downloading responses-0.18.0-py3-none-any.whl (38 kB)\n",
            "Requirement already satisfied: importlib-metadata in /usr/local/lib/python3.7/dist-packages (from datasets) (4.11.3)\n",
            "Requirement already satisfied: numpy>=1.17 in /usr/local/lib/python3.7/dist-packages (from datasets) (1.21.6)\n",
            "Requirement already satisfied: pyarrow>=6.0.0 in /usr/local/lib/python3.7/dist-packages (from datasets) (6.0.1)\n",
            "Collecting aiohttp\n",
            "  Downloading aiohttp-3.8.1-cp37-cp37m-manylinux_2_5_x86_64.manylinux1_x86_64.manylinux_2_12_x86_64.manylinux2010_x86_64.whl (1.1 MB)\n",
            "\u001b[K     |████████████████████████████████| 1.1 MB 60.8 MB/s \n",
            "\u001b[?25hRequirement already satisfied: tqdm>=4.62.1 in /usr/local/lib/python3.7/dist-packages (from datasets) (4.64.0)\n",
            "Requirement already satisfied: pyyaml in /usr/local/lib/python3.7/dist-packages (from huggingface-hub<1.0.0,>=0.1.0->datasets) (3.13)\n",
            "Requirement already satisfied: typing-extensions>=3.7.4.3 in /usr/local/lib/python3.7/dist-packages (from huggingface-hub<1.0.0,>=0.1.0->datasets) (4.2.0)\n",
            "Requirement already satisfied: filelock in /usr/local/lib/python3.7/dist-packages (from huggingface-hub<1.0.0,>=0.1.0->datasets) (3.6.0)\n",
            "Requirement already satisfied: pyparsing!=3.0.5,>=2.0.2 in /usr/local/lib/python3.7/dist-packages (from packaging->datasets) (3.0.8)\n",
            "Requirement already satisfied: urllib3!=1.25.0,!=1.25.1,<1.26,>=1.21.1 in /usr/local/lib/python3.7/dist-packages (from requests>=2.19.0->datasets) (1.24.3)\n",
            "Requirement already satisfied: idna<3,>=2.5 in /usr/local/lib/python3.7/dist-packages (from requests>=2.19.0->datasets) (2.10)\n",
            "Requirement already satisfied: certifi>=2017.4.17 in /usr/local/lib/python3.7/dist-packages (from requests>=2.19.0->datasets) (2021.10.8)\n",
            "Requirement already satisfied: chardet<4,>=3.0.2 in /usr/local/lib/python3.7/dist-packages (from requests>=2.19.0->datasets) (3.0.4)\n",
            "Collecting urllib3!=1.25.0,!=1.25.1,<1.26,>=1.21.1\n",
            "  Downloading urllib3-1.25.11-py2.py3-none-any.whl (127 kB)\n",
            "\u001b[K     |████████████████████████████████| 127 kB 58.4 MB/s \n",
            "\u001b[?25hRequirement already satisfied: attrs>=17.3.0 in /usr/local/lib/python3.7/dist-packages (from aiohttp->datasets) (21.4.0)\n",
            "Collecting multidict<7.0,>=4.5\n",
            "  Downloading multidict-6.0.2-cp37-cp37m-manylinux_2_17_x86_64.manylinux2014_x86_64.whl (94 kB)\n",
            "\u001b[K     |████████████████████████████████| 94 kB 3.7 MB/s \n",
            "\u001b[?25hCollecting aiosignal>=1.1.2\n",
            "  Downloading aiosignal-1.2.0-py3-none-any.whl (8.2 kB)\n",
            "Collecting async-timeout<5.0,>=4.0.0a3\n",
            "  Downloading async_timeout-4.0.2-py3-none-any.whl (5.8 kB)\n",
            "Requirement already satisfied: charset-normalizer<3.0,>=2.0 in /usr/local/lib/python3.7/dist-packages (from aiohttp->datasets) (2.0.12)\n",
            "Collecting asynctest==0.13.0\n",
            "  Downloading asynctest-0.13.0-py3-none-any.whl (26 kB)\n",
            "Collecting frozenlist>=1.1.1\n",
            "  Downloading frozenlist-1.3.0-cp37-cp37m-manylinux_2_5_x86_64.manylinux1_x86_64.manylinux_2_17_x86_64.manylinux2014_x86_64.whl (144 kB)\n",
            "\u001b[K     |████████████████████████████████| 144 kB 58.2 MB/s \n",
            "\u001b[?25hCollecting yarl<2.0,>=1.0\n",
            "  Downloading yarl-1.7.2-cp37-cp37m-manylinux_2_5_x86_64.manylinux1_x86_64.manylinux_2_12_x86_64.manylinux2010_x86_64.whl (271 kB)\n",
            "\u001b[K     |████████████████████████████████| 271 kB 60.3 MB/s \n",
            "\u001b[?25hRequirement already satisfied: zipp>=0.5 in /usr/local/lib/python3.7/dist-packages (from importlib-metadata->datasets) (3.8.0)\n",
            "Requirement already satisfied: python-dateutil>=2.7.3 in /usr/local/lib/python3.7/dist-packages (from pandas->datasets) (2.8.2)\n",
            "Requirement already satisfied: pytz>=2017.3 in /usr/local/lib/python3.7/dist-packages (from pandas->datasets) (2022.1)\n",
            "Requirement already satisfied: six>=1.5 in /usr/local/lib/python3.7/dist-packages (from python-dateutil>=2.7.3->pandas->datasets) (1.15.0)\n",
            "Installing collected packages: multidict, frozenlist, yarl, urllib3, asynctest, async-timeout, aiosignal, fsspec, aiohttp, xxhash, responses, huggingface-hub, datasets\n",
            "  Attempting uninstall: urllib3\n",
            "    Found existing installation: urllib3 1.24.3\n",
            "    Uninstalling urllib3-1.24.3:\n",
            "      Successfully uninstalled urllib3-1.24.3\n",
            "\u001b[31mERROR: pip's dependency resolver does not currently take into account all the packages that are installed. This behaviour is the source of the following dependency conflicts.\n",
            "datascience 0.10.6 requires folium==0.2.1, but you have folium 0.8.3 which is incompatible.\u001b[0m\n",
            "Successfully installed aiohttp-3.8.1 aiosignal-1.2.0 async-timeout-4.0.2 asynctest-0.13.0 datasets-2.2.1 frozenlist-1.3.0 fsspec-2022.3.0 huggingface-hub-0.6.0 multidict-6.0.2 responses-0.18.0 urllib3-1.25.11 xxhash-3.0.0 yarl-1.7.2\n"
          ]
        }
      ]
    },
    {
      "cell_type": "code",
      "execution_count": 3,
      "metadata": {
        "colab": {
          "base_uri": "https://localhost:8080/",
          "height": 119,
          "referenced_widgets": [
            "0673c2686b5040b6af0932e6402ff074",
            "a6a4baaaa4ec401e9756766cea00100f",
            "c286dcdd78054668b269936e822b76fa",
            "3768b37c43144c25bcedc6553edc24d9",
            "dc374444534c422eafe7189eb08affd0",
            "099df2186ce243029d7a0fb5070485ba",
            "cc541ed160fc4db88c8e68d11c1d1242",
            "cd399cc6616343a0ae405a70eecf8097",
            "d11925ef675f475f9fcb0648526b2f89",
            "ca4783fdff224bb885aa127a04a1fc26",
            "c49c35c0d66d443f95d31e36acb95268",
            "084c1762d4c34fb48cb4557755358d71",
            "6de618558c06454faa2af96b7546f0fa",
            "e03fd0321938489fb404f00bfae5524d",
            "d5d70303c39841eb9eb878ae369d231d",
            "986d324ba4274764923d965d9fc94327",
            "5bff0005057843e09115f79b6a1a81d6",
            "27ec94d657d34ad4b2fe469d3a3194a4",
            "0cfe8dba3c944e0e9d02a0ce7e2abcd1",
            "29829bfa0e1e4fdf9b0dcfaee6f4721b",
            "bb9deee80cc548b7a9b79ba26df5c5e9",
            "811a864f4b7d40d3a0692145b4906f60"
          ]
        },
        "id": "PEt1DC7M_88_",
        "outputId": "d45d6dbd-260b-4167-c1cb-d6e2f3faf63d"
      },
      "outputs": [
        {
          "output_type": "stream",
          "name": "stdout",
          "text": [
            "['accuracy', 'bertscore', 'bleu', 'bleurt', 'cer', 'chrf', 'code_eval', 'comet', 'competition_math', 'coval', 'cuad', 'exact_match', 'f1', 'frugalscore', 'glue', 'google_bleu', 'indic_glue', 'mae', 'mahalanobis', 'matthews_correlation', 'mauve', 'mean_iou', 'meteor', 'mse', 'pearsonr', 'perplexity', 'precision', 'recall', 'roc_auc', 'rouge', 'sacrebleu', 'sari', 'seqeval', 'spearmanr', 'squad', 'squad_v2', 'super_glue', 'ter', 'wer', 'wiki_split', 'xnli', 'xtreme_s']\n"
          ]
        },
        {
          "output_type": "display_data",
          "data": {
            "text/plain": [
              "Downloading builder script:   0%|          | 0.00/2.48k [00:00<?, ?B/s]"
            ],
            "application/vnd.jupyter.widget-view+json": {
              "version_major": 2,
              "version_minor": 0,
              "model_id": "0673c2686b5040b6af0932e6402ff074"
            }
          },
          "metadata": {}
        },
        {
          "output_type": "display_data",
          "data": {
            "text/plain": [
              "Downloading extra modules:   0%|          | 0.00/1.55k [00:00<?, ?B/s]"
            ],
            "application/vnd.jupyter.widget-view+json": {
              "version_major": 2,
              "version_minor": 0,
              "model_id": "084c1762d4c34fb48cb4557755358d71"
            }
          },
          "metadata": {}
        }
      ],
      "source": [
        "from datasets import list_metrics\n",
        "metrics_list = list_metrics()\n",
        "#See the metrics that Datasets support\n",
        "print(metrics_list) \n",
        "\n",
        "from datasets import load_metric\n",
        "bleu_metric = load_metric('bleu')"
      ]
    },
    {
      "cell_type": "code",
      "source": [
        "!pip install rouge"
      ],
      "metadata": {
        "colab": {
          "base_uri": "https://localhost:8080/"
        },
        "id": "S_EdfOZKne5n",
        "outputId": "598dc0a1-16c3-4ea3-eccb-6a03a38f3fe7"
      },
      "execution_count": 82,
      "outputs": [
        {
          "output_type": "stream",
          "name": "stdout",
          "text": [
            "Collecting rouge\n",
            "  Downloading rouge-1.0.1-py3-none-any.whl (13 kB)\n",
            "Requirement already satisfied: six in /usr/local/lib/python3.7/dist-packages (from rouge) (1.15.0)\n",
            "Installing collected packages: rouge\n",
            "Successfully installed rouge-1.0.1\n"
          ]
        }
      ]
    },
    {
      "cell_type": "markdown",
      "source": [
        "# **YLT vs DRA bible**\n",
        "\n",
        "YLT as the candidates, and DRA as the references."
      ],
      "metadata": {
        "id": "qW7xOQtyO_4f"
      }
    },
    {
      "cell_type": "markdown",
      "source": [
        "***bleu and rouge-2***"
      ],
      "metadata": {
        "id": "9_BNTvRHo2PP"
      }
    },
    {
      "cell_type": "code",
      "source": [
        "import csv\n",
        "from rouge import Rouge\n",
        "\n",
        "# Read from the csv, and put into the list: references[], candidates[]\n",
        "with open(\"./bible_sentences.csv\",'r') as f :\n",
        "    reader = csv.reader(f)\n",
        "    references = []\n",
        "    candidates = []\n",
        "    for row in reader:\n",
        "    \treferences.append(row[6])\n",
        "    \tcandidates.append(row[7])   \n",
        "\n",
        "# Check some sentences inside  \n",
        "# print('A:', candidates[0:10])\n",
        "# print('B:', references[0:10])\n",
        "rouge = Rouge()\n",
        "epoch_num = 29 #30\n",
        "epoch_size = 950 #950\n",
        "\n",
        "bleu_scores_list = []\n",
        "rouge_2_list = []\n",
        "for epoch in range(epoch_num):\n",
        "  print(\"The current epoch is :\",epoch)\n",
        "  for i in range(epoch*epoch_size,(epoch+1)*epoch_size):\n",
        "    bleu_scores = bleu_metric.compute(predictions=[candidates[i].split(' ')],references=[[references[i].split(' ')]])\n",
        "    scores = rouge.get_scores(candidates[i], references[i])\n",
        "    rouge_2_list.append(scores[0]['rouge-2']['r'])\n",
        "\n",
        "    # print(\"The #\",i, \"is:\",bleu_scores)\n",
        "    # print(\"The candidiates:\",candidates[i], \"The reference:\",references[i])\n",
        "    bleu_scores_list.append(bleu_scores['bleu'])\n",
        "\n",
        "bleu_mean = sum(bleu_scores_list)/len(bleu_scores_list)\n",
        "print(\"The mean score of the bleu scores is:\", bleu_mean)\n",
        "bleu_scores_list.append(bleu_mean)\n",
        "\n",
        "rou2_mean = sum(rouge_2_list)/len(rouge_2_list)\n",
        "print(\"The mean score of the rouge-2 scores is:\", rou2_mean)\n",
        "rouge_2_list.append(rou2_mean)"
      ],
      "metadata": {
        "colab": {
          "base_uri": "https://localhost:8080/"
        },
        "id": "tVT_R7TXBuIP",
        "outputId": "64c3569f-6109-427b-a554-6d9434890a5c"
      },
      "execution_count": 135,
      "outputs": [
        {
          "output_type": "stream",
          "name": "stdout",
          "text": [
            "The current epoch is : 0\n",
            "The current epoch is : 1\n",
            "The current epoch is : 2\n",
            "The current epoch is : 3\n",
            "The current epoch is : 4\n",
            "The current epoch is : 5\n",
            "The current epoch is : 6\n",
            "The current epoch is : 7\n",
            "The current epoch is : 8\n",
            "The current epoch is : 9\n",
            "The current epoch is : 10\n",
            "The current epoch is : 11\n",
            "The current epoch is : 12\n",
            "The current epoch is : 13\n",
            "The current epoch is : 14\n",
            "The current epoch is : 15\n",
            "The current epoch is : 16\n",
            "The current epoch is : 17\n",
            "The current epoch is : 18\n",
            "The current epoch is : 19\n",
            "The current epoch is : 20\n",
            "The current epoch is : 21\n",
            "The current epoch is : 22\n",
            "The current epoch is : 23\n",
            "The current epoch is : 24\n",
            "The current epoch is : 25\n",
            "The current epoch is : 26\n",
            "The current epoch is : 27\n",
            "The current epoch is : 28\n",
            "The mean score of the bleu scores is: 0.11323413850230622\n",
            "The mean score of the rouge-2 scores is: 0.2198560085868173\n"
          ]
        }
      ]
    },
    {
      "cell_type": "code",
      "source": [
        "\n",
        "\n",
        "import pandas as pd\n",
        "\n",
        "# del(bleu_scores_list[-1])\n",
        "\n",
        "name = ['bleu_score']\n",
        "name1 = ['rouge-2_score']\n",
        "bleu_csv = pd.DataFrame(columns = name, data = bleu_scores_list)\n",
        "rou2_csv = pd.DataFrame(columns = name1, data = rouge_2_list)\n",
        "test = bleu_csv\n",
        "test1 = rou2_csv\n",
        "print(test)\n",
        "print(test1)\n",
        "test.to_csv('bleu_scores_forYLTvsDRA.csv',encoding = 'gbk')\n",
        "test1.to_csv('rouge-2_scores_forYLTvsDRA.csv',encoding = 'gbk')"
      ],
      "metadata": {
        "colab": {
          "base_uri": "https://localhost:8080/"
        },
        "id": "uCGQdYweBupq",
        "outputId": "78e21591-8d4e-44f0-ac61-f2866d47ec36"
      },
      "execution_count": 138,
      "outputs": [
        {
          "output_type": "stream",
          "name": "stdout",
          "text": [
            "       bleu_score\n",
            "0        0.000000\n",
            "1        0.286561\n",
            "2        0.000000\n",
            "3        0.150800\n",
            "4        0.000000\n",
            "...           ...\n",
            "27546    0.211209\n",
            "27547    0.000000\n",
            "27548    0.000000\n",
            "27549    0.000000\n",
            "27550    0.113234\n",
            "\n",
            "[27551 rows x 1 columns]\n",
            "       rouge-2_score\n",
            "0           0.000000\n",
            "1           0.428571\n",
            "2           0.228571\n",
            "3           0.219512\n",
            "4           0.066667\n",
            "...              ...\n",
            "27546       0.333333\n",
            "27547       0.175000\n",
            "27548       0.148936\n",
            "27549       0.166667\n",
            "27550       0.219856\n",
            "\n",
            "[27551 rows x 1 columns]\n"
          ]
        }
      ]
    },
    {
      "cell_type": "markdown",
      "source": [
        "***rouge***"
      ],
      "metadata": {
        "id": "2cMa0xmVo6uX"
      }
    },
    {
      "cell_type": "markdown",
      "source": [
        "# **ASV vs BBE bible**\n",
        "\n",
        "ASV as the candidates, and VVE as the references."
      ],
      "metadata": {
        "id": "5OctCBl3drHk"
      }
    },
    {
      "cell_type": "markdown",
      "source": [
        "***bleu and rouge-2***"
      ],
      "metadata": {
        "id": "dvfzAiv2nWe6"
      }
    },
    {
      "cell_type": "code",
      "source": [
        "import csv\n",
        "from rouge import Rouge\n",
        "# Read from the csv, and put into the list: references[], candidates[]\n",
        "with open(\"./bible_sentences.csv\",'r') as f1 :\n",
        "    reader = csv.reader(f1)\n",
        "    references = []\n",
        "    candidates = []\n",
        "    for row in reader:\n",
        "    \treferences.append(row[4])\n",
        "    \tcandidates.append(row[1])   \n",
        "\n",
        "# Check some sentences inside  \n",
        "# print('A:', candidates[0:10])\n",
        "# print('B:', references[0:10])\n",
        "\n",
        "rouge = Rouge()\n",
        "epoch_num = 29 #30\n",
        "epoch_size = 950 #950\n",
        "\n",
        "bleu_scores_list = []\n",
        "rouge_2_list = []\n",
        "for epoch in range(epoch_num):\n",
        "  print(\"The current epoch is :\",epoch)\n",
        "  for i in range(epoch*epoch_size,(epoch+1)*epoch_size):\n",
        "    bleu_scores = bleu_metric.compute(predictions=[candidates[i].split(' ')],references=[[references[i].split(' ')]])\n",
        "    \n",
        "    scores = rouge.get_scores(candidates[i], references[i])\n",
        "    rouge_2_list.append(scores[0]['rouge-2']['r'])\n",
        "\n",
        "    # print(\"The #\",i, \"is:\",bleu_scores)\n",
        "    # print(\"The candidiates:\",candidates[i], \"The reference:\",references[i])\n",
        "    bleu_scores_list.append(bleu_scores['bleu'])\n",
        "\n",
        "bleu_mean = sum(bleu_scores_list)/len(bleu_scores_list)\n",
        "print(\"The mean score of the bleu scores is:\", bleu_mean)\n",
        "bleu_scores_list.append(bleu_mean)\n",
        "\n",
        "rou2_mean = sum(rouge_2_list)/len(rouge_2_list)\n",
        "print(\"The mean score of the rouge-2 scores is:\", rou2_mean)\n",
        "rouge_2_list.append(rou2_mean)"
      ],
      "metadata": {
        "colab": {
          "base_uri": "https://localhost:8080/"
        },
        "id": "G56HLaVESTti",
        "outputId": "2cb466df-bfc0-4d34-80ca-ab88563e06e6"
      },
      "execution_count": 140,
      "outputs": [
        {
          "output_type": "stream",
          "name": "stdout",
          "text": [
            "The current epoch is : 0\n",
            "The current epoch is : 1\n",
            "The current epoch is : 2\n",
            "The current epoch is : 3\n",
            "The current epoch is : 4\n",
            "The current epoch is : 5\n",
            "The current epoch is : 6\n",
            "The current epoch is : 7\n",
            "The current epoch is : 8\n",
            "The current epoch is : 9\n",
            "The current epoch is : 10\n",
            "The current epoch is : 11\n",
            "The current epoch is : 12\n",
            "The current epoch is : 13\n",
            "The current epoch is : 14\n",
            "The current epoch is : 15\n",
            "The current epoch is : 16\n",
            "The current epoch is : 17\n",
            "The current epoch is : 18\n",
            "The current epoch is : 19\n",
            "The current epoch is : 20\n",
            "The current epoch is : 21\n",
            "The current epoch is : 22\n",
            "The current epoch is : 23\n",
            "The current epoch is : 24\n",
            "The current epoch is : 25\n",
            "The current epoch is : 26\n",
            "The current epoch is : 27\n",
            "The current epoch is : 28\n",
            "The mean score of the bleu scores is: 0.16915944682832038\n",
            "The mean score of the rouge-2 scores is: 0.2886861451079407\n"
          ]
        }
      ]
    },
    {
      "cell_type": "code",
      "source": [
        "import pandas as pd\n",
        "\n",
        "# del(bleu_scores_list[-1])\n",
        "\n",
        "name = ['bleu_score']\n",
        "name1 = ['rouge-2_score']\n",
        "bleu_csv = pd.DataFrame(columns = name, data = bleu_scores_list)\n",
        "rou2_csv = pd.DataFrame(columns = name1, data = rouge_2_list)\n",
        "test = bleu_csv\n",
        "test1 = rou2_csv\n",
        "print(test)\n",
        "print(test1)\n",
        "test.to_csv('bleu_scores_forYLTvsDRA.csv',encoding = 'gbk')\n",
        "test1.to_csv('rouge-2_scores_forforYLTvsDRA.csv',encoding = 'gbk')"
      ],
      "metadata": {
        "colab": {
          "base_uri": "https://localhost:8080/"
        },
        "id": "WLU_i00meSzm",
        "outputId": "b7c15805-ee14-4bd0-96fe-8e9ca0c3cd72"
      },
      "execution_count": 141,
      "outputs": [
        {
          "output_type": "stream",
          "name": "stdout",
          "text": [
            "       bleu_score\n",
            "0        0.000000\n",
            "1        0.471395\n",
            "2        0.201293\n",
            "3        0.265978\n",
            "4        0.180150\n",
            "...           ...\n",
            "27546    0.000000\n",
            "27547    0.314020\n",
            "27548    0.469779\n",
            "27549    0.594204\n",
            "27550    0.169159\n",
            "\n",
            "[27551 rows x 1 columns]\n",
            "       rouge-2_score\n",
            "0           0.000000\n",
            "1           0.666667\n",
            "2           0.297297\n",
            "3           0.358491\n",
            "4           0.272727\n",
            "...              ...\n",
            "27546       0.033333\n",
            "27547       0.428571\n",
            "27548       0.636364\n",
            "27549       0.685714\n",
            "27550       0.288686\n",
            "\n",
            "[27551 rows x 1 columns]\n"
          ]
        }
      ]
    },
    {
      "cell_type": "markdown",
      "source": [
        "# **Morden vs Original knights_tale**\n",
        "\n",
        "Morden as the candidates, and Original as the references."
      ],
      "metadata": {
        "id": "wtXxoj2vhJ5C"
      }
    },
    {
      "cell_type": "code",
      "source": [
        "import csv\n",
        "from rouge import Rouge\n",
        "# Read from the csv, and put into the list: references[], candidates[]\n",
        "with open(\"./knights_tale.csv\",'r') as f2 :\n",
        "    reader = csv.reader(f2)\n",
        "    references = []\n",
        "    candidates = []\n",
        "    for row in reader:\n",
        "    \treferences.append(row[1])\n",
        "    \tcandidates.append(row[2])   \n",
        "\n",
        "# Check some sentences inside  \n",
        "print('A:', candidates[0:2251])\n",
        "print('B:', references[0:2251])\n",
        "\n",
        "epoch_num = 1 \n",
        "epoch_size = 2250\n",
        "\n",
        "\n",
        "rouge = Rouge()\n",
        "\n",
        "\n",
        "bleu_scores_list = []\n",
        "rouge_2_list = []\n",
        "for epoch in range(epoch_num):\n",
        "  print(\"The current epoch is :\",epoch)\n",
        "  for i in range(epoch*epoch_size,(epoch+1)*epoch_size):\n",
        "    bleu_scores = bleu_metric.compute(predictions=[candidates[i].split(' ')],references=[[references[i].split(' ')]])\n",
        "    scores = rouge.get_scores(candidates[i], references[i])\n",
        "    rouge_2_list.append(scores[0]['rouge-2']['r'])\n",
        "\n",
        "    # print(\"The #\",i, \"is:\",bleu_scores)\n",
        "    # print(\"The candidiates:\",candidates[i], \"The reference:\",references[i])\n",
        "    bleu_scores_list.append(bleu_scores['bleu'])\n",
        "\n",
        "bleu_mean = sum(bleu_scores_list)/len(bleu_scores_list)\n",
        "print(\"The mean score of the bleu scores is:\", bleu_mean)\n",
        "bleu_scores_list.append(bleu_mean)\n",
        "\n",
        "rou2_mean = sum(rouge_2_list)/len(rouge_2_list)\n",
        "print(\"The mean score of the rouge-2 scores is:\", rou2_mean)\n",
        "rouge_2_list.append(rou2_mean)"
      ],
      "metadata": {
        "colab": {
          "base_uri": "https://localhost:8080/"
        },
        "outputId": "f5403b1b-27f5-49c3-f154-2a8353272444",
        "id": "Vu89auqwhZQY"
      },
      "execution_count": 142,
      "outputs": [
        {
          "output_type": "stream",
          "name": "stdout",
          "text": [
            "A: ['modern', 'Once, as old histories tell us,\\n', 'There was a duke who was called Theseus;\\n', 'He was lord and governor of Athens,\\n', 'And in his time such a conqueror\\n', 'That there was no one greater under the sun.\\n', 'Very many a powerful country had he won;\\n', 'What with his wisdom and his chivalry,\\n', 'He conquered all the land of the Amazons,\\n', 'That once was called Scithia,\\n', 'And wedded the queen Ypolita,\\n', 'And brought her home with him into his country\\n', 'With much glory and great ceremony,\\n', 'And also her young sister Emelye.\\n', 'And thus with victory and with festivity\\n', 'I leave this noble duke riding to Athens,\\n', 'And all his host in arms beside him.\\n', 'And certainly, if it were not too long to hear,\\n', 'I would have told you fully the manner\\n', 'How the reign of Femenye was won\\n', 'By Theseus and by his chivalry;\\n', 'And of the great battle at that time\\n', 'Between Athenians and Amazons;\\n', 'And how Ypolita was besieged,\\n', 'The fair, bold queen of Scithia;\\n', 'And of the festivity that was at their wedding,\\n', 'And of the storm at her home-coming;\\n', 'But all that matter I must now forgo.\\n', 'I have, God knows, a large field to till,\\n', 'And the oxen in my plow are weak.\\n', 'The remnant of the tale is long enough.\\n', 'Also I will not hinder any one of this company;\\n', 'Let every fellow tell his tale in turn,\\n', \"And let's see now who shall win the supper;\\n\", 'And where I left off, I will again begin.\\n', 'This duke, of whom I make mention,\\n', 'When he was come almost unto the town,\\n', 'In all his prosperity and in his most pride,\\n', 'He was aware, as he cast his eye aside,\\n', 'Where there kneeled in the high way\\n', 'A company of ladies, two by two,\\n', 'Each after another, clad in black clothes;\\n', 'But such a cry and such a woeful (lament) they make\\n', 'That in this world is no living creature\\n', 'That (ever) heard lamentation such as this;\\n', 'And of this cry they would not ever stop\\n', 'Until they seized the reins of his bridle.\\n', '\"What folk are you, who at my homecoming\\n', 'So disturb my festival with crying?\"\\n', 'Said Theseus. \"Have you such great envy\\n', 'Of my honor, (you) who thus lament and cry?\\n', 'Or who has injured or offended you?\\n', 'And tell me if it may be remedied,\\n', 'And why you are clothed thus in black.\"\\n', 'The eldest lady of them all spoke,\\n', 'After she had swooned with (so) deadly a countenance,\\n', 'That it was pitiful to see and hear;\\n', 'She said, \"Lord, to whom Fortune has given\\n', 'Victory, and (allowed) to live as a conqueror,\\n', 'Your glory and your honor does not grieve us,\\n', 'But we beseech (you for) mercy and succor.\\n', 'Have mercy on our woe and our distress!\\n', 'Some drop of pity, because of thy nobility,\\n', 'Let thou fall upon us wretched women,\\n', 'For, certainly, lord, there is not one of us all\\n', 'Who has not been a duchesse or a queen.\\n', 'Now we are miserable wretches, as it is easily seen,\\n', 'Thanks be to Fortune and her false wheel,\\n', 'Who assures no estate (will continue) to be well.\\n', 'And certainly, lord, to await your presence,\\n', 'Here in this temple of the goddess Clemency\\n', 'We have been waiting all this fortnight.\\n', 'Now help us, lord, since it is in thy power.\\n', '\"I, wretch, who weep and wail thus,\\n', 'Was once wife to king Cappaneus,\\n', 'Who died at Thebes -- cursed be that day! --\\n', 'And all of us who are in this condition\\n', 'And make all this lamentation,\\n', 'We lost all our husbands at that town,\\n', 'While the siege lay around it.\\n', 'And yet now the old Creon -- woe oh woe! --\\n', 'Who is now lord of the city of Thebes,\\n', 'Filled with anger and with iniquity,\\n', 'He, for spite and for his tyranny,\\n', 'To do dishonor to the dead bodies\\n', 'Of all our lords who are slain,\\n', 'Has dragged all the bodies in a heap,\\n', 'And will not allow them, not at all,\\n', 'Neither to be buried nor burned,\\n', 'But makes hounds eat them as an insult.\"\\n', 'And with that word, without more delay,\\n', 'They fell face down and cried piteously,\\n', '\"Have some mercy on us wretched women,\\n', 'And let our sorrow sink in thy heart.\"\\n', 'This gentle duke leaped down from his war horse\\n', 'With compassionate heart, when he heard them speak.\\n', 'It seemed to him that his heart would break,\\n', 'When he saw them so pitiful and so dejected,\\n', 'That once were of such high rank;\\n', 'And in his arms he caught up them all,\\n', 'And comforts them with very good will,\\n', 'And swore his oath, as he was true knight,\\n', '(That) he would do his might so completely\\n', 'To avenge them upon the tyrant Creon\\n', 'That all the people of Greece should speak (about)\\n', 'How Creon was treated by Theseus\\n', 'As one who had very well deserved his death.\\n', 'And right away, without more delay,\\n', 'He displays his banner, and rode forth\\n', 'Toward Thebes, and all his army beside (him).\\n', 'He would not walk nor ride any nearer to Athens,\\n', 'Nor take his ease fully half a day,\\n', 'But that night he lay (camped) on his way,\\n', 'And sent straightway Ypolita the queen,\\n', 'And Emelye, her beautiful young sister,\\n', 'Unto the town of Athens to dwell,\\n', 'And forth he rides; there is no more to tell.\\n', 'The red statue of Mars, with spear and shield,\\n', 'So shines in his large white banner\\n', 'That all the fields glitter all around;\\n', 'And by his banner is carried his pennon\\n', 'Of very rich gold, in which there was embroidered\\n', 'The Minotaur, which he defeated in Crete.\\n', 'Thus rides this duke, thus rides this conqueror,\\n', 'And in his army the flower of chivalry,\\n', 'Until he came to Thebes and dismounted\\n', 'Graciously in a field, where he intended to fight.\\n', 'But briefly to speak of this thing,\\n', 'With Creon, who was king of Thebes,\\n', 'He fought, and slew him boldly as a knight\\n', 'In open battle, and put the army to flight;\\n', 'And by assault he won the city afterwards,\\n', 'And tore down both wall and beam and rafter;\\n', 'And he gave back to the ladies\\n', 'The bones of their husbands who were slain,\\n', 'To do obsequies, as was then the custom.\\n', 'But it would be all too long to describe\\n', 'The great clamor and the lamentation\\n', 'That the ladies made at the burning\\n', 'Of the bodies, and the great honor\\n', 'That Theseus, the noble conqueror,\\n', 'Does to the ladies, when they went from him;\\n', 'But briefly to tell is my intent.\\n', 'When this worthy duke, this Theseus,\\n', 'Has slain Creon and thus won Thebes,\\n', 'Still in that field he took all night his rest,\\n', 'And did with all the country as he pleased.\\n', 'To search in the heap of dead bodies,\\n', 'To strip them of armor and of clothing,\\n', 'The scavengers took great pains and worked hard\\n', 'After the battle and defeat.\\n', 'And (it) so befell that in the heap they found,\\n', 'Pierced through with many a grievous bloody wound,\\n', 'Two young knights lying side by side,\\n', 'Both with the same coat of arms, very richly wrought,\\n', 'Of which two one was called Arcite,\\n', 'And that other knight was called Palamon.\\n', 'They were not fully alive, nor fully dead,\\n', 'But by their coats of arms and by their equipment\\n', 'The heralds best knew them in particular\\n', 'As they that were of the royal blood\\n', 'Of Thebes, and born of two sisters.\\n', 'The scavengers have pulled them out of the heap,\\n', 'And have carried them softy unto the tent\\n', 'Of Theseus; and he very soon sent them\\n', 'To Athens, to dwell in prison\\n', 'Perpetually -- he would not (accept) any ransom.\\n', 'And when this worthy duke has thus done,\\n', 'He took his army, and home he rides straightway\\n', 'As a conqueror crowned with laurel;\\n', 'And there he lives in joy and in honor\\n', 'For the duration of his life; what more words are needed?\\n', 'And in a tower, in anguish and in woe,\\n', 'This Palamon and his fellow Arcite\\n', 'For evermore (remain); no gold can ransom them.\\n', 'This passes year by year and day by day,\\n', 'Until it befell once, in a morning of May,\\n', 'That Emelye, who was fairer to be seen\\n', 'Than is the lily upon its green stalk,\\n', 'And fresher than the May with new flowers --\\n', 'For her hue vied with color of the rose,\\n', 'I do not know which was the finer of them two --\\n', 'Before it was day, as was her custom to do,\\n', 'She was arisen and all ready prepared,\\n', 'For May will have no laziness at night.\\n', 'The season urges on every gentle heart,\\n', 'And makes it out of its sleep to awake suddenly,\\n', 'And says \"Arise, and do thy observance.\"\\n', 'This made Emelye remember\\n', 'To do honor to May, and to rise.\\n', 'She was gaily clothed, so to say:\\n', 'Her yellow hair was braided in a tress\\n', 'Behind her back, a yard long, I guess.\\n', 'And in the garden, at the rising of the sun,\\n', 'She walks up and down, and as she pleases\\n', 'She gathers flowers, mixed white and red,\\n', 'To make an intricate garland for her head;\\n', 'And she sang (as) heavenly as an angel.\\n', 'The great tower, that was so thick and strong,\\n', 'Which was the main fortification of the castle\\n', '(Where the knights were in prison\\n', 'Of which I told yow and shall tell),\\n', 'Was just next to the garden wall\\n', 'Where this Emelye took her pleasure.\\n', 'The sun was bright and clear that morning,\\n', 'And Palamon, this woeful prisoner,\\n', 'As was his custom, by permission of his jailer,\\n', 'Had risen and roamed in a chamber on high,\\n', 'In which he saw all the noble city,\\n', 'And also the garden, full of green branches,\\n', 'Where this fresh Emelye the bright\\n', 'Was in her walk, and roamed up and down.\\n', 'This sorrowful prisoner, this Palamon,\\n', 'Goes in the chamber roaming to and fro\\n', 'And to himself lamenting his woe.\\n', 'That he was born, full often he said, \"alas!\"\\n', 'And so it happened, by chance or accident,\\n', 'That through a window, thickly set with many a bar\\n', 'Of iron, great and square as any beam,\\n', 'He cast his eye upon Emelye,\\n', 'And with that he turned pale and cried, \"A!\"\\n', 'As though he were stabbed unto the heart.\\n', 'And with that cry Arcite immediately leaped up\\n', 'And said, \"My cousin, what ails thee,\\n', 'Who art so pale and deadly to look upon?\\n', 'Why didst thou cry out? Who has done thee offence?\\n', 'For the love of God, take all in patience\\n', 'Our imprisonment, for it may not be otherwise.\\n', 'Fortune has given us this adversity.\\n', 'Some wicked aspect or disposition\\n', 'Of Saturn, by some arrangement of the heavenly bodies,\\n', 'Has given us this, although we had sworn it would not be;\\n', 'So stood the heavens when we were born.\\n', 'We must endure it; this is the short and plain.\"\\n', 'This Palamon answered and said in reply,\\n', '\"Cousin, truly, concerning this opinion\\n', 'Thou hast a foolish conception.\\n', 'This prison did not cause me to cry out,\\n', 'But I was hurt right now through my eye\\n', 'Into my heart, so that it will be the death of me.\\n', 'The fairness of that lady whom I see\\n', 'Yonder in the garden roaming to and fro\\n', 'Is cause of all my crying and my woe.\\n', 'I know not whether she is woman or goddess,\\n', 'But truly it is Venus, as I suppose.\"\\n', 'And with that he fell down on his knees,\\n', 'And said, \"Venus, if it be thy will\\n', 'Thus to transfigure yourself in this garden\\n', 'Before me, sorrowful, wretched creature,\\n', 'Help that we may escape out of this prison.\\n', 'And if it be so that my destiny is shaped\\n', 'By eternal decree to die in prison,\\n', 'Have some compassion on our (noble) lineage\\n', 'Which is brought so low by tyranny.\"\\n', 'And with that word Arcite did see\\n', 'Where this lady roamed to and fro,\\n', 'And with that sight her beauty hurt him so,\\n', 'That, if Palamon was sorely wounded,\\n', 'Arcite is hurt as much as he, or more.\\n', 'And with a sigh he said piteously,\\n', '\"The fresh beauty slays me suddenly\\n', 'Of her who roams in the yonder place;\\n', 'And unless I have her mercy and her grace,\\n', 'So that I can at least see her,\\n', 'I am as good as dead; there is no more to say.\"\\n', 'This Palamon, when he heard those words,\\n', 'Angrily he looked and answered,\\n', '\"Sayest thou this in earnest or in play?\"\\n', '\"Nay,\" said Arcite, \"in earnest, by my faith!\\n', 'So help me God, I have no desire to play.\"\\n', 'This Palamon did knit his two brows.\\n', '\"It would not be,\" said he, \"any great honor to thee\\n', 'To be false, nor to be traitor\\n', 'To me, who am thy cousin and thy brother\\n', 'Sworn very sincerely, and each of us to the other,\\n', 'That never, though we had to die by torture,\\n', 'Until death shall part us two,\\n', 'Neither of us in love (is) to hinder the other,\\n', 'Nor in any other case, my dear brother,\\n', 'But rather thou shouldest truly help me\\n', 'In every case, as I shall help thee --\\n', 'This was thy oath, and mine also, certainly;\\n', 'I know right well, thou darest not deny it.\\n', 'Thus thou art my trusted confidant, without doubt,\\n', 'And now thou wouldest falsely be busy preparing\\n', 'To love my lady, whom I love and serve,\\n', 'And ever shall until my heart dies.\\n', 'Nay, certainly, false Arcite, thou shalt not (do) so.\\n', 'I loved hire first, and told thee my woe\\n', 'As to my confidant and my sworn brother\\n', 'To further me, as I have told before.\\n', 'For which thou art bound as a knight\\n', 'To help me, if it lay in thy power,\\n', 'Or else thou art false, I dare well say.\"\\n', 'This Arcite full proudly spoke in return:\\n', '\"Thou shalt,\" said he, \"be rather false than I;\\n', 'And thou art false, I tell thee flatly,\\n', 'As a mistress I loved her first before thou.\\n', 'What wilt thou say? Thou knowest not yet now\\n', 'Whether she is a woman or goddess!\\n', 'Thine is a feeling of holiness,\\n', 'And mine is love as to a creature;\\n', 'For which I told thee my circumstance\\n', 'As to my cousin and my sworn brother.\\n', 'I posit (this assumption): that thou lovedest her first;\\n', \"Knowest thou not well the old clerks' saying,\\n\", \"That `who shall give a lover any law?'\\n\", 'Love is a greater law, by my skull,\\n', 'Than may be given to any earthly man;\\n', 'And therefore positive (man-made) law and such decree\\n', 'Is broken every day for love in every way.\\n', 'A man must of necessity love, in spite of all he can do;\\n', 'He can not flee (from) it, though he should be dead,\\n', 'Whether she be maid, or widow, or else wife.\\n', 'And also it is not likely all thy life\\n', 'To stand in her good graces; no more shall I;\\n', 'For well thou thyself knowest, truly,\\n', 'That thou and I are condemned to prison\\n', 'Perpetually; no ransom can help us.\\n', 'We strive as the hounds did for the bone;\\n', 'They fought all day, and yet their share was nothing.\\n', 'There came a kite, while they were so angry,\\n', 'And carried away the bone between them both.\\n', \"And therefore, at the king's court, my brother,\\n\", 'Each man for himself, there is no other (way).\\n', 'Love, if it please thee, for I love and always shall;\\n', 'And truly, dear brother, this is all.\\n', 'Here in this prison we must endure,\\n', 'And each one of us take his chance.\"\\n', 'Great and long was the strife between them two,\\n', 'If I had leisure to tell (it);\\n', 'But to the point. It happened on a day,\\n', 'To tell it to you as briefly as I can,\\n', 'A worthy duke that was called Perotheus,\\n', 'Who was a friend to duke Theseus\\n', 'Since that same time that they were little children,\\n', 'Had come to Athens to visit his friend,\\n', 'And to amuse himself as he was accustomed to do;\\n', 'For in this world he loved no man so (much),\\n', 'And he (Theseus) loved him as tenderly in turn.\\n', 'So well they loved, as old books say,\\n', 'That when one was dead, truly to tell,\\n', 'His friend went and sought him down in hell --\\n', 'But of that story I do not desire to write.\\n', 'Duke Perotheus loved well Arcite,\\n', 'And had known him at Thebes year after year,\\n', 'And finally at request and prayer\\n', 'Of Perotheus, without any ransom,\\n', 'Duke Theseus let him out of prison\\n', 'Freely to go all over, wherever he wishes,\\n', 'In such a manner as shall I tell you.\\n', 'This was the agreement, plainly to write,\\n', 'Between Theseus and this Arcite:\\n', 'That if it so were that Arcite were found\\n', 'Ever in his life, by day or night, at any moment\\n', 'In any country of this Theseus,\\n', 'And if he were caught, it was agreed thus,\\n', 'That with a sword he should lose his head.\\n', 'There was no other remedy nor course of action;\\n', 'But (he) takes his leave, and homeward he sped.\\n', 'Let him be ware! His neck lies as a pledge.\\n', 'How great a sorrow now suffers Arcite!\\n', 'He feels the death smite through his heart;\\n', 'He weeps, wails, cries piteously;\\n', 'To slay himself he secretly awaits (an opportunity).\\n', 'He said, \"Alas that day that I was born!\\n', 'Now my prison is worse than before;\\n', 'Now I am destined eternally to dwell\\n', 'Not in purgatory, but in hell.\\n', 'Alas, that ever I knew Perotheus!\\n', 'For else I would have remained with Theseus,\\n', 'Fettered in his prison evermore.\\n', 'Then would I have been in bliss and not in woe.\\n', 'Only the sight of her whom I serve,\\n', 'Though I never can deserve her grace,\\n', 'Would have sufficed right enough for me.\\n', 'O dear cousin Palamon,\" said he,\\n', '\"The victory of this adventure is thine.\\n', 'Very blissfully in prison thou can remain --\\n', 'In prison? Certainly not, but in paradise!\\n', 'Well has Fortune turned the dice for thee,\\n', 'That hast the sight of her, and I the absence.\\n', 'For it is possible, since thou hast her presence,\\n', 'And art a knight, a worthy and an able (one),\\n', 'That by some chance, since Fortune is changeable,\\n', 'Thou mayest sometime attain thy desire.\\n', 'But I, who am exiled and barren\\n', 'Of all grace, and in so great despair\\n', 'That there is not earth, water, fire, nor air,\\n', 'Nor creature that is made of them,\\n', 'That can help me or do comfort (to me) in this,\\n', 'Well ought I to die in despair and distress.\\n', 'Farwell my life, my desire, and my gladness!\\n', '\"Alas, why do folk so commonly complain\\n', 'About the providence of God, or of Fortune,\\n', 'That gives them full often in many a manner\\n', 'Much better than they can themselves imagine?\\n', 'One man desires to have riches,\\n', 'Which is the cause of his murder or great sickness;\\n', 'And one man would happily (go) out of his prison,\\n', 'Who is slain in his house by members of his household.\\n', 'Infinite harms are in this matter.\\n', 'We know not what thing we pray for here;\\n', 'We act like one who is drunk as a mouse.\\n', 'A drunk man knows well he has a house,\\n', 'But he does not know which is the right way to it,\\n', 'And to a drunk man the way is slippery.\\n', 'And certainly, so we fare in this world;\\n', 'We seek eagerly after felicity,\\n', 'But we go wrong very often, truly.\\n', 'Thus can we all say, and especially I,\\n', 'Who supposed and had a firm belief\\n', 'That if I might escape from prison,\\n', 'Then I would have been in joy and perfect well-being,\\n', 'Whereas now I am exiled from my source of happiness.\\n', 'Since I can not see you, Emelye,\\n', 'I am as good as dead; there is not any remedy.\"\\n', 'Upon that other side Palamon,\\n', 'When he knew Arcite was gone,\\n', 'He makes such sorrow that the great tour\\n', 'Resounds with his yowling and clamor.\\n', 'The great fetters themselves on his shins\\n', 'Were wet from his bitter, salt tears.\\n', '\"Alas,\" said he, \"Arcite, cousin mine,\\n', 'Of all our strife, God knows, the profit is thine.\\n', 'Thou walkest freely now in Thebes,\\n', 'And thou care little about my woe.\\n', 'Thou mayest, since thou hast wisdom and manhood,\\n', 'Assemble all the folk of our family,\\n', 'And make a war so sharp on this city\\n', 'That by some chance or some treaty\\n', 'Thou mayest have her as lady and as wife\\n', 'For whom I must of necessity lose my life.\\n', 'For, as by way of possibility,\\n', 'Since thou art at thy liberty, free of prison,\\n', 'And art a lord, thy advantage is great,\\n', 'More than is mine, who die here in a cage.\\n', 'For I must weep and wail, while I live,\\n', 'With all the woe that prison may give me,\\n', 'And also with pain that love gives me also,\\n', 'That doubles all my torment and my woe.\"\\n', 'With that the fire of jealousy started up\\n', 'Within his breast, and seized him by the heart\\n', 'So madly that he was to look upon like\\n', 'The box tree or the ash dead and cold.\\n', 'Then said he, \"O cruel gods that govern\\n', 'This world with binding of your eternal word,\\n', 'And write in the table of adamant (hardest of stones)\\n', 'Your decision and your eternal decree,\\n', 'Why is mankind more obligated unto you\\n', 'Than is the sheep that cowers in the sheepfold?\\n', 'For man is slain exactly like another beast,\\n', 'And dwells also in prison and detention,\\n', 'And has sickness and great adversity,\\n', 'And often times guiltless, indeed.\\n', '\"What (sort of) governance is in this foreknowledge,\\n', 'That torments guiltless innocence?\\n', 'And yet this increases all my suffering,\\n', 'That man is bound to his duty,\\n', \"For God's sake, to refrain from his desire,\\n\", 'Whereas a beast may fulfill all his desire.\\n', 'And when a beast is dead he has no pain;\\n', 'But man after his death must weep and lament,\\n', 'Though in this world he may have (had) care and woe.\\n', 'Without doubt such is the case.\\n', 'The answer to this I leave to theologians,\\n', 'But well I know that great pain is in this world.\\n', 'Alas, I see a serpent or a thief,\\n', 'That has done mischief to many a true man,\\n', 'Go at his liberty, and can go where he pleases.\\n', 'But I must be in prison because of Saturn,\\n', 'And also because of Juno, jealous and also mad,\\n', 'Who has destroyed well nigh all the blood\\n', 'Of Thebes with its wide devastated walls;\\n', 'And Venus slays me on that other side\\n', 'For jealousy and fear of this Arcite.\"\\n', 'Now will I cease (speaking of) of Palamon for a little while,\\n', 'And leave him to dwell in his prison still,\\n', 'And of Arcite forth I will tell you.\\n', 'The summer passes, and the long nights\\n', 'Increase doubly the strong pains\\n', 'Both of the lover and the prisoner.\\n', 'I know not which has the more woeful task.\\n', 'For, briefly to say (it), this Palamon\\n', 'Is damned perpetually to prison,\\n', 'In chains and in fetters to be dead;\\n', 'And Arcite is exiled on threat of losing his head\\n', 'For evermore, out of that country,\\n', 'Nor nevermore shall see his lady.\\n', 'Yow lovers now I ask this question:\\n', 'Who has the worse, Arcite or Palamon?\\n', 'That one may see his lady every day,\\n', 'But in prison he must always dwell;\\n', 'That other where he pleases may ride or walk,\\n', 'But he shall see his lady nevermore.\\n', 'Now judge as it pleases you, you who know (of such things),\\n', 'For I will tell forth as I began.\\n', 'When Arcite was come to Thebes,\\n', 'Very often each day he grew faint and said \"Alas!\"\\n', 'For he shall never more see his lady.\\n', 'And shortly to conclude (telling) all his woe,\\n', 'So much sorrow never had creature\\n', 'That is, or shall (be), while the world may endure.\\n', 'He is bereft of his sleep, his food, his drink\\n', 'So that he became lean and dry as is a stick;\\n', 'His eyes sunken and grisly to behold,\\n', 'His hue sickly yellow and pale as cold ashes,\\n', 'And he was solitary and ever alone,\\n', 'And wailing all the night, making his moan;\\n', 'And if he heard song or instrument,\\n', 'Then would he weep, he could not be stopped.\\n', 'So feeble also were his spirits, and so low,\\n', 'And changed so, that no man could know\\n', 'His speech nor his voice, though men heard it.\\n', 'And in his behavior for all the world he fared\\n', \"Not only like the lover's malady\\n\", 'Of Hereos, but rather like mania,\\n', 'Engendered by the melancholic humor\\n', 'In the front lobe, in his imagination.\\n', 'And shortly, all was turned topsy-turvy\\n', 'Both the physical condition and also the mental disposition\\n', 'Of him, this woeful lover dan Arcite.\\n', 'Why should I all daylong write of his woe?\\n', 'When he had endured a year or two\\n', 'This cruel torment and this pain and woe,\\n', 'At Thebes, in his country, as I said,\\n', 'Upon one night as he laid himself in sleep,\\n', 'It seemed to him that the winged god Mercury\\n', 'Stood before him and commanded him to be merry.\\n', 'His sleep-inducing staff he carried upright in his hand;\\n', 'He wore a hat upon his bright hair.\\n', 'This god was dressed, as he (Arcite) noticed,\\n', 'As he was when he put Argus to sleep;\\n', 'And said to him thus: \"To Athens shalt thou go,\\n', 'Where an end of thy woe is destined for thee.\"\\n', 'And with that word Arcite awoke and leaped up.\\n', '\"Now truly, however sorely it may pain me,\"\\n', 'Said he, \"I will go to Athens right now,\\n', 'Nor shall I refrain for the dread of death\\n', 'From seeing my lady, whom I love and serve.\\n', 'In her presence I care not if I die.\"\\n', 'And with that word he picked up a large mirror,\\n', 'And saw that all his color was changed,\\n', 'And saw his visage all (changed) to another sort.\\n', 'And right away it ran to him in his mind,\\n', 'That, since his face was so disfigured\\n', 'By the malady which he had endured,\\n', 'He might well, if he conducted himself humbly,\\n', 'Live in Athens evermore unknown,\\n', 'And see his lady almost every day.\\n', 'And right away he changed his clothing,\\n', 'And clad himself as a poor laborer,\\n', 'And all alone, except only a squire\\n', 'Who knew his private affairs and all his situation,\\n', 'Who was disguised as poorly as he was,\\n', 'To Athens he is gone the nearest way.\\n', 'And to the court he went upon a day,\\n', 'And at the gate he offers his service\\n', 'To drudge and draw water, whatever men will command.\\n', 'And shortly to speak of this matter,\\n', 'He was given employment by a household attendant\\n', 'Who was dwelling with Emelye,\\n', 'For he was wise and could soon take the measure\\n', 'Of every servant, who serves here.\\n', 'He could well hew wood, and carry water,\\n', 'For he was young and mighty indeed,\\n', 'And moreover he was tall and strong of bones\\n', 'To do what any one can command him.\\n', 'A year or two he was in this service,\\n', 'Page of the chamber of Emelye the bright,\\n', 'And he said that he was called Philostrate.\\n', 'But half so well beloved a man as he\\n', 'Was never in court (anyone) of his rank;\\n', 'He was so noble in manner\\n', 'That his fame was (spread) throughout all the court .\\n', 'They said that it would be a act of charity\\n', 'If Theseus would advance his rank,\\n', 'And put him in noble employment,\\n', 'Where he could exercise his abilities.\\n', 'And thus within a short time his fame is sprung,\\n', 'Both for his deeds and his good speech,\\n', 'That Theseus has taken him so near\\n', 'That he has made him a squire of his chamber,\\n', 'And gave him gold to maintain (a life style suitable to) his rank.\\n', 'And also men brought him out of his country,\\n', 'From year to year, very secretly, his income;\\n', 'But properly and slyly he spent it,\\n', 'So that no man wondered how he acquired it.\\n', 'And three years in this manner he led his life,\\n', 'And conducted himself so that, in peace and also in war,\\n', 'There was no man whom Theseus holds dearer.\\n', 'And in this bliss I now leave Arcite,\\n', 'And I will speak of Palamon a little.\\n', 'In darkness and horrible and strong imprisonment\\n', 'These seven years Palamon has sat\\n', 'Wasted by suffering, what for woe and for distress.\\n', 'Who feels double pain and sadness\\n', 'But Palamon, whom love so afflicts\\n', 'That he goes mad, out of his wits because of woe?\\n', 'And also moreover he is a prisoner\\n', 'Perpetually, not just for a year.\\n', 'Who could rime in English properly\\n', 'His martyrdom? In truth it is not I;\\n', 'Therefore I pass on as quickly as I can.\\n', 'It happened that in the seventh year, of May\\n', 'The third night (as old books say,\\n', 'That tell all this story more fully),\\n', 'Whether it was by chance or fate --\\n', 'As, when a thing is pre-ordained, it must be --\\n', 'That soon after midnight Palamon,\\n', 'With the help of a friend, broke out of his prison\\n', 'And flees the city as fast as he can go.\\n', 'For he had so given his jailer drink\\n', 'Of a spiced and sweetened drink made of a certain wine,\\n', 'With narcotics and pure opium of Thebes,\\n', 'That all that night, though men would shake him,\\n', 'The jailer slept; he could not awake.\\n', 'And thus he flees as fast as ever he can.\\n', 'The night was short and very close to the day\\n', 'So that by necessity he must hide himself,\\n', 'And to a grove close by\\n', 'With fearful foot then stalks Palamon.\\n', 'For, shortly, this was his idea:\\n', 'That in that grove he would hide himself all day,\\n', 'And in the night then he would take his way\\n', 'Toward Thebes, to pray his friends\\n', 'To help him to wage war on Theseus;\\n', 'And shortly, he would either lose his life\\n', 'Or win Emelye to be his wife.\\n', 'This is the purpose and his full intent.\\n', 'Now I will turn again to Arcite,\\n', 'That little knew how near his trouble was,\\n', 'To which Fortune had brought him in the snare.\\n', 'The busy lark, messenger of day,\\n', 'Salutes the morning gray in her song,\\n', 'And fiery Phoebus rises up so bright\\n', 'That all the orient laughs because of the light,\\n', 'And with his rays dries in the groves\\n', 'The silver drops hanging on the leaves.\\n', 'And Arcite, who in the royal court\\n', 'With Theseus is chief squire,\\n', 'Is risen and looks on the merry day.\\n', 'And to do his observance to May,\\n', 'Meditating on the object of his desire,\\n', 'He on a war horse, leaping about like the fire,\\n', 'Has ridden into the fields to amuse himself,\\n', 'Out of the court, about a mile or two.\\n', 'And to the grove of which I told you\\n', 'By chance he began to hold his way\\n', 'To make himself a garland of the branches,\\n', 'Were it of woodbine or hawthorn leaves,\\n', 'And loud he sang in the bright sun:\\n', '\"May, with all thy flowers and thy greenery,\\n', 'Welcome be thou, fair, fresh May,\\n', 'In hope that I can get something green.\"\\n', 'And from his war horse, with an eager heart,\\n', 'He rushed into the grove hastily,\\n', 'And in a path he roams up and down,\\n', 'Where by chance this Palamon\\n', 'Was in a thicket, so that no man could see him,\\n', 'For he was sorely afraid of his death.\\n', 'In no way did he know that it was Arcite;\\n', 'God knows he would scarcely have believed it\\n', 'But truly it is said, since many years ago,\\n', 'That \"field has eyes and the wood has ears.\"\\n', 'It is very good for a man to act calmly,\\n', 'For every day people meet at unexpected times.\\n', 'Arcite knows full little of his fellow,\\n', 'Who was near enough to hear all his speech,\\n', 'For in the thicket he sits now very still.\\n', 'When Arcite had roamed all his fill,\\n', 'And sung all the rondel cheerfully,\\n', 'nbsp;                  He fell suddenly into a state of anxiety,\\n', 'As these lovers do in their strange manners,\\n', 'Now in the tree top, now down in the briars,\\n', 'Now up, now down, like a bucket in a well.\\n', 'Exactly like the Friday, truly for to tell,\\n', 'Now it shines, now it rains hard,\\n', 'Just so can fickle Venus sadden\\n', 'The hearts of her folk; just as her day\\n', 'Is changeable, just so she changes her array.\\n', 'Friday is seldom like all the rest of the week.\\n', 'When Arcite had sung, he began to sigh\\n', 'And sat himself down without any more.\\n', '\"Alas,\" he said, \"that day that I was born!\\n', 'How long, Juno, through thy cruelty,\\n', 'Wilt thou make war on the city of Thebes?\\n', 'Alas, to ruin is brought\\n', 'The royal blood of Cadmus and Amphion --\\n', 'Of Cadmus, who was the first man\\n', 'Who built Thebes, before the town first began,\\n', 'And first was crowned king of the city.\\n', 'I am of his lineage and his offspring\\n', 'By true lineage, of the royal family,\\n', 'And now I am so wretched and so enslaved,\\n', 'That he who is my mortal enemy,\\n', 'I meekly serve him as his squire.\\n', 'And yet Juno does me much more shame,\\n', 'For I dare not acknowledge my own name;\\n', 'But whereas I was accustomed to be called Arcite,\\n', 'Now I am called Philostrate, not worth a penny.\\n', 'Alas, thou fierce Mars! Alas, Juno!\\n', 'Thus has your anger destroyed all our lineage,\\n', 'Save only me and wretched Palamon,\\n', 'Whom Theseus torments in prison.\\n', 'And in addition to all this, to slay me utterly\\n', 'Love has his fiery dart so ardently\\n', 'Stabbed through my faithful, sorrowful heart\\n', 'That my death was destined before my first garment was made.\\n', 'You slay me with your eyes, Emelye!\\n', 'You are the cause by which I die.\\n', 'Of all the rest of my other troubles\\n', 'I do not reckon at the value of a weed,\\n', 'Provided that I could do anything to please you.\"\\n', 'And with that word he fell down in a trance\\n', 'A long time, and afterwards he leaped up.\\n', 'This Palamon, that thought that through his heart\\n', 'He felt a cold sword suddenly glide,\\n', 'For anger he trembled; no longer would he wait.\\n', \"And when he had heard Arcite's tale,\\n\", 'As if he were mad, with face dead and pale,\\n', 'He leaped up out of the thick bushes\\n', 'And said: \"Arcite, false, wicked traitor,\\n', 'Now art thou taken, who lovest my lady so,\\n', 'For whom that I have all this pain and woe,\\n', 'And art of my blood, and sworn to be in my confidence,\\n', 'As I full often have told thee before now,\\n', 'And hast tricked here duke Theseus,\\n', 'And thus hast falsely changed thy name!\\n', 'I will be dead, or else thou shalt die.\\n', 'Thou shalt not love my lady Emelye,\\n', 'But I will love her only and no other;\\n', 'For I am Palamon, thy mortal foe.\\n', 'And though I have no weapon in this place,\\n', 'But out of prison am escaped by good luck,\\n', 'I doubt not that either thou shalt dye,\\n', 'Either thou shalt not love Emelye,\\n', 'Choose which thou wish, or thou shalt not escape!\"\\n', 'This Arcite, with full spiteful heart,\\n', 'When he knew him, and had heard his tale,\\n', 'As fierce as a lion pulled out his sword,\\n', 'And said thus: \"By God who sits above,\\n', 'Were it not that thou art sick and mad for love,\\n', 'And also because thou hast no weapon in this place,\\n', 'Thou shouldest never walk out of this grove,\\n', 'Rather thou shouldest die of my hand.\\n', 'For I repudiate the pledge and the bond\\n', 'Which thou sayest that I have made to thee.\\n', 'Lo! True fool, think well that love is free,\\n', 'And I will love her in spite of all thy might!\\n', 'But for as much as thou art a worthy knight\\n', 'And desire to decide the right to her by battle,\\n', 'Have here my pledge; tomorrow I will not fail,\\n', 'Without the knowledge of any other person,\\n', 'But here I will be found as a knight,\\n', 'And bring armor right enough for thee;\\n', 'And choose the best, and leave the worst for me.\\n', 'And food and drink this night will I bring\\n', 'Enough for thee, and bed-clothes for thy bedding.\\n', 'And if it so be that thou win my lady,\\n', 'And slay me in this wood where I am in,\\n', 'Thou mayest well have thy lady as far as I am concerned.\"\\n', 'This Palamon answered, \"I agree.\"\\n', 'And thus they are departed until morning,\\n', 'When each of them had laid his faith as a pledge.\\n', 'O Cupid, devoid of all kindness to others!\\n', 'O reign, that will have no partner with thee!\\n', 'Full truly it is said that love nor lordship\\n', 'Will not, willingly, have any partnership.\\n', 'Arcite and Palamon well find that (to be true).\\n', 'Arcite has ridden immediately into the town,\\n', \"And on the morning, before it was day's light,\\n\", 'Very secretly he has prepared two sets of armor,\\n', 'Both sufficient and suitable to decide\\n', 'The battle in the field between them two;\\n', 'And on his horse, alone as he was born,\\n', 'He carries all the armor before him.\\n', 'And in the grove, at time and place set,\\n', 'This Arcite and this Palamon are met.\\n', 'The color in their faces began to change;\\n', 'Just as the hunters in the reign of Thrace,\\n', 'He who stands at the gap in the forrest with a spear,\\n', 'When the lion or the bear is hunted,\\n', 'And hears him come rushing in the bushes,\\n', 'And breaks both boughs and the leaves,\\n', 'And thinks, \"Here comes my mortal enemy!\\n', 'Without fail, he must be dead, or I,\\n', 'For either I must slay him at the gap,\\n', 'Or he must slay me, if I suffer misfortune.\"\\n', 'So fared they in changing colors of their faces,\\n', 'When each of them knew the other.\\n', \"There was no 'good day,' nor no salutations,\\n\", 'But straightway, without word or conversing,\\n', 'Each one of them helped to arm the other\\n', 'As friendly as if he were his own brother;\\n', 'And after that, with sharp strong spears\\n', 'They thrust at each other a wonderfully long time.\\n', 'Thou mightest suppose that this Palamon\\n', 'In his fighting was a mad lion,\\n', 'And Arcite was like a cruel tiger;\\n', 'They began to smite like wild boars,\\n', 'That froth at the mouth white as foam for mad anger.\\n', 'They fought up to the ankle in their blood.\\n', 'And in this manner I leave them to remain fighting,\\n', 'And forth I will tell you of Theseus.\\n', 'The destiny, general minister,\\n', 'That executes in the world everywhere\\n', 'The providence that God has foreseen,\\n', 'So strong it is that, though the world had sworn\\n', 'The contrary of a thing by yes or no,\\n', 'Yet sometimes it shall happen on one day\\n', 'That happens not again in a thousand years.\\n', 'For certainly, our desires here,\\n', 'Be it of war, or peace, or hate, or love,\\n', 'All this is ruled by the foresight above.\\n', 'I mean this now in regard to mighty Theseus,\\n', 'Who is so desirous to hunt,\\n', 'And especially at the large hart in May,\\n', 'That in his bed there dawns for him no day\\n', 'That he is not clad, and ready to ride\\n', 'With huntsman and horn and hounds beside him.\\n', 'For in his hunting he has such delight\\n', 'That it is all his joy and desire\\n', \"To be himself the large hart's slayer,\\n\", 'For next to Mars he now serves Diana.\\n', 'The day was clear, as I have told before this,\\n', 'And Theseus with all joy and bliss,\\n', 'With his Ypolita, the faire queen,\\n', 'And Emelye, clothed all in green,\\n', 'On hunting they are ridden royally.\\n', 'And to the grove that stood very close by,\\n', 'In which there was a hart, so people told him,\\n', 'Duke Theseus has held the straight way.\\n', 'And directly to the glade he rides,\\n', 'For through there the hart was accustomed to take his escape,\\n', 'And (flee) over a brook, and so forth on his way.\\n', 'This duke will have a run or two at him\\n', 'With such hounds as he pleases to command.\\n', 'And when this duke was come unto the glade,\\n', 'He looks toward the sun, and immediately\\n', 'He was aware of Arcite and Palamon,\\n', 'Who fought as fiercely as if it were two wild boars.\\n', 'The bright swords went to and fro\\n', 'So hideously that with the weakest stroke\\n', 'It seemed as if it would fell an oak.\\n', 'But who they were, he knew nothing.\\n', 'This duke smote his warhorse with his spurs,\\n', 'And with a sudden leap he was between them two,\\n', 'And pulled out a sword and cried, \"Stop!\\n', 'No more, on the penalty of the loss of your head!\\n', 'By mighty Mars, he shall at once be dead\\n', 'Who smites any stroke that I can see.\\n', 'But tell me what sort of men you are,\\n', 'Who are so bold as to fight here\\n', 'Without judge or other officer,\\n', 'As it would be in a properly conducted duel,\"\\n', 'This Palamon answered hastily\\n', 'And said, \"Sire, what more words are needed?\\n', 'We have deserved the death, both of us two.\\n', 'Two woeful wretches are we, two miserable people,\\n', 'Who are burdened down by our own lives;\\n', 'And as thou art a rightful lord and judge,\\n', 'Give us neither mercy nor refuge,\\n', 'But slay me first, by holy charity!\\n', 'But slay my fellow also as well as me;\\n', 'Or slay him first, for though thou little knowest it,\\n', 'This is thy mortal foe, this is Arcite,\\n', 'Who is banished from thy land on (pain of losing) his head,\\n', 'For which he has deserved to be dead.\\n', 'For this is he that came unto thy gate\\n', 'And said that he was called Philostrate.\\n', 'Thus has he tricked thee for many years,\\n', 'And thou hast made him thy chief squire;\\n', 'And this is he that loves Emelye.\\n', 'For since the day is come that I must dye,\\n', 'I make plainly my confession\\n', 'That I am that same woeful Palamon\\n', 'That wickedly has broken (out of) thy prison.\\n', 'I am thy mortal foe, and it is I\\n', 'Who loves the beautiful Emelye so passionately\\n', 'That I will die at this moment in her sight.\\n', 'Therefore I ask death and my judicial sentence;\\n', 'But slay my fellow in the same way,\\n', 'For we have both deserved to be slain.\"\\n', 'This worthy duke answered at once in reply,\\n', 'And said, \"This is a brief (easy) decision.\\n', 'Your own mouth, by your confession,\\n', 'Has condemned you, and I will pronounce it;\\n', 'There is no deed to torture you with the cord.\\n', 'You shall be dead, by mighty Mars the red!\"\\n', 'The queen at once, for true womanliness,\\n', 'Began to weep, and so did Emelye,\\n', 'And all the ladies in the company.\\n', 'Great pity was it, as it seemed to them all,\\n', 'That ever such a misfortune should occur,\\n', 'For they were gentle men of high rank,\\n', 'And this debate was for nothing but love;\\n', 'And saw their bloody wounds wide and sore,\\n', 'And all cried, both low ranking and high,\\n', '\"Have mercy, Lord, upon all of us women!\"\\n', 'And they fall down on their bare knees\\n', 'And would have kissed his feet there where he stood;\\n', 'Until at the last his mood was calmed,\\n', 'For pity comes soon to a gentle heart.\\n', 'And though he first for anger shook and trembled,\\n', 'He has considered shortly, in brief,\\n', 'The trespass of them both, and also the cause,\\n', 'And although his anger reproached them for their guilt,\\n', 'Yet in his reason he excused them both,\\n', 'As thus: he thought well that every man\\n', 'Will help himself in love, if he can,\\n', 'And also deliver himself out of prison.\\n', 'And also his heart had compassion\\n', 'Of women, for they weep continually,\\n', 'And in his gentle heart he thought straightway,\\n', 'And softly to himself he said, \"Fie\\n', 'Upon a lord that will have no mercy,\\n', 'But be a lion, both in word and deed,\\n', 'To those who are in repentance and fear,\\n', 'As well as to a proud, spiteful man\\n', 'Who will persist in what he first began.\\n', 'That lord has little sound judgment,\\n', 'That in such cases knows no distinctions\\n', 'But considers pride and humility equal.\"\\n', 'And shortly, when his anger is thus gone,\\n', 'He began to look up with bright eyes\\n', 'And spoke these same words all aloud:\\n', '\"The god of love, ah, bless my soul!\\n', 'How mighty and how great a lord is he!\\n', 'Against his power there avail no obstacles.\\n', 'He may be called a god for his miracles,\\n', 'For he can make, as he pleases,\\n', 'Of every heart whatever he wants to devise.\\n', 'Lo here this Arcite and this Palamon,\\n', 'Who freely were out of my prison,\\n', 'And could have lived royally in Thebes,\\n', 'And know I am their mortal enemy,\\n', 'And that their death lies in my power also,\\n', 'And yet has Love, despite anything they could do,\\n', 'Brought them both hither to die.\\n', 'Now look, is that not a great folly?\\n', 'Who can be a fool unless he is in love?\\n', 'Behold, for the sake of God who sits above,\\n', 'See how they bleed! Are they not in fine condition?\\n', 'Thus has their lord, the god of love, paid\\n', 'Their wages and their fees for their service!\\n', 'And yet they consider themselves very wise,\\n', 'Those who serve love, whatever may happen.\\n', 'But this is yet the best joke of all,\\n', 'That she for whom they have this sport\\n', 'Owes them as much gratitude for this as she owes me.\\n', 'She knows no more of all this passionate business,\\n', 'By God, than knows a cuckoo or a hare!\\n', 'But all must be tried, hot or cold;\\n', 'A man must be a fool, either young or old --\\n', 'I know it by my own experience very long ago,\\n', 'For in my time I was a servant (of love).\\n', \"And therefore, since I know of love's pain\\n\", 'And know how sorely it can afflict a man,\\n', 'As one who has been often caught in its snare,\\n', 'I wholly forgive you this trespass,\\n', 'At the request of the queen, who kneels here,\\n', 'And also of Emelye, my dear sister.\\n', 'And you must both immediately swear unto me\\n', 'That you shall never more harm my country,\\n', 'Nor make war upon me at any time,\\n', 'But be my friends in all that you can.\\n', 'I forgive you this trespass completely.\"\\n', 'And they fairly and well swore to him (to do) his request,\\n', 'And prayed him to be their lord and to have mercy ,\\n', 'And he grants them his favor, and thus he said:\\n', '\"To speak of royal lineage and riches,\\n', 'Though she were a queen or a princess,\\n', 'Each of you both is worthy, doubtless,\\n', 'To wed when it is time; but none the less --\\n', 'I speak for my sister Emelye,\\n', 'For whom you have this strife and jealousy --\\n', 'You know yourself she can not wed two\\n', 'At once, though you were to fight for evermore,\\n', 'That one of you, whether he likes it or not,\\n', 'He must go whistle in an ivy leaf;\\n', 'This is to say, she can not now have both,\\n', 'Although you be never so jealous nor so angry.\\n', 'And therefore I put you in this situation,\\n', 'That each of you shall have his destiny\\n', 'As is ordained for him, and listen in what way;\\n', 'Lo, hear what I shall arrange for your fate.\\n', 'My will is this, for flat conclusion,\\n', 'Without any arguing --\\n', 'If this pleases you, take it for the best:\\n', 'That each one of you shall go where he pleases\\n', 'Freely, without ransom or resistance,\\n', 'And fifty weeks from this day, more or less,\\n', 'Each one of you shall bring a hundred knights\\n', 'Armed up for the lists in all respects,\\n', 'All ready to decide the right to her by battle.\\n', 'And this I promise you without fail,\\n', 'Upon my word, and as I am a knight,\\n', 'That whichever of you both who has the power --\\n', 'This is to say, that whether he or thou\\n', 'Can with his hundred, as I spoke of now,\\n', 'Slay his opponent, or drive him out of the lists ,\\n', 'Then I shall give Emelye as wife\\n', 'To whom Fortune gives so good a gift (to win the battle).\\n', 'I shall make the lists in this place,\\n', 'And as God may surely have pity on my soul\\n', 'I shall be an impartial and true judge.\\n', 'You shall make no other agreement with me,\\n', '(Save this:) that one of you must be dead or taken.\\n', 'And if it seems to you that this is well said,\\n', 'Say your opinion, and consider yourself satisfied.\\n', 'This is your (destined) end and your conclusion.\"\\n', 'Who but Palamon looks happy now?\\n', 'Who springs up for joy but Arcite?\\n', 'Who could tell, or who could describe in writing,\\n', 'The joy that is made in the place\\n', 'When Theseus has behaved so graciously?\\n', 'But down on knees went every sort of person,\\n', 'And thanked him with all their heart and might,\\n', 'And especially the Thebans many times.\\n', 'And thus with good hope and with happy heart\\n', 'They take their leave, and homeward did they ride\\n', 'To Thebes with his old wide walls.\\n', 'I suppose men would consider it negligence\\n', 'If I forget to tell the expenditure\\n', 'Of Theseus, who goes (about) so busily\\n', 'To build the lists royally,\\n', 'That such a noble theatre as it was\\n', 'I dare well say there was not (another such) in this world.\\n', 'The circumference was a mile around,\\n', 'Walled with stone, and surrounded by a ditch.\\n', 'Round was the shape, in the manner of a circle,\\n', 'Full of tiers of seats, the height of sixty paces,\\n', 'That when a man was set on one tier of seats,\\n', 'He did not hinder his fellow from seeing.\\n', 'Eastward there stood a gate of white marble,\\n', 'Westward just such another on the opposite (side).\\n', 'And shortly to conclude, such a place\\n', 'Was none in earth, (constructed) in so little time;\\n', 'For in the land there was no skilled man\\n', 'Who knows geometry or arithmetic,\\n', 'Nor painter, nor carver of images,\\n', 'That Theseus did not give him food and wages\\n', 'To make and devise the theatre.\\n', 'And to do his rite and sacrifice,\\n', 'He has eastward, upon the gate above,\\n', 'In worship of Venus, goddess of love,\\n', 'Had made an altar and a chapel;\\n', 'And on the westward gate, in memory\\n', 'Of Mars, he has made just such another,\\n', 'That cost fully a cartload of gold.\\n', 'And northward, in a turret on the wall,\\n', 'Of white alabaster and red coral,\\n', 'A chapel, rich to look upon,\\n', 'In worship of Diana of chastity,\\n', 'Has Theseus had made in noble style.\\n', 'But yet had I forgotten to describe\\n', 'The noble sculpture and the portraits,\\n', 'The shape, the appearance, and the figures\\n', 'That were in these three chapels.\\n', 'First in the temple of Venus canst thou see\\n', 'Wrought on the wall, full piteous to behold,\\n', 'The broken sleeps, and the cold sighs,\\n', 'The sacred tears, and the lamenting,\\n', 'The fiery strokes of the desiring\\n', \"That love's servants endure in this life;\\n\", 'The oaths that assure their covenants;\\n', 'Pleasure and Hope, Desire, Foolhardiness,\\n', 'Beauty and Youth, Mirth, Riches,\\n', 'Charms and Force, Lies, Flattery,\\n', 'Expenditures, Attentiveness, and Jealousy,\\n', 'Who wore a garland of yellow marigolds,\\n', 'And a cuckoo sitting on her hand;\\n', 'Feasts, musical instruments, dance-songs, dances,\\n', 'Desire and festivity, and all the details\\n', 'Of love, which I recounted and shall recount,\\n', 'Were painted in sequence on the wall,\\n', 'And more than I can make mention of.\\n', 'For truly all the mount of Cithaeron,\\n', 'Where Venus has her principal dwelling,\\n', 'Was shown on the wall in portraits,\\n', 'With all the garden (of Love) and the pleasure.\\n', 'The porter, Idleness, was not forgotten\\n', 'Nor the handsome Narcissus of many years ago,\\n', 'Nor yet the folly of king Solomon,\\n', 'Nor yet the great strength of Hercules --\\n', 'The enchantments of Medea and Circes --\\n', 'Nor of Turnus, with the hardy fierce courage,\\n', 'The riche Cresus, wretched in servitude.\\n', 'Thus can you see that wisdom nor riches,\\n', 'Beauty nor trickery, strength nor bravery,\\n', 'Can not share power with Venus,\\n', 'For she may rule the world as she pleases.\\n', 'Lo, all these folk were so caught in her snare,\\n', 'Until for woe they very often said \"alas!\"\\n', 'One or two examples here suffice,\\n', 'Even though I could recount a thousand more.\\n', 'The statue of Venus, glorious to look upon,\\n', 'Was naked, floating in the large sea,\\n', 'And from the navel down all was covered\\n', 'With waves green and bright as any glass.\\n', 'She had a citole (zither-like instrument) in her right hand,\\n', 'And on her head, very elegant to look upon,\\n', 'A rose garland, fresh and fragrant;\\n', 'Above her head her doves fluttering.\\n', 'Before her stood her son Cupid;\\n', 'He had two wings upon his shoulders,\\n', 'And he was blind, as it is often seen;\\n', 'He carried a bow and arrows bright and keen.\\n', 'Why should I not as well also tell you all\\n', 'The portraiture that was upon the wall\\n', 'Within the temple of mighty Mars the red?\\n', 'All painted was the wall, in length and breadth,\\n', 'Like to the interior of the grisly place\\n', 'That is called the Great Temple of Mars in Thrace,\\n', 'In that same cold, frosty region\\n', 'Where Mars has his most excellent mansion.\\n', 'First a forest was painted on the wall,\\n', 'In which there dwells neither man nor beast,\\n', 'With knotty, gnarled, barren old trees,\\n', 'Of stumps sharp and hideous to behold,\\n', 'Through which there ran a rumbling in a moaning of wind,\\n', 'As though a storm should burst every bough.\\n', 'And downward from a hill, close to a grassy slope,\\n', 'There stood the temple of Mars, powerful in arms,\\n', 'Wrought all of burnished steel, of which the entry\\n', 'Was long and narrow, and frightening to look upon.\\n', 'And out of there came a rush of wind and such a blast\\n', 'That it made all the gate to shake.\\n', 'The northern light shone in at the doors,\\n', 'For there was no window on the wall,\\n', 'Through which men might discern any light.\\n', 'The door was all of eternal adamant (hardest of stones),\\n', 'Bound crosswise and lengthwise\\n', 'With tough iron; and to make it strong,\\n', 'Every pillar, to support the temple,\\n', 'Was big as a large barrel, (made) of iron bright and shining.\\n', 'There I saw first the malicious plotting\\n', 'Of Felony, and all the scheming;\\n', 'The cruel Anger, red as any glowing coal;\\n', 'The pick-purse, and also the pale Fear;\\n', 'The smiler with the knife under the cloak;\\n', 'The stable burning with the black smoke;\\n', 'The treason of the murdering in the bed;\\n', 'The open war, all covered with blood from wounds:\\n', 'Strife, with bloody knife and sharp menacing.\\n', 'All full of creaking was that sorry place.\\n', 'There yet I saw slayer of himself there --\\n', 'His heart-blood has bathed all his hair --\\n', 'The nail driven in the top of the head at night;\\n', 'The cold death, with mouth gaping upwards.\\n', 'Amidst the temple sat Misfortune,\\n', 'With grief and sorry countenance.\\n', 'Yet I saw Madness, laughing in his rage,\\n', 'Armed Discontent, Alarm, and fierce Violence;\\n', 'The corpse in the woods, with (its) throat cut;\\n', 'A thousand slain, and not killed by the plague;\\n', 'The tyrant, with his prey taken by force;\\n', 'The town destroyed, there was nothing left.\\n', 'Yet I saw burned the ships dancing (on the waves);\\n', 'The hunter killed by the wild bears;\\n', 'The sow devouring the child right in the cradle;\\n', 'The cook scalded, despite his long-handled spoon.\\n', 'Nothing concerning the evil influence of Mars was forgotten.\\n', 'The wagon driver run over by his wagon --\\n', 'He lay down full low under the wheel.\\n', 'There were also, of those influenced by Mars,\\n', 'The barber, and the butcher, and the smith,\\n', 'Who forges sharp swords on his anvil.\\n', 'And all above, painted in a tower,\\n', 'I saw conquest, sitting in great honor,\\n', 'With the sharp sword over his head\\n', 'Hanging by a thin thread of twine.\\n', 'Depicted was the slaughter of Julius,\\n', 'Of great Nero, and of Antonius;\\n', 'Although at that same time they were unborn,\\n', 'Yet was their death depicted before then\\n', 'By menacing of Mars, according to the horoscope;\\n', 'So was it shown in that portraiture,\\n', 'As is depicted in the stars above\\n', 'Who shall be slain or else dead for love.\\n', 'Suffices one illustrative tale in old histories;\\n', 'I can not recount them all even if I desired to.\\n', 'The statue of Mars stood upon a chariot\\n', 'Armed, and looked as grim as if he were mad;\\n', 'And over his head there shine two figures\\n', 'Of stars, that are called in books,\\n', 'That one Puella, that other Rubeus --\\n', 'This god of arms was arrayed thus.\\n', 'A wolf stood there before him at his feet\\n', 'With red eyes, and he ate of a man;\\n', 'With subtle brush was depicted this story\\n', 'In reverence of Mars and of his glory.\\n', 'Now to the temple of Diana the chaste,\\n', 'As briefly as I can, I will hasten myself,\\n', 'To tell you all the description.\\n', 'The walls are painted all over\\n', '(With scenes) of hunting and of modest chastity.\\n', 'There I saw how woeful Callisto,\\n', 'When Diana was angry with her,\\n', 'Was turned from a woman into a bear,\\n', 'And after she was made the North Star\\n', 'Thus was it painted; I can tell you no more.\\n', 'Her son is also a star, as one can see.\\n', 'There I saw Daphne, turned into a tree --\\n', 'I mean not the goddess Diana,\\n', \"But Penneus' daughter, who is called Daphne.\\n\", 'There I saw Actaeon changed into a hart,\\n', 'For vengeance that he saw Diana all naked;\\n', 'I saw how his hounds have caught him\\n', 'And devoured him, because they did not know him.\\n', 'Yet was painted a little further on\\n', 'How Atalanta hunted the wild boar,\\n', 'And Meleager, and many more others,\\n', 'For which Diana wrought him care and woe.\\n', 'There I saw many another wonderful story,\\n', 'The which I do not desire to call to mind.\\n', 'This goddess sat full high on a hart,\\n', 'With small hounds all about her feet,\\n', 'And underneath her feet she had a moon --\\n', 'Waxing it was and should wane soon.\\n', 'Her statue was clothed in yellowish green,\\n', 'With bow in hand and arrows in a quiver.\\n', 'She cast her eyes down full low\\n', 'Where Pluto has his dark region.\\n', 'A woman in childbirth was before her;\\n', 'But because her child was so long unborn,\\n', 'Very piteously did she call on Lucina\\n', 'And said, \"Help, for thou canst (do so) best of all!\"\\n', 'He who made it well knew how to paint in a life-like manner;\\n', 'With many a florin he bought the paints.\\n', 'Now these lists are made, and Theseus,\\n', 'Who at his great cost thus prepared\\n', 'The temples and the theatre in all respects,\\n', 'When it was done, it greatly pleased him.\\n', 'But I will stop speaking of Theseus a little while,\\n', 'And speak of Palamon and of Arcite.\\n', 'The day of their return approaches,\\n', 'When each one should bring a hundred knights\\n', 'To decide the battle, as I told you.\\n', 'And to Athens, to keep their agreement,\\n', 'Each one of them has brought a hundred knights,\\n', 'Well armed for the battle in all respects.\\n', 'And surely many a man there believed\\n', 'That never, since the world began,\\n', 'To speak of knighthood of (the deeds of) their hand,\\n', 'As far as God has made sea or land,\\n', 'Was not of so few so noble a company.\\n', 'For every person that loved chivalry\\n', 'And would, willingly, have an outstanding reputation\\n', 'Has prayed that he might participate in that game;\\n', 'And well it was for him who was chosen to be there,\\n', 'For if there fell tomorrow such a situation,\\n', 'You know well that every vigorous knight\\n', 'Who loves passionately and has his might,\\n', 'Were it in England or elsewhere,\\n', 'They would, willingly, desire to be there --\\n', 'To fight for a lady, bless me!\\n', 'It would be a pleasing sight to see.\\n', 'And right so fared those with Palamon.\\n', 'With him there went knights many a one;\\n', 'One of them will be armed in a coat of mail,\\n', 'And in a breastplate and a light tunic;\\n', 'And one of them will have a set of plate armor;\\n', 'And one of them will have a Prussian shield or a buckler;\\n', 'One of them will be well armed on his legs,\\n', 'And have an axe, and one a mace of steel --\\n', 'There is no new fashion that has not been old.\\n', 'They were armed, as I have told you,\\n', 'Every one according to his preference.\\n', 'There mayst thou seen, coming with Palamon,\\n', 'Lycurgus himself, the great king of Thrace.\\n', 'Black was his beard, and manly was his face;\\n', 'The circles of his eyes in his head,\\n', 'They glowed between yellow and red,\\n', \"And he looked about like a griffin (with an eagle's head),\\n\", 'With shaggy hairs on his stout brows;\\n', 'His limbs large, his muscles hard and strong,\\n', 'His shoulders broad, his arms round and long;\\n', 'And as was the fashion in his country,\\n', 'He stood full high upon a chariot of gold,\\n', 'With four white bulls in the traces.\\n', 'Instead of a tunic with his coat of arms over his armor,\\n', 'With claws yellow and bright as any gold,\\n', \"He had a bear's skin, coal-black because of age.\\n\", 'His long hair was combed behind his back;\\n', \"Like any raven's feather it shone because of its blackness;\\n\", 'A wreath of gold, thick as an arm, of huge weight,\\n', 'Upon his head, set full of bright stones,\\n', 'Of fine rubies and of diamonds.\\n', 'About his chariot there went white wolfhounds,\\n', 'Twenty and more, as big as any steer,\\n', 'To hunt for the lion or the deer,\\n', 'And followed him with muzzles securely bound,\\n', 'Wearing collars of gold, and rings for leashes filed round.\\n', 'He had a hundred lords in his company,\\n', 'Very well armed, with stern and stout hearts.\\n', 'With Arcite, as people find in histories,\\n', 'The great Emetreus, the king of India,\\n', 'Upon a reddish-brown steed with trappings of steel,\\n', 'Covered in cloth of gold, well decorated (with geometric patterns),\\n', 'Came riding like the god of arms, Mars.\\n', 'His tunic with his coat of arms was of cloth of Tarsia (in Turkestan)\\n', 'Adorned with pearls white and round and big;\\n', 'His saddle was newly adorned with pure gold;\\n', 'A short cloak hanging upon his shoulder,\\n', 'Brimful of rubies red as sparkling fire;\\n', 'His curly hair like rings was run (fashioned),\\n', 'And that was yellow, and glittered like the sun.\\n', 'His nose was high, his eyes bright lemon yellow,\\n', 'His lips round, his color was ruddy;\\n', 'A few freckles were sprinkled in his face,\\n', 'Between yellow and somewhat mingled with black;\\n', 'And as a lion he cast about his look.\\n', 'I reckon his age at five and twenty years.\\n', 'His beard had well begun to spring;\\n', 'His voice was like a trumpet thundering.\\n', 'Upon his head he wore of green laurel\\n', 'A garland, fresh and pleasing to look upon.\\n', 'Upon his hand he carried for his delight\\n', 'A tame eagle, white as any lily.\\n', 'He had a hundred lords with him there,\\n', 'All armed, except for their heads, in all their equipment,\\n', 'Very richly in every detail.\\n', 'For trust well that dukes, earls, kings\\n', 'Were gathered in this noble company,\\n', 'For love and for the benefit of chivalry.\\n', 'About this king there ran on all sides\\n', 'Full many a tame lion and leopard.\\n', 'And in this manner these lords, one and all,\\n', 'Are come to the city on the Sunday\\n', 'About nine a.m., and in the town dismounted.\\n', 'This Theseus, this duke, this worthy knight,\\n', 'When he had brought them into his city,\\n', 'And provided them lodging, each one according to his rank,\\n', 'He feasts them, and does such great labor\\n', 'To entertain them and do them all honor\\n', 'That people still believe that the wit of no man\\n', 'Of any rank could do better.\\n', 'The music, the service at the feast,\\n', 'The great gifts to every one,\\n', \"The rich adornment of Theseus' palace,\\n\", 'Nor who sat first nor last upon the dais,\\n', 'What ladies are fairest or best in dancing,\\n', 'Or which of them can dance best and sing,\\n', 'Nor who speaks most feelingly of love;\\n', 'What hawks sit on the perch above,\\n', 'What hounds lie down on the floor --\\n', 'I now make no mention of all this,\\n', 'But (speak only) of the substance; that seems to me the best.\\n', 'Now comes the point, and listen if you please.\\n', 'The Sunday night, before day began to spring,\\n', 'When Palamon heard the lark sing\\n', '(Although it was not day by two hours,\\n', 'Yet sang the lark) and Palamon right then\\n', 'With pious heart and with a noble disposition,\\n', 'He rose to go on his pilgrimage\\n', 'To the blessed gracious Citherea --\\n', 'I mean Venus, honorable and worshipful.\\n', 'And in her (planetary) hour he walks forth slowly\\n', 'Unto the lists where her temple was,\\n', 'And down he kneels, and with humble expression\\n', 'And painful heart he said as you shall hear:\\n', '\"Fairest of the fair, O lady mine, Venus,\\n', 'Daughter to Jove and spouse of Vulcan,\\n', 'Thou maker of joy of the mount of Citheron,\\n', 'For that same love thou haddest to Adonis,\\n', 'Have pity on my bitter, smarting tears,\\n', 'And take my humble prayer to thy heart.\\n', 'Alas! I do not have any language to tell\\n', 'The effects nor the torments of my hell;\\n', 'My heart can not reveal my harms;\\n', 'I am so befuddled that I can not say (anything)\\n', 'But `Mercy, lady bright, who knowest well\\n', \"My thought and seest what harms I feel!'\\n\", 'Consider all this and have pity upon my pain,\\n', 'As surely as I shall for evermore,\\n', 'According to my power (as much as I can), be thy true servant,\\n', 'And make war always against chastity.\\n', 'I make that my vow, providing you help me!\\n', 'I care not to boast of arms\\n', 'Nor do I ask to have victory tomorrow,\\n', 'Nor renown in this case, nor vain glory\\n', 'Nor fame for deeds of arms proclaimed everywhere;\\n', 'But I would have fully possession\\n', 'Of Emelye, and die in thy service.\\n', 'Find thou the manner how and in what way:\\n', 'I care not if it may better be\\n', 'To have victory over them, or they over me,\\n', 'So that I have my lady in my arms.\\n', 'For though it be true that Mars is god of arms,\\n', 'Your power is so great in heaven above\\n', 'That if you please, I shall well have my love.\\n', 'I will worship thy temple evermore,\\n', 'And on thy altar, whether I ride or walk (whatever I do),\\n', 'I will do sacrifice and kindle fires.\\n', 'And if you will not (do) so, my lady sweet,\\n', 'Then I pray thee, tomorrow with a spear\\n', 'That Arcite stab me through the heart.\\n', 'Then I care not, when I have lost my life,\\n', 'Though Arcite win her to be his wife.\\n', 'This is the substance and goal of my prayer:\\n', 'Give me my love, thou blessed dear lady.\"\\n', 'When the prayer of Palamon was done,\\n', 'He did his sacrifice, and that quickly,\\n', 'Full piteously, with all due ceremony,\\n', 'Although I tell not now his observances;\\n', 'But at the last the statue of Venus shook,\\n', 'And made a sign, whereby he understood\\n', 'That his prayer was accepted that day.\\n', 'For though the sign showed a delay,\\n', 'Yet he knew well that his request was granted,\\n', 'And with glad heart he went home very soon.\\n', 'The third planetary hour after Palamon\\n', \"Began to go to Venus' temple,\\n\", 'Up rose the sun, and up rose Emelye\\n', 'And to the temple of Diana did hasten.\\n', 'Her maidens, whom she led thither with her,\\n', 'They had the fire full readily with them,\\n', 'The incense, the cloths, and all the rest\\n', 'That is needed for the sacrifice;\\n', 'The horns full of mead, as was the custom --\\n', 'There lacked nothing (needed) to do her sacrifice.\\n', 'The temple smoking (with incense), full of fair cloths,\\n', 'This Emelye, with gentle heart,\\n', 'Washed her body with water of a well.\\n', 'But how she did her rite I dare not tell,\\n', 'Unless it be some thing in general;\\n', 'And yet it would be a pleasure to hear all.\\n', 'To one who means well it would be no matter of concern;\\n', 'But it is good for a man to be without restriction (speak freely).\\n', 'Her bright hair was combed, all loose;\\n', 'A crown of an evergreen oak\\n', 'Was set upon her head full fair and suitable.\\n', 'Two fires on the altar did she kindle,\\n', 'And did her duties, as men can behold\\n', \"In Statius' Thebaid and such old books.\\n\", 'When the fire was kindled, with a pitiful expression\\n', 'Unto Diana she spoke as you may hear:\\n', '\"O chaste goddess of the green woods,\\n', 'To whom both heaven and earth and sea is visible,\\n', 'Queen of the dark and low reign of Pluto,\\n', 'Goddess of maidens, whom my heart hast known\\n', 'Full many a year, and knowest what I desire,\\n', 'Keep me from thy vengeance and thy ire,\\n', 'Which Acteon paid for cruelly.\\n', 'Chaste goddess, well knowest thou that I\\n', 'Desire to be a maiden all my life,\\n', 'Nor never will I be no lover nor wife.\\n', 'I am, thou knowest, yet of thy company,\\n', 'A maiden, and love hunting and the chase,\\n', 'And to walk in the wild woods,\\n', 'And not to be a wife and be with child.\\n', 'I do not desire to know company of man.\\n', 'Now help me, lady, since you can and know how,\\n', 'For those three forms that thou hast in thee.\\n', 'And Palamon, that has such love to me,\\n', 'And also Arcite, who loves me so painfully,\\n', 'This grace I pray thee and ask no more,\\n', 'Send love and peace between them two,\\n', 'And turn away their hearts from me so\\n', 'That all their hot love and their desire,\\n', 'And all their intense torment, and their fire\\n', 'Will be quenched, or turned to another place.\\n', 'And if it so be thou wilt not do me grace,\\n', 'Or if my destiny is shaped so\\n', 'That I must by necessity have one of them two,\\n', 'Send me him who most desires me.\\n', 'Behold, goddess of clean chastity,\\n', 'The bitter tears that fall on my cheeks.\\n', 'Since thou art maiden and guardian of us all,\\n', 'Thou care for and well conserve my maidenhood,\\n', 'And while I live, as a maiden I will serve thee.\"\\n', 'The fires burn brightly upon the altar,\\n', 'While Emelye was thus in her prayer.\\n', 'But suddenly she saw a curious sight,\\n', 'For right away one of the fires quenched\\n', 'And rekindled again, and after that straightway\\n', 'That other fire was quenched and all gone;\\n', 'And as it quenched it made a roaring sound,\\n', 'As these wet brands do in their burning,\\n', \"And at the brand's end (the fire) ran out straightway\\n\", 'As if it were many bloody drops;\\n', 'For which so sorely frightened was Emelye\\n', 'That she was well nigh mad and began to cry,\\n', 'For she did not know what it signified,\\n', 'But simply for fear has she cried thus,\\n', 'And wept that it was a pity to hear.\\n', 'And right then Diana did appear,\\n', 'With bow in hand, just like a huntress,\\n', 'And said, \"Daughter, cease thy sadness.\\n', 'Among the high gods it is affirmed,\\n', 'And by eternal word written and confirmed,\\n', 'Thou shalt be wedded unto one of those\\n', 'Who have for thee so much care and woe,\\n', 'But unto which of them I may not tell.\\n', 'Farwell, for I can stay no longer .\\n', 'The fires which burn on my altar\\n', 'Shall declare to thee, before thou go hence,\\n', 'Thy destiny concerning love, as in this situation.\"\\n', 'And with that word, the arrows in the quiver\\n', 'Of the goddess clatter fast and ring,\\n', 'And forth she went and vanished;\\n', 'For which this Emelye was astonished,\\n', 'And said, \"What does this mean, alas?\\n', 'I put me in thy protection,\\n', 'Diana, and in thy power.\"\\n', 'And home she goes at once the nearest way.\\n', 'This is the substance; there is no more to say.\\n', 'The next (planetary) hour of Mars following this,\\n', 'Arcite has walked unto the temple\\n', 'Of fierce Mars to do his sacrifice,\\n', 'With all the rites of his pagan manner (of worship).\\n', 'With sorrowful heart and intense devotion,\\n', 'Right thus to Mars he said his prayer:\\n', '\"O strong god, who in the cold reigns\\n', 'Of Thrace art honored and considered lord,\\n', 'And hast in every reign and every land\\n', 'All the control of arms in thy hand,\\n', 'And grants them fortune as it pleases thee to command.\\n', 'Accept of me my sorrowful sacrifice.\\n', 'If it so be that my youth may deserve,\\n', 'And that my power be worthy to serve\\n', 'Thy godhead, so that I may be one of thine,\\n', 'Then pray I thee to have pity upon my pain.\\n', 'For that same pain and that same hot fire\\n', 'In which thou once burned for desire,\\n', 'When that thou enjoyed the beauty\\n', 'Of fair, young, fresh Venus the noble,\\n', 'And haddest her in arms as you wished --\\n', 'Although once things went wrong for you,\\n', 'When Vulcan had caught thee in his snare\\n', 'And found thee lying by his wife, alas! --\\n', 'For that same sorrow that was in thy heart,\\n', 'Have pity as well upon my painful sufferings.\\n', 'I am young and ignorant, as thou knowest,\\n', 'And, as I suppose, injured most by love\\n', 'Than ever was any living creature,\\n', 'For she that causes me to endure all this woe\\n', 'Nor cares never whether I sink or swim.\\n', 'And well I know, before she may promise me mercy,\\n', 'I must win her with strength in the lists,\\n', 'And well I know, without help or grace\\n', 'Of thee my strength can not avail.\\n', 'Then help me, lord, tomorrow in my battle,\\n', 'For that same fire that once burned thee,\\n', 'As well as that same fire now burns me,\\n', 'And bring it about so that I have victory tomorrow.\\n', 'Mine be the labor, and thine be the glory!\\n', 'I will most honor thy most excellent temple\\n', 'Over any place, and always most labor\\n', 'In thy pleasure and in thy strong crafts,\\n', 'And in thy temple I will hang my banner\\n', 'And all the arms of my company,\\n', 'And evermore, until that day I die,\\n', 'Eternal fire I will provide before thee (on your altar).\\n', 'And also I will bind myself to this vow:\\n', 'My beard, my hair, that hangs long down,\\n', 'That never yet felt injury\\n', 'Of razor nor of shears, I will give thee,\\n', 'And be thy true servant while I live.\\n', 'Now, lord, have pity upon my painful sorrows;\\n', 'Give me victory; I ask of thee no more.\"\\n', 'The prayer of Arcite the strong stopped,\\n', 'The rings that hung on the temple door,\\n', 'And also the doors, clattered very fast,\\n', 'Of which Arcite was somewhat afraid.\\n', 'The fires upon the altar burned (so) brightly\\n', 'That it began to illuminate all the temple;\\n', 'A sweet smell the ground at once yielded up,\\n', 'And Arcite immediately raised up his hand,\\n', 'And he cast more incense into the fire,\\n', 'With more other rites; and at the last\\n', 'The statue of Mars began to ring its coat of mail,\\n', 'And with that sound he heard a murmuring\\n', 'Very low and faint, that said thus, \"Victory!\"\\n', 'For which he (Arcite) gave to Mars honor and glory.\\n', 'And thus with joy and hope to fare well\\n', 'Arcite at once is gone unto his lodging,\\n', 'As happy as a fowl is for the bright sun.\\n', 'And right away such strife there is begun,\\n', 'Because of that same grant, in the heaven above,\\n', 'Between Venus, the goddess of love,\\n', 'And Mars, the stern god powerful in arms,\\n', 'That Jupiter was hard put to stop it,\\n', 'Until the pale Saturn the hostile,\\n', 'Who knew so many of old adventures,\\n', 'Found in his old experience a plan\\n', 'That he full soon has pleased every side.\\n', 'As is truly said, old age has a great advantage;\\n', 'In old age is both wisdom and experience;\\n', 'One can outrun the old but not outwit them.\\n', 'Saturn anon, to stop strife and fear,\\n', 'Although it is against his natural disposition,\\n', 'He found a remedy for all this strife.\\n', '\"My dear daughter Venus,\" said Saturn,\\n', '\"My orbit, that has so wide (a course) to turn,\\n', 'Has more power than any man knows.\\n', 'Mine is the drowning in the sea so dark;\\n', 'Mine is the imprisonment in the dark cell;\\n', 'Mine is the killing and hanging by the throat,\\n', \"The murmur (of discontent) and the churls' rebelling,\\n\", 'The grumbling, and the secret poisoning;\\n', 'I exact vengeance and do full punishment,\\n', 'While I dwell in the (zodiacal) sign of the lion.\\n', 'Mine is the ruin of the high halls,\\n', 'The falling of the towers and of the walls\\n', 'Upon the miner or the carpenter.\\n', 'I slew Sampson, shaking the pillar;\\n', 'And mine are the cold maladies,\\n', 'The dark treasons, and the old plots;\\n', 'My (astrological) aspect is the father of pestilence.\\n', 'Now weep no more; I shall do my diligence\\n', 'So that Palamon, who is thine own knight,\\n', 'Shall have his lady, as thou hast promised him.\\n', 'Though Mars shall help his knight, yet nonetheless\\n', 'Between you there must be peace sometime,\\n', 'Although you are not of one (the same) temperament,\\n', 'Which daily causes such dissension.\\n', 'I am thy grandfather, ready (to do) as you wish;\\n', 'Weep now no more; I will fulfill thy desire.\"\\n', 'Now I will stop (speaking) of the gods above,\\n', 'Of Mars, and of Venus, goddess of love,\\n', 'And tell you as plainly as I can\\n', 'The essential part, for which I began.\\n', 'Great was the feast in Athens that day,\\n', 'And also the pleasing season of that May\\n', 'Made every person to be in such delight\\n', 'That all that Monday they joust and dance,\\n', \"And spend that day in Venus's noble service.\\n\", 'But because they must rise\\n', 'Early, to see the great fight,\\n', 'Unto their rest they went at nightfall.\\n', 'And in the morning, when day did spring,\\n', 'Noise and clattering of horses and armor\\n', 'There was in hostelries all about,\\n', 'And to the palace there rode many a company\\n', 'Of lords upon steeds and palfreys.\\n', 'There canst thou see preparation of armor\\n', 'So exotic and so rich, and wrought so well\\n', \"Of goldsmiths' works, of embroidery, and of steel;\\n\", \"The bright shields, horses' head-armor, and horse-armor,\\n\", 'Gold-colored helms, coats of mail, tunics with heraldic devices;\\n', 'Lords in richly decorated robes on their coursers,\\n', 'Knights of (their) retinues, and also squires\\n', 'Nailing heads to the spear-shafts, and buckling helms;\\n', 'Fitting the shields with straps, fastening with laces --\\n', 'Where it is needed they were not at all idle;\\n', 'The steeds frothing on the golden bridles\\n', 'Gnawing, and fast the armorers also\\n', 'With file and hammer are spurring to and fro;\\n', 'Yeomen on foot, and foot soldiers many a one\\n', 'With short staves, thick as they can go;\\n', 'Pipes, trumpets, kettle drums, bugles,\\n', 'That blow bloody sounds in the battle;\\n', 'The palace full of people everywhere,\\n', 'Here three, there ten, debating,\\n', 'Conjecturing about these two Theban knights.\\n', 'Some said thus, some said \"it shall be so\";\\n', 'Some held with him with the black beard,\\n', 'Some with the bald, some with the thickly haired;\\n', 'Some said he looked grim, and he would fight:\\n', '\"He has a battle-ax of twenty pounds of weight.\"\\n', 'Thus was the hall full of conjecturing,\\n', 'Long after the sun began to rise.\\n', 'The great Theseus, who was awakened of his sleep\\n', 'By the music and noise that was made,\\n', 'Remained yet in the chamber of his rich palace\\n', 'Until the Theban knights, both equally\\n', 'Honored, were fetched into the palace.\\n', 'Duke Theseus was set at a window,\\n', 'Arrayed exactly as if he were a god on a throne.\\n', 'The people press thither full soon\\n', 'In order to see him, and to do great reverence,\\n', 'And also to hear his command and his decision.\\n', 'A herald on a scaffold made a \"Ho!\"\\n', 'Until all the noise of people was done,\\n', 'And when he saw the people all still of noise,\\n', \"Then showed he the mighty duke's will:\\n\", '\"The lord has of his great sound judgment\\n', 'Considered that it would be destruction\\n', 'To gentle blood to fight in the manner\\n', 'Of mortal battle now in this undertaking.\\n', 'Wherefore, to arrange matters so that they shall not die,\\n', 'He will modify his previous plan.\\n', 'No man therefore, upon punishment of loss of life,\\n', 'No sort of arrow, nor battle-axe, nor short knife\\n', 'Send into the lists or bring there;\\n', 'Nor short sword, to stab with piercing point,\\n', 'May no man neither draw, nor bear it by his side.\\n', 'And no man shall ride at his opponent\\n', 'More than one course with a sharply honed spear;\\n', 'Let him thrust, if he wishes, on foot, to defend himself.\\n', 'And he who is at a disadvantage shall be taken\\n', 'And not slain, but be brought unto the stake\\n', 'That shall be placed on either side;\\n', 'But thither he must (go) by force, and remain there.\\n', 'And if so happen that the chieftain be taken\\n', 'On either side, or else should slay his opponent,\\n', 'The tournament shall last no longer.\\n', 'God give you success! Go forth and lay on fast!\\n', 'With long sword and with mace fight your fill.\\n', 'Go now on your way; this is the lord\\'s will.\"\\n', 'The voice of people touched the heaven,\\n', 'So loudly they cried with merry voices,\\n', '\"God save such a lord, that is so good\\n', 'He desires no destruction of blood!\"\\n', 'Up go the trumpets and the melody,\\n', 'And to the lists rides the company,\\n', 'In battle array, throughout all the city,\\n', 'Hung with cloth of gold, and not with serge.\\n', 'Fully like a lord this noble duke did ride,\\n', 'These two Thebans upon either side,\\n', 'And after rode the queen and Emelye,\\n', 'And after that another company\\n', 'One after another, according to their rank.\\n', 'And thus they pass throughout the city,\\n', 'And they come to the lists in good time.\\n', 'It was not yet fully prime (nine a.m.) of the day\\n', 'When Theseus was set very splendidly and nobly,\\n', 'Ypolita the queen, and Emelye,\\n', 'And other ladies about in tiers.\\n', 'Unto the seats press all the crowd.\\n', 'And westward, through the gates under Mars,\\n', 'Arcite, and also the hundred of his party,\\n', 'With red banner is entered right away;\\n', 'And in that same moment Palamon\\n', 'Is under Venus, eastward in the place,\\n', 'With white banner and hardy countenance and face.\\n', 'In all the world, to seek up and down,\\n', 'So evenly, without variation,\\n', 'There were not two such companies,\\n', 'For there was no one so wise that could say\\n', 'That any one had advantage over the other\\n', 'In worthiness, nor in status, nor age,\\n', 'So evenly were they chosen, as I estimate.\\n', 'And in two fair ranks they arrange themselves.\\n', 'When every one of their names were read,\\n', 'So that in their total number there would be no deception,\\n', 'Then the gates were shut, and cried was aloud:\\n', '\"Do now your duty, proud young knights!\"\\n', 'The heralds left their spurring up and down;\\n', 'Now trumpets and bugles ring loud.\\n', 'There is no more to say, but from west and east\\n', 'In go the spears very firmly in the lance-rests;\\n', 'In goes the sharp spur into the flank.\\n', 'There people see who can joust and who can ride;\\n', 'There splinter spears upon thick shields;\\n', 'He feels the stabbing through the breast-bone.\\n', 'Up spring spears twenty foot on height;\\n', 'Out go the swords bright as silver;\\n', 'The helms they hew to pieces and cut into shreds\\n', 'Out burst the blood in strong red streams;\\n', 'With mighty maces they break the bones to pieces.\\n', 'He did thrust through the thickest of the throng;\\n', 'There strong steeds stumble, and down goes all,\\n', 'He rolls under foot as does a ball;\\n', 'On his feet he stabs with the broken shaft of his spear,\\n', 'And he hurtles him down with his horse;\\n', 'He is hurt through the body and then taken,\\n', 'Despite all he can do, and brought unto the stake;\\n', 'As was the agreement, right there he must abide.\\n', 'Another on that other side is led away.\\n', 'And for a while Theseus makes them rest,\\n', 'To refresh themselves and drink, if they wish.\\n', 'Many times these two Thebans have\\n', 'Met together, and (each) wrought woe to his opponent;\\n', 'Each has unhorsed the other of them two.\\n', 'There was not any tiger in the vale of Gargaphia,\\n', 'When her whelp is stolen when it is little,\\n', 'So cruel on the hunt as is Arcite\\n', 'For jealous heart upon this Palamon.\\n', 'Nor in Benmarin there is not so fierce a lion,\\n', 'That is hunted, or maddened by his hunger,\\n', 'Nor of his prey desires so the blood,\\n', 'As Palamon to slay his foe Arcite.\\n', 'The fervent strokes bite on their helms;\\n', 'Out runs red blood on both their sides.\\n', 'Some time there is an end of every deed.\\n', 'For before the sun went unto its rest,\\n', 'The strong king Emetreus did seize\\n', 'This Palamon, as he fought with Arcite,\\n', 'And made his sword deep in his flesh to bite,\\n', 'And by the force of twenty he (Palamon) is taken\\n', 'Without having surrendered, and dragged to the stake.\\n', 'And in the rescue of this Palamon\\n', 'The strong king Lygurge is born down,\\n', 'And king Emetreus, despite all his strength,\\n', \"Is carried out of his saddle a sword's length,\\n\", 'So hit him Palamon before he was taken.\\n', 'But all for naught; he was brought to the stake.\\n', 'His hardy heart could not help him:\\n', 'He must abide, when he was caught,\\n', 'By force and also by the agreed terms of battle.\\n', 'Who sorrows now but woeful Palamon,\\n', 'That must no more go again to fight?\\n', 'And when Theseus had seen this sight,\\n', 'Unto each one of the folk that fought thus\\n', 'He cried, \"Stop! no more, for it is done!\\n', 'I will be true judge, and no partisan.\\n', 'Arcite of Thebes shall have Emelye,\\n', 'Who by his fortune has won her fairly.\"\\n', 'Immediately there is a noise of people begun\\n', 'For joy of this, so loud and clamorous indeed\\n', 'It seemed that the lists should fall.\\n', 'What now can fair Venus do above?\\n', 'What says she now? What does this queen of love,\\n', 'But weeps so, for lack of (having) her will,\\n', 'Until her tears fell in the lists?\\n', 'She said, \"I am disgraced, doubtless.\"\\n', 'Saturn said, \"Daughter, hold thy peace!\\n', 'Mars has his will, his knight has all his request,\\n', 'And, by my head, thou shalt be relieved soon.\"\\n', 'The trumpeters, with the loud music,\\n', 'The heralds, who full loudly yell and cry,\\n', 'Are in their happiest state for joy of dan Arcite.\\n', 'But listen to me, and stop the noise for a little,\\n', '(Hear) what a miracle at once befell there.\\n', 'This fierce Arcite has taken off his helm,\\n', 'And on a war horse, to show his face,\\n', 'He spurs from one end to the other of the large open space\\n', 'Looking upward upon this Emelye;\\n', 'And she to him cast a friendly eye\\n', '(For women, so to speak in general,\\n', 'They all follow the favor of Fortune)\\n', 'And was all his source of pleasure, in his heart.\\n', 'Out of the ground leaped an infernal fury,\\n', 'Sent from Pluto at the request of Saturn,\\n', 'For which his horse for fear began to turn,\\n', 'And leaped aside, and stumbled as he leaped;\\n', 'And before Arcite can take heed,\\n', 'He hit himself on the top of his head,\\n', 'That in the place he lay as if he were dead,\\n', 'His breast shattered by his saddlebow.\\n', 'He lay as black as any coal or crow,\\n', 'The blood was so run in his face.\\n', 'Immediately he was carried out of the place,\\n', \"With painful heart, to Theseus's palace.\\n\", 'Then was he cut out of his armor\\n', 'And brought in a bed very gently and quickly,\\n', 'For he was yet conscious and alive,\\n', 'And always crying for Emelye.\\n', 'Duke Theseus, with all his company,\\n', 'Is come home to Athens, his city,\\n', 'With all bliss and great solemnity.\\n', 'Although this accident had happened,\\n', 'He would not distress them all.\\n', 'People said also that Arcite shall not dye;\\n', 'He shall be healed of his injuries.\\n', 'And of another thing they were as happy,\\n', 'That of them all there was no one slain,\\n', 'Although they (were) sorely hurt, and especially one,\\n', 'Whose breastbone was pierced by a spear.\\n', 'To other wounds and to broken arms\\n', 'Some had salves, and some had charms;\\n', 'Medicines made of herbs, and also of sage\\n', 'They drank, for they wanted to have their limbs cured.\\n', 'For which this noble duke, as he well knows how,\\n', 'Comforts and honors every man,\\n', 'And made revel all the long night\\n', 'For the foreign lords, as was right.\\n', 'Nor was it considered any defeat (in battle)\\n', 'But (only) as a joust or a tournament;\\n', 'For truly there was no defeat.\\n', 'For falling is nothing but an accident,\\n', 'Nor to be led by force unto the stake\\n', 'Without having surrendered, and taken by twenty knights,\\n', 'One person alone, without others,\\n', 'And dragged forth by arm, foot, and toe,\\n', 'And also his steed driven forth with staves\\n', 'By men on foot, both yeomen and also foot soldiers --\\n', 'He incurred no shameful blame for it;\\n', 'No man there may call it cowardice.\\n', 'For which anon duke Theseus had proclaimed,\\n', 'To put a stop to all rancor and ill-will,\\n', 'The victory (is given) as well to one side as to the other,\\n', \"And either side equal as the other's brother;\\n\", 'And gave them gifts in accordance with their ranks,\\n', 'And held a feast for fully three days,\\n', 'And honorably escorted the kings\\n', \"Out of his town a full day's journey.\\n\", 'And home went every man the direct way.\\n', 'There was no more but \"Fare well, have good day!\"\\n', 'Of this battle I will write no more,\\n', 'But speak of Palamon and of Arcite.\\n', 'The breast of Arcite swells, and the pain\\n', 'At his heart increases more and more.\\n', 'The clotted blood, despite any medical treatment,\\n', 'Corrupts, and is left in the trunk of his body,\\n', 'That neither blood letting at a vein, nor applying suction cups,\\n', 'Nor drink of herbs can be any help to him.\\n', 'The power expulsive (to expel fluids), or animal,\\n', 'From that power called natural\\n', 'Can not remove nor expel the poison.\\n', 'The pipes of his lungs began to swell,\\n', 'And every muscle down in his breast\\n', 'Is destroyed by poison and corrupted matter.\\n', 'Avails him neither, to preserve his life,\\n', 'Vomit upward, nor downward laxative.\\n', 'All is shattered in that region;\\n', 'Nature now has no power to control.\\n', 'And certainly, where Nature will not work,\\n', 'Fare well medicine! Go bear the man to church!\\n', 'This is the whole of it, that Arcite must die;\\n', 'For which he sends after Emelye,\\n', 'And Palamon, who was his dear cousin.\\n', 'Then said he thus, as you shall after hear:\\n', '\"The woeful spirit in my heart can not\\n', 'Declare one small part of all my painful sorrows\\n', 'To you, my lady, whom I love most,\\n', 'But I bequeath the service of my ghost\\n', 'To you above every creature,\\n', 'Since my life can no longer endure.\\n', 'Alas, the woe! Alas, the strong pains,\\n', 'That I have suffered for you, and so long!\\n', 'Alas, the death! Alas, my Emelye!\\n', 'Alas, separation of our company!\\n', \"Alas, my heart's queen! Alas, my wife,\\n\", \"My heart's lady, ender of my life!\\n\", 'What is this world? What do people ask to have?\\n', 'Now with his love, now in his cold grave\\n', 'Alone, without any company.\\n', 'Fare well, my sweet foe, my Emelye!\\n', 'And softly take me in your two arms,\\n', 'For love of God, and listen to what I say.\\n', '\"I have here with my cousin Palamon\\n', 'Had strife and rancor many a day ago\\n', 'For love of you, and for my jealousy.\\n', 'And as Jupiter may guide my soul,\\n', 'To speak specifically of a servant (of love),\\n', 'With all the attendant attributes truly --\\n', 'That is to say, truth, honor, knighthood,\\n', 'Wisdom, humbleness, rank, and noble ancestry,\\n', 'Nobility of character, and all that belongs to that art --\\n', 'As Jupiter may have concern for my soul,\\n', 'In this world right now I know no one\\n', 'So worthy to be loved as Palamon,\\n', 'Who serves you, and will do so all his life.\\n', 'And if ever you shall be a wife,\\n', 'Forget not Palamon, the gentle man.\"\\n', 'And with that word his speech began to fail,\\n', 'For from his feet up to his breast had come\\n', 'The cold of death, which had overcome him,\\n', 'And yet moreover, for in his two arms\\n', 'The vital strength is lost and all gone.\\n', 'Only the intellect, nothing else,\\n', 'That dwelled in his heart sick and sore,\\n', 'Began to fail when the heart felt death.\\n', 'His two eyes grew dark, and his breath failed,\\n', 'But on his lady yet he cast his eye;\\n', 'His last word was, \"Mercy, Emelye!\"\\n', 'His spirit changed house and went where,\\n', 'Since I came never (there), I can not tell where.\\n', 'Therefore I stop; I am no theologian;\\n', 'I find nothing about souls in this register,\\n', 'Nor do I wish to tell such beliefs\\n', 'Of them, though they write of where they (the souls) dwell.\\n', 'Arcite is cold, may Mars guide his soul!\\n', 'Now will I speak forth of Emelye.\\n', 'Emelye shrieked, and Palamon howls,\\n', 'And Theseus immediately took his sister\\n', 'Swooning, and carried her away from the corpse.\\n', 'What helps it to waste the whole day\\n', 'To tell how she wept both evening and morning?\\n', 'For in such cases women have such sorrow,\\n', 'When their husbands are gone from them,\\n', 'That for the most part they so sorrow,\\n', 'Or else fall in such illness\\n', 'That at the last certainly they die.\\n', 'Infinite are the sorrows and the tears\\n', 'Of old folk and folk of tender years\\n', 'In all the town for the death of this Theban.\\n', 'For him there weep both child and man;\\n', 'There was no such great weeping, certainly,\\n', 'When Hector was brought, just recently slain,\\n', 'To Troy. Alas, the lamentation that was there,\\n', 'Scratching of cheeks, also tearing of hair.\\n', '\"Why wouldst thou be dead,\" these women cry,\\n', '\"Since thou haddest gold enough, and Emelye?\"\\n', 'No man might comfort Theseus,\\n', 'Except for his old father Egeus,\\n', 'Who knew the changes of this world,\\n', 'As he had seen it change both up and down,\\n', 'Joy after woe, and woe after gladness,\\n', 'And showed them examples and comparisons.\\n', '\"Right as there died never a man,\" said he,\\n', '\"Who did not live in earth to some extent\\n', 'Just so there lived never a man,\" he said,\\n', '\"In all this world, who some time did not die.\\n', 'This world is nothing but a thoroughfare full of woe,\\n', 'And we are pilgrims, passing to and fro.\\n', 'Death is an end of every worldly pain.\"\\n', 'And beyond all this yet he said much more\\n', 'To this effect, full wisely to exhort\\n', 'The people that they should comfort themselves.\\n', 'Duke Theseus, with all his careful attention,\\n', 'Considered now where the tomb\\n', 'Of good Arcite may best be made,\\n', 'And also most honorable in (regard to) his rank.\\n', 'And at the last he concluded\\n', 'That there where first Arcite and Palamon\\n', 'Had the battle between them for love,\\n', 'That in that same grove, sweet-smelling and green,\\n', 'Where he had his amorous desires,\\n', 'His lament, and for love his hot fires,\\n', 'He would make a fire in which the rite\\n', 'Of a funeral he might fully perform.\\n', 'And he ordered immediately to hack and hew\\n', 'The old oaks, and lay them in a row\\n', 'In piles arranged to burn well.\\n', 'His officers with swift feet they run\\n', 'And ride quickly at his commandment.\\n', 'And after this, Theseus has sent\\n', 'For a bier, and it all overspread\\n', 'With cloth of gold, the richest that he had.\\n', 'And of the same material he clad Arcite;\\n', 'Upon his hands he had white gloves,\\n', 'Also on his head a crown of green laurel,\\n', 'And in his hand a sword full bright and keen.\\n', 'He laid him, with the face bare, on the bier;\\n', 'Therewith he wept that it was a pity to hear.\\n', 'And in order that all the people should see him,\\n', 'When it was day, he brought him to the hall,\\n', 'That resounds with the crying and the sound.\\n', 'Then came this woeful Theban Palamon,\\n', 'With waving beard and rough hair sprinkled with ashes,\\n', 'In black clothes, all sprinkled with tears;\\n', 'And, excelling others in weeping, Emelye,\\n', 'The most pitiful of all the company.\\n', 'In order that the ritual should be\\n', 'The more noble and rich in its degree,\\n', 'Duke Theseus had three steeds brought forth,\\n', 'That were equipped with trappings of steel all glittering,\\n', 'And covered with the coat of arms of Don Arcite.\\n', 'Upon these steeds, that were large and white,\\n', \"There sat folk, of which one carried his (Arcite's) shield,\\n\", 'Another held his spear upright in his hands,\\n', 'The third carried with him his Turkish bow\\n', '(Of pure gold was the quiver and also the fittings);\\n', 'And they rode forth slowly with sorrowful demeanor\\n', 'Toward the grove, as you shall later hear.\\n', 'The noblest of the Greeks that were there\\n', 'Carried the bier upon their shoulders,\\n', 'With slow pace and eyes red and wet,\\n', 'Throughout the city by the main street,\\n', 'Which was all spread with black, and wonderfully high\\n', 'The street is covered with exactly the same.\\n', 'Upon the right hand went old Egeus,\\n', 'And on that other side duke Theseus,\\n', 'With vessels of pure gold in their hands,\\n', 'All full of honey, milk, and blood, and wine;\\n', 'Also Palamon, with a very large company;\\n', 'And after that came woeful Emelye,\\n', 'With fire in hand, as was at that time the custom,\\n', 'To do the office of funeral service.\\n', 'Much labor and full great preparation\\n', 'Was at the service and the fire-making,\\n', 'Which with its green top reached the heaven;\\n', 'And twenty fathom of breadth the sides stretched --\\n', 'This is to say, the boughs were so broad.\\n', 'There was first laid very many a load of straw.\\n', 'But how the fire was made on high,\\n', 'Nor also the names that the trees are called,\\n', 'Such as oak, fir, birch, aspen, alder, holm oak, poplar,\\n', 'Willow, elm, plane, ash, box, chestnut, linden, laurel,\\n', 'Maple, thorn, beech, hazel, yew, dogwood --\\n', 'How they were cut down shall not be told by me;\\n', 'Nor how the gods ran up and down,\\n', 'Disinherited of their habitation,\\n', 'In which they dwelt in rest and peace,\\n', 'Nymphs, fawns and hamadryades (wood nymphs);\\n', 'Nor how the beasts and the birds all\\n', 'Fled for fear, when the wood was cut down;\\n', 'Nor how frightened by the light was the ground,\\n', 'Which was not accustomed to see the bright sun;\\n', 'Nor how the fire was laid first with straw,\\n', 'And then with dry branches cut in thirds,\\n', 'And then with green wood and mixtures of spices,\\n', 'And then with cloth of gold and with precious stones\\n', 'And garlands, hanging with full many a flower;\\n', 'The myrrh, the incense, with such great fragrance;\\n', 'Nor how Arcite lay among all this,\\n', 'Nor what richness about his body is;\\n', 'Nor how Emelye, as was the custom,\\n', 'Lighted the fire of funeral service;\\n', 'Nor how she swooned when men made the fire,\\n', 'Nor what she spoke, nor what was her desire;\\n', 'Nor what jewels men threw in the fire,\\n', 'When the fire was great and burned fast;\\n', 'Nor how some threw their shields, and some their spears,\\n', 'And of their vestments, which they wore,\\n', 'And cups full of wine, and milk, and blood,\\n', 'Into the fire, that burned as if it were mad;\\n', 'Nor how the Greeks, with a huge company,\\n', 'Thrice ride all the fire about\\n', 'Upon the left hand, with a loud shouting,\\n', 'And thrice with their spears clattering;\\n', 'And thrice how the ladies did cry;\\n', 'And how Emelye was led homeward;\\n', 'Nor how Arcite is burned to cold ashes;\\n', 'Nor how that wake was held\\n', 'All that same night; nor how the Greeks play\\n', 'The funeral games I care not to say\\n', 'Who wrestles best, naked with oil anointed,\\n', 'Nor who bore him best, in any difficulty.\\n', 'I will not tell also how they go\\n', 'Home to Athens, when the games are done;\\n', 'But shortly to the point then I will go\\n', 'And make an end of my long tale.\\n', 'By the course of events and by length of a certain number of years,\\n', 'All stopped is the mourning and the tears\\n', 'Of the Greeks, by one general assent.\\n', 'Then it seemed to me there was a parliament\\n', 'At Athens, upon certain topics and cases;\\n', 'Among which topics was discussed (a proposal)\\n', 'To have alliance with certain countries,\\n', 'And have fully the submission of the Thebans.\\n', 'For which this noble Theseus immediately\\n', 'Ordered (someone) to send for gentle Palamon,\\n', 'Unknown by him (Palamon) what was the cause and why,\\n', 'But in his black clothes sorrowfully\\n', \"He came at his (Theseus's) commandment in haste.\\n\", 'Then Theseus sent for Emelye.\\n', 'When they were set, and all the place was hushed,\\n', 'And Theseus had waited for a while\\n', 'Before any word came from his wise breast,\\n', 'He set his eyes where his object of desire was.\\n', 'And with a sad face he sighed softly,\\n', 'And after that exactly thus he pronounced his decision:\\n', '\"The First Mover of the First Cause above,\\n', 'When he first made the faire chain of love,\\n', 'Great was the effect, and noble was his plan.\\n', 'Well knew he why, and what thereof he meant,\\n', 'For with that faire chain of love he bound\\n', 'The fire, the air, the water, and the land\\n', 'In definite bounds, from which they may not flee.\\n', 'That same Prince and that Mover,\" said he,\\n', '\"Has established in this wretched world below\\n', 'Specific (numbers of) days and (term of) duration\\n', 'To all that is engendered in this place,\\n', 'Beyond the which day they can not pass,\\n', 'Although they may yet well shorten those days.\\n', 'There is no need to cite any written authority,\\n', 'For it is proven by experience,\\n', 'Unless I wish to make my meaning more clear.\\n', 'Then one can by this order well discern\\n', 'That that same Mover is stable and eternal.\\n', 'Well may one know, unless it be a fool,\\n', 'That every part derives from its whole,\\n', 'For nature has not taken its beginning\\n', 'Of no part or portion of a thing,\\n', 'But of a thing that is complete and stable,\\n', 'Descending (from that) until it becomes corruptible.\\n', 'And therefore, by his wise foresight,\\n', 'He has so well established his plan\\n', 'That types of being and natural processes\\n', 'Shall endure (for a set time) one after another,\\n', 'And not eternally, without any lie.\\n', 'This thou canst understand and plainly see.\\n', '\"Lo the oak, that is so slow to mature,\\n', 'From the time that it first begins to spring,\\n', 'And has so long a life, as we may see,\\n', 'Yet at the last the tree is wasted away.\\n', '\"Consider also how the hard stone\\n', 'Under our feet, on which we tread and go,\\n', 'Eventually it is worn away as it lies by the way.\\n', 'The broad river sometimes grows dry;\\n', 'We see the great cities grow weak and pass away.\\n', 'Then you can see that all things have an end.\\n', '\"Of man and woman also we see well\\n', 'That by necessity, in one of these two periods of time --\\n', 'This is to say, in youth or else in age --\\n', 'He must be dead, the king as must a servant boy;\\n', 'One in his bed, one in the deep sea,\\n', 'One in the large field, as people can see;\\n', 'Nothing helps there; all goes that same way.\\n', 'Then may I say that all things must die.\\n', '\"What causes this but Jupiter, the king,\\n', 'Who is prince and cause of all things,\\n', 'Causing all to return to its own origin\\n', 'From which it is derived, to tell the truth?\\n', 'And against this no living creature,\\n', 'Of any rank, is helped by striving.\\n', '\"Then is it wisdom, as it seems to me,\\n', 'To make virtue of necessity,\\n', 'And take it well what we may not escape,\\n', 'And namely that which is due to us all.\\n', 'And whoever complains in any way, he does folly,\\n', 'And is rebel to Him that can rule all.\\n', 'And certainly a man has most honor\\n', 'To die in his (time of) excellence and flower,\\n', 'When he is sure of his good name;\\n', 'Then he has not done his friend, nor himself, any shame.\\n', 'And his friend ought to be more pleased with his death,\\n', 'When his breath is yielded up with honor,\\n', 'Than when his name is faded because of age,\\n', 'For all forgotten is his knightly prowess.\\n', 'Then is it best, for a worthy fame,\\n', 'To die when he has the most fame.\\n', '\"The contrary of all this is willfulness.\\n', 'Why do we complain, why do we have sadness,\\n', 'That good Arcite, flower of chivalry,\\n', 'Is departed with all due honor\\n', 'Out of this foul prison of this life?\\n', 'Why do his cousin and his wife complain here\\n', 'Of the welfare of him, who loved them so well?\\n', 'Can he show them his gratitude? Nay, God knows, not a bit;\\n', 'They offend both his soul and themselves as well,\\n', 'And as yet they may not change their desires.\\n', '\"What can I conclude of this long argument,\\n', 'But after woe I advise us to be merry\\n', 'And thank Jupiter for all his grace?\\n', 'And before we depart from this place\\n', 'I advise that we make of two sorrows\\n', 'One perfect joy, lasting evermore.\\n', 'And look now, where most sorrow is herein,\\n', 'There will we first amend and begin.\\n', '\"Sister,\" said he, \"this is my full intention,\\n', 'With all the advice of my parliament here,\\n', 'That gentle Palamon, your own knight,\\n', 'Who serves you with will, heart, and might,\\n', 'And ever has done so since you first knew him,\\n', 'That you shall of your grace have pity upon him,\\n', 'And take him for husband and for lord.\\n', 'Lend me your hand, for this is our decision.\\n', 'Let your womanly pity now be seen.\\n', \"He is a king's brother's son, indeed;\\n\", 'And even if he were a poor young knight,\\n', 'Since he has served you so many a year,\\n', 'And has had for you such great adversity,\\n', 'It must be taken in account, believe me,\\n', 'For gentle mercy ought to prevail over justice.\"\\n', 'Then said he thus to Palamon the knight:\\n', '\"I suppose little preaching is needed here\\n', 'To make you assent to this thing.\\n', 'Come near, and take your lady by the hand.\"\\n', 'Between them was made right away the bond\\n', 'That is called matrimony or marriage,\\n', 'By all the council and the baronage.\\n', 'And thus with all bliss and festivity\\n', 'Palamon has wedded Emelye.\\n', 'And God, who has made all this wide world,\\n', 'Send him his love who has dearly paid for it;\\n', 'For now is Palamon in complete happiness,\\n', 'Living in bliss, in riches, and in health,\\n', 'And Emelye loves him so tenderly,\\n', 'And he serves her so gently,\\n', 'That never was there any word between them\\n', 'Of jealousy or any other vexation.\\n', 'Thus ends Palamon and Emelye;\\n', 'And God save all this fair company! Amen. \\n']\n",
            "B: ['original', 'Whilom, as olde stories tellen us,\\n', 'Ther was a duc that highte Theseus;\\n', 'Of Atthenes he was lord and governour,\\n', 'And in his tyme swich a conquerour\\n', 'That gretter was ther noon under the sonne.\\n', 'Ful many a riche contree hadde he wonne;\\n', 'What with his wysdom and his chivalrie,\\n', 'He conquered al the regne of Femenye,\\n', 'That whilom was ycleped Scithia,\\n', 'And weddede the queene Ypolita,\\n', 'And broghte hire hoom with hym in his contree\\n', 'With muchel glorie and greet solempnytee,\\n', 'And eek hir yonge suster Emelye.\\n', 'And thus with victorie and with melodye\\n', 'Lete I this noble duc to Atthenes ryde,\\n', 'And al his hoost in armes hym bisyde.\\n', 'And certes, if it nere to long to heere,\\n', 'I wolde have toold yow fully the manere\\n', 'How wonnen was the regne of Femenye\\n', 'By Theseus and by his chivalrye;\\n', 'And of the grete bataille for the nones\\n', 'Bitwixen Atthenes and Amazones;\\n', 'And how asseged was Ypolita,\\n', 'The faire, hardy queene of Scithia;\\n', 'And of the feste that was at hir weddynge,\\n', 'And of the tempest at hir hoom-comynge;\\n', 'But al that thyng I moot as now forbere.\\n', 'I have, God woot, a large feeld to ere,\\n', 'And wayke been the oxen in my plough.\\n', 'The remenant of the tale is long ynough.\\n', 'I wol nat letten eek noon of this route;\\n', 'Lat every felawe telle his tale aboute,\\n', 'And lat se now who shal the soper wynne;\\n', 'And ther I lefte, I wol ayeyn bigynne.\\n', 'This duc, of whom I make mencioun,\\n', 'Whan he was come almoost unto the toun,\\n', 'In al his wele and in his mooste pride,\\n', 'He was war, as he caste his eye aside,\\n', 'Where that ther kneled in the heighe weye\\n', 'A compaignye of ladyes, tweye and tweye,\\n', 'Ech after oother clad in clothes blake;\\n', 'But swich a cry and swich a wo they make\\n', 'That in this world nys creature lyvynge\\n', 'That herde swich another waymentynge;\\n', 'And of this cry they nolde nevere stenten\\n', 'Til they the reynes of his brydel henten.\\n', '\"What folk been ye, that at myn hom-comynge\\n', 'Perturben so my feste with criynge?\"\\n', 'Quod Theseus. \"Have ye so greet envye\\n', 'Of myn honour, that thus compleyne and crye?\\n', 'Or who hath yow mysboden or offended?\\n', 'And telleth me if it may been amended,\\n', 'And why that ye been clothed thus in blak.\"\\n', 'The eldeste lady of them alle spak,\\n', 'Whan she hadde swowned with a deedly cheere,\\n', 'That it was routhe for to seen and heere;\\n', 'She seyde, \"Lord, to whom Fortune hath yiven\\n', 'Victorie, and as a conqueror to lyven,\\n', 'Nat greveth us youre glorie and youre honour,\\n', 'But we biseken mercy and socour.\\n', 'Have mercy on oure wo and oure distresse!\\n', 'Som drope of pitee, thurgh thy gentillesse,\\n', 'Upon us wrecched wommen lat thou falle,\\n', 'For, certes, lord, ther is noon of us alle\\n', 'That she ne hath been a duchesse or a queene.\\n', 'Now be we caytyves, as it is wel seene,\\n', 'Thanked be Fortune and hire false wheel,\\n', 'That noon estaat assureth to be weel.\\n', 'And certes, lord, to abyden youre presence,\\n', 'Heere in this temple of the goddesse Clemence\\n', 'We han ben waitynge al this fourtenyght.\\n', 'Now help us, lord, sith it is in thy myght.\\n', '\"I, wrecche, which that wepe and wayle thus,\\n', 'Was whilom wyf to kyng Cappaneus,\\n', 'That starf at Thebes -- cursed be that day! --\\n', 'And alle we that been in this array\\n', 'And maken al this lamentacioun,\\n', 'We losten alle oure housbondes at that toun,\\n', 'Whil that the seege theraboute lay.\\n', 'And yet now the olde Creon -- weylaway! --\\n', 'That lord is now of Thebes the citee,\\n', 'Fulfild of ire and of iniquitee,\\n', 'He, for despit and for his tirannye,\\n', 'To do the dede bodyes vileynye\\n', 'Of alle oure lordes whiche that been yslawe,\\n', 'Hath alle the bodyes on an heep ydrawe,\\n', 'And wol nat suffren hem, by noon assent,\\n', 'Neither to been yburyed nor ybrent,\\n', 'But maketh houndes ete them in despit.\"\\n', 'And with that word, withouten moore respit,\\n', 'They fillen gruf and criden pitously,\\n', '\"Have on us wrecched wommen som mercy,\\n', 'And lat oure sorwe synken in thyn herte.\"\\n', 'This gentil duc doun from his courser sterte\\n', 'With herte pitous, whan he herde them speke.\\n', 'Hym thoughte that his herte wolde breke,\\n', 'Whan he saugh hem so pitous and so maat,\\n', 'That whilom weren of so greet estaat;\\n', 'And in his armes he hem alle up hente,\\n', 'And hem conforteth in ful good entente,\\n', 'And swoor his ooth, as he was trewe knyght,\\n', 'He wolde doon so ferforthly his myght\\n', 'Upon the tiraunt Creon hem to wreke\\n', 'That al the peple of Grece sholde speke\\n', 'How Creon was of Theseus yserved\\n', 'As he that hadde his deeth ful wel deserved.\\n', 'And right anoon, withouten moore abood,\\n', 'His baner he desplayeth, and forth rood\\n', 'To Thebes-ward, and al his hoost biside.\\n', 'No neer Atthenes wolde he go ne ride,\\n', 'Ne take his ese fully half a day,\\n', 'But onward on his wey that nyght he lay,\\n', 'And sente anon Ypolita the queene,\\n', 'And Emelye, hir yonge suster sheene,\\n', 'Unto the toun of Atthenes to dwelle,\\n', 'And forth he rit; ther is namoore to telle.\\n', 'The rede statue of Mars, with spere and targe,\\n', 'So shyneth in his white baner large\\n', 'That alle the feeldes glyteren up and doun;\\n', 'And by his baner born is his penoun\\n', 'Of gold ful riche, in which ther was ybete\\n', 'The Mynotaur, which that he wan in Crete.\\n', 'Thus rit this duc, thus rit this conquerour,\\n', 'And in his hoost of chivalrie the flour,\\n', 'Til that he cam to Thebes and alighte\\n', 'Faire in a feeld, ther as he thoughte to fighte.\\n', 'But shortly for to speken of this thyng,\\n', 'With Creon, which that was of Thebes kyng,\\n', 'He faught, and slough hym manly as a knyght\\n', 'In pleyn bataille, and putte the folk to flyght;\\n', 'And by assaut he wan the citee after,\\n', 'And rente adoun bothe wall and sparre and rafter;\\n', 'And to the ladyes he restored agayn\\n', 'The bones of hir freendes that were slayn,\\n', 'To doon obsequies, as was tho the gyse.\\n', 'But it were al to longe for to devyse\\n', 'The grete clamour and the waymentynge\\n', 'That the ladyes made at the brennynge\\n', 'Of the bodies, and the grete honour\\n', 'That Theseus, the noble conquerour,\\n', 'Dooth to the ladyes, whan they from hym wente;\\n', 'But shortly for to telle is myn entente.\\n', 'Whan that this worthy duc, this Theseus,\\n', 'Hath Creon slayn and wonne Thebes thus,\\n', 'Stille in that feeld he took al nyght his reste,\\n', 'And dide with al the contree as hym leste.\\n', 'To ransake in the taas of bodyes dede,\\n', 'Hem for to strepe of harneys and of wede,\\n', 'The pilours diden bisynesse and cure\\n', 'After the bataille and disconfiture.\\n', 'And so bifel that in the taas they founde,\\n', 'Thurgh-girt with many a grevous blody wounde,\\n', 'Two yonge knyghtes liggynge by and by,\\n', 'Bothe in oon armes, wroght ful richely,\\n', 'Of whiche two Arcita highte that oon,\\n', 'And that oother knyght highte Palamon.\\n', 'Nat fully quyke, ne fully dede they were,\\n', 'But by hir cote-armures and by hir gere\\n', 'The heraudes knewe hem best in special\\n', 'As they that weren of the blood roial\\n', 'Of Thebes, and of sustren two yborn.\\n', 'Out of the taas the pilours han hem torn,\\n', 'And han hem caried softe unto the tente\\n', 'Of Theseus; and he ful soone hem sente\\n', 'To Atthenes, to dwellen in prisoun\\n', 'Perpetuelly -- he nolde no raunsoun.\\n', 'And whan this worthy duc hath thus ydon,\\n', 'He took his hoost, and hoom he rit anon\\n', 'With laurer crowned as a conquerour;\\n', 'And ther he lyveth in joye and in honour\\n', 'Terme of his lyf; what nedeth wordes mo?\\n', 'And in a tour, in angwissh and in wo,\\n', 'This Palamon and his felawe Arcite\\n', 'For everemoore; ther may no gold hem quite.\\n', 'This passeth yeer by yeer and day by day,\\n', 'Till it fil ones, in a morwe of May,\\n', 'That Emelye, that fairer was to sene\\n', 'Than is the lylie upon his stalke grene,\\n', 'And fressher than the May with floures newe --\\n', 'For with the rose colour stroof hire hewe,\\n', 'I noot which was the fyner of hem two --\\n', 'Er it were day, as was hir wone to do,\\n', 'She was arisen and al redy dight,\\n', 'For May wole have no slogardie anyght.\\n', 'The sesoun priketh every gentil herte,\\n', 'And maketh it out of his slep to sterte,\\n', 'And seith \"Arys, and do thyn observaunce.\"\\n', 'This maked Emelye have remembraunce\\n', 'To doon honour to May, and for to ryse.\\n', 'Yclothed was she fressh, for to devyse:\\n', 'Hir yelow heer was broyded in a tresse\\n', 'Bihynde hir bak, a yerde long, I gesse.\\n', 'And in the gardyn, at the sonne upriste,\\n', 'She walketh up and doun, and as hire liste\\n', 'She gadereth floures, party white and rede,\\n', 'To make a subtil gerland for hire hede;\\n', 'And as an aungel hevenysshly she soong.\\n', 'The grete tour, that was so thikke and stroong,\\n', 'Which of the castel was the chief dongeoun\\n', '(Ther as the knyghtes weren in prisoun\\n', 'Of which I tolde yow and tellen shal),\\n', 'Was evene joynant to the gardyn wal\\n', 'Ther as this Emelye hadde hir pleyynge.\\n', 'Bright was the sonne and cleer that morwenynge,\\n', 'And Palamoun, this woful prisoner,\\n', 'As was his wone, by leve of his gayler,\\n', 'Was risen and romed in a chambre an heigh,\\n', 'In which he al the noble citee seigh,\\n', 'And eek the gardyn, ful of braunches grene,\\n', 'Ther as this fresshe Emelye the shene\\n', 'Was in hire walk, and romed up and doun.\\n', 'This sorweful prisoner, this Palamoun,\\n', 'Goth in the chambre romynge to and fro\\n', 'And to hymself compleynynge of his wo.\\n', 'That he was born, ful ofte he seyde, \"allas!\"\\n', 'And so bifel, by aventure or cas,\\n', 'That thurgh a wyndow, thikke of many a barre\\n', 'Of iren greet and square as any sparre,\\n', 'He cast his eye upon Emelya,\\n', 'And therwithal he bleynte and cride, \"A!\"\\n', 'As though he stongen were unto the herte.\\n', 'And with that cry Arcite anon up sterte\\n', 'And seyde, \"Cosyn myn, what eyleth thee,\\n', 'That art so pale and deedly on to see?\\n', 'Why cridestow? Who hath thee doon offence?\\n', 'For Goddes love, taak al in pacience\\n', 'Oure prisoun, for it may noon oother be.\\n', 'Fortune hath yeven us this adversitee.\\n', 'Som wikke aspect or disposicioun\\n', 'Of Saturne, by som constellacioun,\\n', 'Hath yeven us this, although we hadde it sworn;\\n', 'So stood the hevene whan that we were born.\\n', 'We moste endure it; this is the short and playn.\"\\n', 'This Palamon answerde and seyde agayn,\\n', '\"Cosyn, for sothe, of this opinioun\\n', 'Thow hast a veyn ymaginacioun.\\n', 'This prison caused me nat for to crye,\\n', 'But I was hurt right now thurghout myn ye\\n', 'Into myn herte, that wol my bane be.\\n', 'The fairnesse of that lady that I see\\n', 'Yond in the gardyn romen to and fro\\n', 'Is cause of al my criyng and my wo.\\n', 'I noot wher she be womman or goddesse,\\n', 'But Venus is it soothly, as I gesse.\"\\n', 'And therwithal on knees doun he fil,\\n', 'And seyde, \"Venus, if it be thy wil\\n', 'Yow in this gardyn thus to transfigure\\n', 'Bifore me, sorweful, wrecched creature,\\n', 'Out of this prisoun help that we may scapen.\\n', 'And if so be my destynee be shapen\\n', 'By eterne word to dyen in prisoun,\\n', 'Of oure lynage have som compassioun,\\n', 'That is so lowe ybroght by tirannye.\"\\n', 'And with that word Arcite gan espye\\n', 'Wher as this lady romed to and fro,\\n', 'And with that sighte hir beautee hurte hym so,\\n', 'That, if that Palamon was wounded sore,\\n', 'Arcite is hurt as muche as he, or moore.\\n', 'And with a sigh he seyde pitously,\\n', '\"The fresshe beautee sleeth me sodeynly\\n', 'Of hire that rometh in the yonder place;\\n', 'And but I have hir mercy and hir grace,\\n', 'That I may seen hire atte leeste weye,\\n', 'I nam but deed; ther nis namoore to seye.\"\\n', 'This Palamon, whan he tho wordes herde,\\n', 'Dispitously he looked and answerde,\\n', '\"Wheither seistow this in ernest or in pley?\"\\n', '\"Nay,\" quod Arcite, \"in ernest, by my fey!\\n', 'God helpe me so, me list ful yvele pleye.\"\\n', 'This Palamon gan knytte his browes tweye.\\n', '\"It nere,\" quod he, \"to thee no greet honour\\n', 'For to be fals, ne for to be traitour\\n', 'To me, that am thy cosyn and thy brother\\n', 'Ysworn ful depe, and ech of us til oother,\\n', 'That nevere, for to dyen in the peyne,\\n', 'Til that the deeth departe shal us tweyne,\\n', 'Neither of us in love to hyndre oother,\\n', 'Ne in noon oother cas, my leeve brother,\\n', 'But that thou sholdest trewely forthren me\\n', 'In every cas, as I shal forthren thee --\\n', 'This was thyn ooth, and myn also, certeyn;\\n', 'I woot right wel, thou darst it nat withseyn.\\n', 'Thus artow of my conseil, out of doute,\\n', 'And now thow woldest falsly been aboute\\n', 'To love my lady, whom I love and serve,\\n', 'And evere shal til that myn herte sterve.\\n', 'Nay, certes, false Arcite, thow shalt nat so.\\n', 'I loved hire first, and tolde thee my wo\\n', 'As to my conseil and my brother sworn\\n', 'To forthre me, as I have toold biforn.\\n', 'For which thou art ybounden as a knyght\\n', 'To helpen me, if it lay in thy myght,\\n', 'Or elles artow fals, I dar wel seyn.\"\\n', 'This Arcite ful proudly spak ageyn:\\n', '\"Thow shalt,\" quod he, \"be rather fals than I;\\n', 'And thou art fals, I telle thee outrely,\\n', 'For paramour I loved hire first er thow.\\n', 'What wiltow seyen? Thou woost nat yet now\\n', 'Wheither she be a womman or goddesse!\\n', 'Thyn is affeccioun of hoolynesse,\\n', 'And myn is love as to a creature;\\n', 'For which I tolde thee myn aventure\\n', 'As to my cosyn and my brother sworn.\\n', 'I pose that thow lovedest hire biforn;\\n', 'Wostow nat wel the olde clerkes sawe,\\n', \"That `who shal yeve a lovere any lawe?'\\n\", 'Love is a gretter lawe, by my pan,\\n', 'Than may be yeve to any erthely man;\\n', 'And therfore positif lawe and swich decree\\n', 'Is broken al day for love in ech degree.\\n', 'A man moot nedes love, maugree his heed;\\n', 'He may nat fleen it, thogh he sholde be deed,\\n', 'Al be she mayde, or wydwe, or elles wyf.\\n', 'And eek it is nat likly al thy lyf\\n', 'To stonden in hir grace; namoore shal I;\\n', 'For wel thou woost thyselven, verraily,\\n', 'That thou and I be dampned to prisoun\\n', 'Perpetuelly; us gayneth no raunsoun.\\n', 'We stryve as dide the houndes for the boon;\\n', 'They foughte al day, and yet hir part was noon.\\n', 'Ther cam a kyte, whil that they were so wrothe,\\n', 'And baar awey the boon bitwixe hem bothe.\\n', 'And therfore, at the kynges court, my brother,\\n', 'Ech man for hymself, ther is noon oother.\\n', 'Love, if thee list, for I love and ay shal;\\n', 'And soothly, leeve brother, this is al.\\n', 'Heere in this prisoun moote we endure,\\n', 'And everich of us take his aventure.\"\\n', 'Greet was the strif and long bitwix hem tweye,\\n', 'If that I hadde leyser for to seye;\\n', \"But to th'effect. It happed on a day,\\n\", 'To telle it yow as shortly as I may,\\n', 'A worthy duc that highte Perotheus,\\n', 'That felawe was unto duc Theseus\\n', 'Syn thilke day that they were children lite,\\n', 'Was come to Atthenes his felawe to visite,\\n', 'And for to pleye as he was wont to do;\\n', 'For in this world he loved no man so,\\n', 'And he loved hym als tendrely agayn.\\n', 'So wel they lovede, as olde bookes sayn,\\n', 'That whan that oon was deed, soothly to telle,\\n', 'His felawe wente and soughte hym doun in helle --\\n', 'But of that storie list me nat to write.\\n', 'Duc Perotheus loved wel Arcite,\\n', 'And hadde hym knowe at Thebes yeer by yere,\\n', 'And finally at requeste and preyere\\n', 'Of Perotheus, withouten any raunsoun,\\n', 'Duc Theseus hym leet out of prisoun\\n', 'Frely to goon wher that hym liste over al,\\n', 'In swich a gyse as I you tellen shal.\\n', \"This was the forward, pleynly for t'endite,\\n\", 'Bitwixen Theseus and hym Arcite:\\n', 'That if so were that Arcite were yfounde\\n', 'Evere in his lif, by day or nyght, oo stounde\\n', 'In any contree of this Theseus,\\n', 'And he were caught, it was acorded thus,\\n', 'That with a swerd he sholde lese his heed.\\n', 'Ther nas noon oother remedie ne reed;\\n', 'But taketh his leve, and homward he him spedde.\\n', 'Lat hym be war! His nekke lith to wedde.\\n', 'How greet a sorwe suffreth now Arcite!\\n', 'The deeth he feeleth thurgh his herte smyte;\\n', 'He wepeth, wayleth, crieth pitously;\\n', 'To sleen hymself he waiteth prively.\\n', 'He seyde, \"Allas that day that I was born!\\n', 'Now is my prisoun worse than biforn;\\n', 'Now is me shape eternally to dwelle\\n', 'Noght in purgatorie, but in helle.\\n', 'Allas, that evere knew I Perotheus!\\n', 'For elles hadde I dwelled with Theseus,\\n', 'Yfetered in his prisoun everemo.\\n', 'Thanne hadde I been in blisse and nat in wo.\\n', 'Oonly the sighte of hire whom that I serve,\\n', 'Though that I nevere hir grace may deserve,\\n', 'Wolde han suffised right ynough for me.\\n', 'O deere cosyn Palamon,\" quod he,\\n', '\"Thyn is the victorie of this aventure.\\n', 'Ful blisfully in prison maistow dure --\\n', 'In prison? Certes nay, but in paradys!\\n', 'Wel hath Fortune yturned thee the dys,\\n', \"That hast the sighte of hire, and I th'absence.\\n\", 'For possible is, syn thou hast hire presence,\\n', 'And art a knyght, a worthy and an able,\\n', 'That by som cas, syn Fortune is chaungeable,\\n', 'Thow maist to thy desir somtyme atteyne.\\n', 'But I, that am exiled and bareyne\\n', 'Of alle grace, and in so greet dispeir\\n', 'That ther nys erthe, water, fir, ne eir,\\n', 'Ne creature that of hem maked is,\\n', 'That may me helpe or doon confort in this,\\n', 'Wel oughte I sterve in wanhope and distresse.\\n', 'Farwel my lif, my lust, and my gladnesse!\\n', '\"Allas, why pleynen folk so in commune\\n', 'On purveiaunce of God, or of Fortune,\\n', 'That yeveth hem ful ofte in many a gyse\\n', 'Wel bettre than they kan hemself devyse?\\n', 'Som man desireth for to han richesse,\\n', 'That cause is of his mordre or greet siknesse;\\n', 'And som man wolde out of his prisoun fayn,\\n', 'That in his hous is of his meynee slayn.\\n', 'Infinite harmes been in this mateere.\\n', 'We witen nat what thing we preyen heere;\\n', 'We faren as he that dronke is as a mous.\\n', 'A dronke man woot wel he hath an hous,\\n', 'But he noot which the righte wey is thider,\\n', 'And to a dronke man the wey is slider.\\n', 'And certes, in this world so faren we;\\n', 'We seken faste after felicitee,\\n', 'But we goon wrong ful often, trewely.\\n', 'Thus may we seyen alle, and namely I,\\n', 'That wende and hadde a greet opinioun\\n', 'That if I myghte escapen from prisoun,\\n', 'Thanne hadde I been in joye and parfit heele,\\n', 'Ther now I am exiled fro my wele.\\n', 'Syn that I may nat seen you, Emelye,\\n', 'I nam but deed; ther nys no remedye.\"\\n', 'Upon that oother syde Palamon,\\n', 'Whan that he wiste Arcite was agon,\\n', 'Swich sorwe he maketh that the grete tour\\n', 'Resouneth of his youlyng and clamour.\\n', 'The pure fettres on his shynes grete\\n', 'Weren of his bittre, salte teeres wete.\\n', '\"Allas,\" quod he, \"Arcita, cosyn myn,\\n', 'Of al oure strif, God woot, the fruyt is thyn.\\n', 'Thow walkest now in Thebes at thy large,\\n', 'And of my wo thow yevest litel charge.\\n', 'Thou mayst, syn thou hast wisdom and manhede,\\n', 'Assemblen alle the folk of oure kynrede,\\n', 'And make a werre so sharp on this citee\\n', 'That by som aventure or some tretee\\n', 'Thow mayst have hire to lady and to wyf\\n', 'For whom that I moste nedes lese my lyf.\\n', 'For, as by wey of possibilitee,\\n', 'Sith thou art at thy large, of prisoun free,\\n', 'And art a lord, greet is thyn avauntage\\n', 'Moore than is myn, that sterve here in a cage.\\n', 'For I moot wepe and wayle, whil I lyve,\\n', 'With al the wo that prison may me yive,\\n', 'And eek with peyne that love me yeveth also,\\n', 'That doubleth al my torment and my wo.\"\\n', 'Therwith the fyr of jalousie up sterte\\n', 'Withinne his brest, and hente him by the herte\\n', 'So woodly that he lyk was to biholde\\n', 'The boxtree or the asshen dede and colde.\\n', 'Thanne seyde he, \"O crueel goddes that governe\\n', 'This world with byndyng of youre word eterne,\\n', 'And writen in the table of atthamaunt\\n', 'Youre parlement and youre eterne graunt,\\n', 'What is mankynde moore unto you holde\\n', 'Than is the sheep that rouketh in the folde?\\n', 'For slayn is man right as another beest,\\n', 'And dwelleth eek in prison and arreest,\\n', 'And hath siknesse and greet adversitee,\\n', 'And ofte tymes giltelees, pardee.\\n', '\"What governance is in this prescience,\\n', 'That giltelees tormenteth innocence?\\n', 'And yet encresseth this al my penaunce,\\n', 'That man is bounden to his observaunce,\\n', 'For Goddes sake, to letten of his wille,\\n', 'Ther as a beest may al his lust fulfille.\\n', 'And whan a beest is deed he hath no peyne;\\n', 'But man after his deeth moot wepe and pleyne,\\n', 'Though in this world he have care and wo.\\n', 'Withouten doute it may stonden so.\\n', 'The answere of this lete I to dyvynys,\\n', 'But wel I woot that in this world greet pyne ys.\\n', 'Allas, I se a serpent or a theef,\\n', 'That many a trewe man hath doon mescheef,\\n', 'Goon at his large, and where hym list may turne.\\n', 'But I moot been in prisoun thurgh Saturne,\\n', 'And eek thurgh Juno, jalous and eek wood,\\n', 'That hath destroyed wel ny al the blood\\n', 'Of Thebes with his waste walles wyde;\\n', 'And Venus sleeth me on that oother syde\\n', 'For jalousie and fere of hym Arcite.\"\\n', 'Now wol I stynte of Palamon a lite,\\n', 'And lete hym in his prisoun stille dwelle,\\n', 'And of Arcita forth I wol yow telle.\\n', 'The somer passeth, and the nyghtes longe\\n', 'Encressen double wise the peynes stronge\\n', 'Bothe of the lovere and the prisoner.\\n', 'I noot which hath the wofuller mester.\\n', 'For, shortly for to seyn, this Palamoun\\n', 'Perpetuelly is dampned to prisoun,\\n', 'In cheynes and in fettres to been deed;\\n', 'And Arcite is exiled upon his heed\\n', 'e          For everemo, as out of that contree,\\n', 'Ne nevere mo ne shal his lady see.\\n', 'Yow loveres axe I now this questioun:\\n', 'Who hath the worse, Arcite or Palamoun?\\n', 'That oon may seen his lady day by day,\\n', 'But in prison he moot dwelle alway;\\n', 'That oother wher hym list may ride or go,\\n', 'But seen his lady shal he nevere mo.\\n', 'Now demeth as yow liste, ye that kan,\\n', 'For I wol telle forth as I bigan.\\n', 'Whan that Arcite to Thebes comen was,\\n', 'Ful ofte a day he swelte and seyde \"Allas!\"\\n', 'For seen his lady shal he nevere mo.\\n', 'And shortly to concluden al his wo,\\n', 'So muche sorwe hadde nevere creature\\n', 'That is, or shal, whil that the world may dure.\\n', 'His slep, his mete, his drynke, is hym biraft,\\n', 'That lene he wex and drye as is a shaft;\\n', 'His eyen holwe and grisly to biholde,\\n', 'His hewe falow and pale as asshen colde,\\n', 'And solitarie he was and evere allone,\\n', 'And waillynge al the nyght, makynge his mone;\\n', 'And if he herde song or instrument,\\n', 'Thanne wolde he wepe, he myghte nat be stent.\\n', 'So feble eek were his spiritz, and so lowe,\\n', 'And chaunged so, that no man koude knowe\\n', 'His speche nor his voys, though men it herde.\\n', 'And in his geere for al the world he ferde\\n', 'Nat oonly lik the loveris maladye\\n', 'Of Hereos, but rather lyk manye,\\n', 'Engendred of humour malencolik\\n', 'Biforen, in his celle fantastik.\\n', 'And shortly, turned was al up so doun\\n', 'Bothe habit and eek disposicioun\\n', 'Of hym, this woful lovere daun Arcite.\\n', 'What sholde I al day of his wo endite?\\n', 'Whan he endured hadde a yeer or two\\n', 'This crueel torment and this peyne and wo,\\n', 'At Thebes, in his contree, as I seyde,\\n', 'Upon a nyght in sleep as he hym leyde,\\n', 'Hym thoughte how that the wynged god Mercurie\\n', 'Biforn hym stood and bad hym to be murie.\\n', 'His slepy yerde in hond he bar uprighte;\\n', 'An hat he werede upon his heris brighte.\\n', 'Arrayed was this god, as he took keep,\\n', 'As he was whan that Argus took his sleep;\\n', 'And seyde hym thus: \"To Atthenes shaltou wende,\\n', 'Ther is thee shapen of thy wo an ende.\"\\n', 'And with that word Arcite wook and sterte.\\n', '\"Now trewely, hou soore that me smerte,\"\\n', 'Quod he, \"to Atthenes right now wol I fare,\\n', 'Ne for the drede of deeth shal I nat spare\\n', 'To se my lady, that I love and serve.\\n', 'In hire presence I recche nat to sterve.\"\\n', 'And with that word he caughte a greet mirour,\\n', 'And saugh that chaunged was al his colour,\\n', 'And saugh his visage al in another kynde.\\n', 'And right anon it ran hym in his mynde,\\n', 'That, sith his face was so disfigured\\n', 'Of maladye the which he hadde endured,\\n', 'He myghte wel, if that he bar hym lowe,\\n', 'Lyve in Atthenes everemoore unknowe,\\n', 'And seen his lady wel ny day by day.\\n', 'And right anon he chaunged his array,\\n', 'And cladde hym as a povre laborer,\\n', 'And al allone, save oonly a squier\\n', 'That knew his privetee and al his cas,\\n', 'Which was disgised povrely as he was,\\n', 'To Atthenes is he goon the nexte way.\\n', 'And to the court he wente upon a day,\\n', 'And at the gate he profreth his servyse\\n', 'To drugge and drawe, what so men wol devyse.\\n', 'And shortly of this matere for to seyn,\\n', 'He fil in office with a chamberleyn\\n', 'The which that dwellynge was with Emelye,\\n', 'For he was wys and koude soone espye,\\n', 'Of every servaunt, which that serveth here.\\n', 'Wel koude he hewen wode, and water bere,\\n', 'For he was yong and myghty for the nones,\\n', 'And therto he was long and big of bones\\n', 'To doon that any wight kan hym devyse.\\n', 'A yeer or two he was in this servyse,\\n', 'Page of the chambre of Emelye the brighte,\\n', 'And Philostrate he seyde that he highte.\\n', 'But half so wel biloved a man as he\\n', 'Ne was ther nevere in court of his degree;\\n', 'He was so gentil of condicioun\\n', 'That thurghout al the court was his renoun.\\n', 'They seyden that it were a charitee\\n', 'That Theseus wolde enhauncen his degree,\\n', 'And putten hym in worshipful servyse,\\n', 'Ther as he myghte his vertu excercise.\\n', 'And thus withinne a while his name is spronge,\\n', 'Bothe of his dedes and his goode tonge,\\n', 'That Theseus hath taken hym so neer\\n', 'That of his chambre he made hym a squier,\\n', 'And gaf hym gold to mayntene his degree.\\n', 'And eek men broghte hym out of his contree,\\n', 'From yeer to yeer, ful pryvely his rente;\\n', 'But honestly and slyly he it spente,\\n', 'That no man wondred how that he it hadde.\\n', 'And thre yeer in this wise his lif he ladde,\\n', 'And bar hym so, in pees and eek in werre,\\n', 'Ther was no man that Theseus hath derre.\\n', 'And in this blisse lete I now Arcite,\\n', 'And speke I wole of Palamon a lite.\\n', 'In derknesse and horrible and strong prisoun\\n', 'Thise seven yeer hath seten Palamoun\\n', 'Forpyned, what for wo and for distresse.\\n', 'Who feeleth double soor and hevynesse\\n', 'But Palamon, that love destreyneth so\\n', 'That wood out of his wit he goth for wo?\\n', 'And eek therto he is a prisoner\\n', 'Perpetuelly, noght oonly for a yer.\\n', 'Who koude ryme in Englyssh proprely\\n', 'His martirdom? For sothe it am nat I;\\n', 'Therfore I passe as lightly as I may.\\n', 'It fel that in the seventhe yer, of May\\n', 'The thridde nyght (as olde bookes seyn,\\n', 'That al this storie tellen moore pleyn),\\n', 'Were it by aventure or destynee --\\n', 'As, whan a thyng is shapen, it shal be --\\n', 'That soone after the mydnyght Palamoun,\\n', 'By helpyng of a freend, brak his prisoun\\n', 'And fleeth the citee faste as he may go.\\n', 'For he hadde yeve his gayler drynke so\\n', 'Of a clarree maad of a certeyn wyn,\\n', 'With nercotikes and opie of Thebes fyn,\\n', 'That al that nyght, thogh that men wolde him shake,\\n', 'The gayler sleep; he myghte nat awake.\\n', 'And thus he fleeth as faste as evere he may.\\n', 'The nyght was short and faste by the day\\n', 'That nedes cost he moot hymselven hyde,\\n', 'And til a grove faste ther bisyde\\n', 'With dredeful foot thanne stalketh Palamon.\\n', 'For, shortly, this was his opinion:\\n', 'That in that grove he wolde hym hyde al day,\\n', 'And in the nyght thanne wolde he take his way\\n', 'To Thebes-ward, his freendes for to preye\\n', 'On Theseus to helpe him to werreye;\\n', 'And shortly, outher he wolde lese his lif\\n', 'Or wynnen Emelye unto his wyf.\\n', \"This is th'effect and his entente pleyn.\\n\", 'Now wol I turne to Arcite ageyn,\\n', 'That litel wiste how ny that was his care,\\n', 'Til that Fortune had broght him in the snare.\\n', 'The bisy larke, messager of day,\\n', 'Salueth in hir song the morwe gray,\\n', 'And firy Phebus riseth up so bright\\n', 'That al the orient laugheth of the light,\\n', 'And with his stremes dryeth in the greves\\n', 'The silver dropes hangynge on the leves.\\n', 'And Arcita, that in the court roial\\n', 'With Theseus is principal squier,\\n', 'Is risen and looketh on the myrie day.\\n', 'And for to doon his observaunce to May,\\n', 'Remembrynge on the poynt of his desir,\\n', 'He on a courser, startlynge as the fir,\\n', 'Is riden into the feeldes hym to pleye,\\n', 'Out of the court, were it a myle or tweye.\\n', 'And to the grove of which that I yow tolde\\n', 'By aventure his wey he gan to holde\\n', 'To maken hym a gerland of the greves,\\n', 'Were it of wodebynde or hawethorn leves,\\n', 'And loude he song ayeyn the sonne shene:\\n', '\"May, with alle thy floures and thy grene,\\n', 'Welcome be thou, faire, fresshe May,\\n', 'In hope that I som grene gete may.\"\\n', 'And from his courser, with a lusty herte,\\n', 'Into the grove ful hastily he sterte,\\n', 'And in a path he rometh up and doun,\\n', 'Ther as by aventure this Palamoun\\n', 'Was in a bussh, that no man myghte hym se,\\n', 'For soore afered of his deeth was he.\\n', 'No thyng ne knew he that it was Arcite;\\n', 'God woot he wolde have trowed it ful lite.\\n', 'But sooth is seyd, go sithen many yeres,\\n', 'That \"feeld hath eyen and the wode hath eres.\"\\n', 'It is ful fair a man to bere hym evene,\\n', 'For al day meeteth men at unset stevene.\\n', 'Ful litel woot Arcite of his felawe,\\n', 'That was so ny to herknen al his sawe,\\n', 'For in the bussh he sitteth now ful stille.\\n', 'Whan that Arcite hadde romed al his fille,\\n', 'And songen al the roundel lustily,\\n', 'Into a studie he fil sodeynly,\\n', 'As doon thise loveres in hir queynte geres,\\n', 'Now in the crope, now doun in the breres,\\n', 'Now up, now doun, as boket in a welle.\\n', 'Right as the Friday, soothly for to telle,\\n', 'Now it shyneth, now it reyneth faste,\\n', 'Right so kan geery Venus overcaste\\n', 'The hertes of hir folk; right as hir day\\n', 'Is gereful, right so chaungeth she array.\\n', 'Selde is the Friday al the wowke ylike.\\n', 'Whan that Arcite had songe, he gan to sike\\n', 'And sette hym doun withouten any moore.\\n', '\"Allas,\" quod he, \"that day that I was bore!\\n', 'How longe, Juno, thurgh thy crueltee,\\n', 'Woltow werreyen Thebes the citee?\\n', 'Allas, ybroght is to confusioun\\n', 'The blood roial of Cadme and Amphioun --\\n', 'Of Cadmus, which that was the firste man\\n', 'That Thebes bulte, or first the toun bigan,\\n', 'And of the citee first was crouned kyng.\\n', 'Of his lynage am I and his ofspryng\\n', 'By verray ligne, as of the stok roial,\\n', 'And now I am so caytyf and so thral,\\n', 'That he that is my mortal enemy,\\n', 'I serve hym as his squier povrely.\\n', 'And yet dooth Juno me wel moore shame,\\n', 'For I dar noght biknowe myn owene name;\\n', 'But ther as I was wont to highte Arcite,\\n', 'Now highte I Philostrate, noght worth a myte.\\n', 'Allas, thou felle Mars! Allas, Juno!\\n', 'Thus hath youre ire oure lynage al fordo,\\n', 'Save oonly me and wrecched Palamoun,\\n', 'That Theseus martireth in prisoun.\\n', 'And over al this, to sleen me outrely\\n', 'Love hath his firy dart so brennyngly\\n', 'Ystiked thurgh my trewe, careful herte\\n', 'That shapen was my deeth erst than my sherte.\\n', 'Ye sleen me with youre eyen, Emelye!\\n', 'Ye been the cause wherfore that I dye.\\n', 'Of al the remenant of myn oother care\\n', 'Ne sette I nat the montance of a tare,\\n', 'So that I koude doon aught to youre plesaunce.\"\\n', 'And with that word he fil doun in a traunce\\n', 'A longe tyme, and after he up sterte.\\n', 'This Palamoun, that thoughte that thurgh his herte\\n', 'He felte a coold swerd sodeynliche glyde,\\n', 'For ire he quook; no lenger wolde he byde.\\n', 'And whan that he had herd Arcites tale,\\n', 'As he were wood, with face deed and pale,\\n', 'He stirte hym up out of the buskes thikke\\n', 'And seide: \"Arcite, false traytour wikke,\\n', 'Now artow hent, that lovest my lady so,\\n', 'For whom that I have al this peyne and wo,\\n', 'And art my blood, and to my conseil sworn,\\n', 'As I ful ofte have told thee heerbiforn,\\n', 'And hast byjaped heere duc Theseus,\\n', 'And falsly chaunged hast thy name thus!\\n', 'I wol be deed, or elles thou shalt dye.\\n', 'Thou shalt nat love my lady Emelye,\\n', 'But I wol love hire oonly and namo;\\n', 'For I am Palamon, thy mortal foo.\\n', 'And though that I no wepene have in this place,\\n', 'But out of prison am astert by grace,\\n', 'I drede noght that outher thow shalt dye,\\n', 'Or thow ne shalt nat loven Emelye.\\n', 'Chees which thou wolt, or thou shalt nat asterte!\"\\n', 'This Arcite, with ful despitous herte,\\n', 'Whan he hym knew, and hadde his tale herd,\\n', 'As fiers as leon pulled out his swerd,\\n', 'And seyde thus: \"By God that sit above,\\n', 'Nere it that thou art sik and wood for love,\\n', 'And eek that thow no wepne hast in this place,\\n', 'Thou sholdest nevere out of this grove pace,\\n', 'That thou ne sholdest dyen of myn hond.\\n', 'For I defye the seurete and the bond\\n', 'Which that thou seist that I have maad to thee.\\n', 'What! Verray fool, thynk wel that love is free,\\n', 'And I wol love hire maugree al thy myght!\\n', 'But for as muche thou art a worthy knyght\\n', 'And wilnest to darreyne hire by bataille,\\n', 'Have heer my trouthe; tomorwe I wol nat faille,\\n', 'Withoute wityng of any oother wight,\\n', 'That heere I wol be founden as a knyght,\\n', 'And bryngen harneys right ynough for thee;\\n', 'And ches the beste, and leef the worste for me.\\n', 'And mete and drynke this nyght wol I brynge\\n', 'Ynough for thee, and clothes for thy beddynge.\\n', 'And if so be that thou my lady wynne,\\n', 'And sle me in this wode ther I am inne,\\n', 'Thow mayst wel have thy lady as for me.\"\\n', 'This Palamon answerde, \"I graunte it thee.\"\\n', 'And thus they been departed til amorwe,\\n', 'Whan ech of hem had leyd his feith to borwe.\\n', 'O Cupide, out of alle charitee!\\n', 'O regne, that wolt no felawe have with thee!\\n', 'Ful sooth is seyd that love ne lordshipe\\n', 'Wol noght, his thankes, have no felaweshipe.\\n', 'Wel fynden that Arcite and Palamoun.\\n', 'Arcite is riden anon unto the toun,\\n', 'And on the morwe, er it were dayes light,\\n', 'Ful prively two harneys hath he dight,\\n', 'Bothe suffisaunt and mete to darreyne\\n', 'The bataille in the feeld bitwix hem tweyne;\\n', 'And on his hors, allone as he was born,\\n', 'He carieth al the harneys hym biforn.\\n', 'And in the grove, at tyme and place yset,\\n', 'This Arcite and this Palamon ben met.\\n', 'To chaungen gan the colour in hir face;\\n', 'Right as the hunters in the regne of Trace,\\n', 'That stondeth at the gappe with a spere,\\n', 'Whan hunted is the leon or the bere,\\n', 'And hereth hym come russhyng in the greves,\\n', 'And breketh bothe bowes and the leves,\\n', 'And thynketh, \"Heere cometh my mortal enemy!\\n', 'Withoute faille, he moot be deed, or I,\\n', 'For outher I moot sleen hym at the gappe,\\n', 'Or he moot sleen me, if that me myshappe.\"\\n', 'So ferden they in chaungyng of hir hewe,\\n', 'As fer as everich of hem oother knewe.\\n', 'Ther nas no good day, ne no saluyng,\\n', 'But streight, withouten word or rehersyng,\\n', 'Everich of hem heelp for to armen oother\\n', 'As freendly as he were his owene brother;\\n', 'And after that, with sharpe speres stronge\\n', 'They foynen ech at oother wonder longe.\\n', 'Thou myghtest wene that this Palamon\\n', 'In his fightyng were a wood leon,\\n', 'And as a crueel tigre was Arcite;\\n', 'As wilde bores gonne they to smyte,\\n', 'That frothen whit as foom for ire wood.\\n', 'Up to the ancle foghte they in hir blood.\\n', 'And in this wise I lete hem fightyng dwelle,\\n', 'And forth I wole of Theseus yow telle.\\n', 'The destinee, ministre general,\\n', 'That executeth in the world over al\\n', 'The purveiaunce that God hath seyn biforn,\\n', 'So strong it is that, though the world had sworn\\n', 'The contrarie of a thyng by ye or nay,\\n', 'Yet somtyme it shal fallen on a day\\n', 'That falleth nat eft withinne a thousand yeer.\\n', 'For certeinly, oure appetites heer,\\n', 'Be it of werre, or pees, or hate, or love,\\n', 'Al is this reuled by the sighte above.\\n', 'This mene I now by myghty Theseus,\\n', 'That for to hunten is so desirus,\\n', 'And namely at the grete hert in May,\\n', 'That in his bed ther daweth hym no day\\n', 'That he nys clad, and redy for to ryde\\n', 'With hunte and horn and houndes hym bisyde.\\n', 'For in his huntyng hath he swich delit\\n', 'That it is al his joye and appetit\\n', 'To been hymself the grete hertes bane,\\n', 'For after Mars he serveth now Dyane.\\n', 'Cleer was the day, as I have toold er this,\\n', 'And Theseus with alle joye and blis,\\n', 'With his Ypolita, the faire queene,\\n', 'And Emelye, clothed al in grene,\\n', 'On huntyng be they riden roially.\\n', 'And to the grove that stood ful faste by,\\n', 'In which ther was an hert, as men hym tolde,\\n', 'Duc Theseus the streighte wey hath holde.\\n', 'And to the launde he rideth hym ful right,\\n', 'For thider was the hert wont have his flight,\\n', 'And over a brook, and so forth on his weye.\\n', 'This duc wol han a cours at hym or tweye\\n', 'With houndes swiche as that hym list comaunde.\\n', 'And whan this duc was come unto the launde,\\n', 'Under the sonne he looketh, and anon\\n', 'He was war of Arcite and Palamon,\\n', 'That foughten breme as it were bores two.\\n', 'The brighte swerdes wenten to and fro\\n', 'So hidously that with the leeste strook\\n', 'It semed as it wolde felle an ook.\\n', 'But what they were, no thyng he ne woot.\\n', 'This duc his courser with his spores smoot,\\n', 'And at a stert he was bitwix hem two,\\n', 'And pulled out a swerd and cride, \"Hoo!\\n', 'Namoore, up peyne of lesynge of youre heed!\\n', 'By myghty Mars, he shal anon be deed\\n', 'That smyteth any strook that I may seen.\\n', 'But telleth me what myster men ye been,\\n', 'That been so hardy for to fighten heere\\n', 'Withouten juge or oother officere,\\n', 'As it were in a lystes roially.\"\\n', 'This Palamon answerde hastily\\n', 'And seyde, \"Sire, what nedeth wordes mo?\\n', 'We have the deeth disserved bothe two.\\n', 'Two woful wrecches been we, two caytyves,\\n', 'That been encombred of oure owene lyves;\\n', 'And as thou art a rightful lord and juge,\\n', 'Ne yif us neither mercy ne refuge,\\n', 'But sle me first, for seinte charitee!\\n', 'But sle my felawe eek as wel as me;\\n', 'Or sle hym first, for though thow knowest it lite,\\n', 'This is thy mortal foo, this is Arcite,\\n', 'That fro thy lond is banysshed on his heed,\\n', 'For which he hath deserved to be deed.\\n', 'For this is he that cam unto thy gate\\n', 'And seyde that he highte Philostrate.\\n', 'Thus hath he japed thee ful many a yer,\\n', 'And thou hast maked hym thy chief squier;\\n', 'And this is he that loveth Emelye.\\n', 'For sith the day is come that I shal dye,\\n', 'I make pleynly my confessioun\\n', 'That I am thilke woful Palamoun\\n', 'That hath thy prisoun broken wikkedly.\\n', 'I am thy mortal foo, and it am I\\n', 'That loveth so hoote Emelye the brighte\\n', 'That I wol dye present in hir sighte.\\n', 'Wherfore I axe deeth and my juwise;\\n', 'But sle my felawe in the same wise,\\n', 'For bothe han we deserved to be slayn.\"\\n', 'This worthy duc answerde anon agayn,\\n', 'And seyde, \"This is a short conclusioun.\\n', 'Youre owene mouth, by youre confessioun,\\n', 'Hath dampned yow, and I wol it recorde;\\n', 'It nedeth noght to pyne yow with the corde.\\n', 'Ye shal be deed, by myghty Mars the rede!\"\\n', 'The queene anon, for verray wommanhede,\\n', 'Gan for to wepe, and so dide Emelye,\\n', 'And alle the ladyes in the compaignye.\\n', 'Greet pitee was it, as it thoughte hem alle,\\n', 'That evere swich a chaunce sholde falle,\\n', 'For gentil men they were of greet estaat,\\n', 'And no thyng but for love was this debaat;\\n', 'And saugh hir blody woundes wyde and soore,\\n', 'And alle crieden, bothe lasse and moore,\\n', '\"Have mercy, Lord, upon us wommen alle!\"\\n', 'And on hir bare knees adoun they falle\\n', 'And wolde have kist his feet ther as he stood;\\n', 'Til at the laste aslaked was his mood,\\n', 'For pitee renneth soone in gentil herte.\\n', 'And though he first for ire quook and sterte,\\n', 'He hath considered shortly, in a clause,\\n', 'The trespas of hem bothe, and eek the cause,\\n', 'And although that his ire hir gilt accused,\\n', 'Yet in his resoun he hem bothe excused,\\n', 'As thus: he thoghte wel that every man\\n', 'Wol helpe hymself in love, if that he kan,\\n', 'And eek delivere hymself out of prisoun.\\n', 'And eek his herte hadde compassioun\\n', 'Of wommen, for they wepen evere in oon,\\n', 'And in his gentil herte he thoughte anon,\\n', 'And softe unto hymself he seyde, \"Fy\\n', 'Upon a lord that wol have no mercy,\\n', 'But been a leon, bothe in word and dede,\\n', 'To hem that been in repentaunce and drede,\\n', 'As wel as to a proud despitous man\\n', 'That wol mayntene that he first bigan.\\n', 'That lord hath litel of discrecioun,\\n', 'That in swich cas kan no divisioun\\n', 'But weyeth pride and humblesse after oon.\"\\n', 'And shortly, whan his ire is thus agoon,\\n', 'He gan to looken up with eyen lighte\\n', 'And spak thise same wordes al on highte:\\n', '\"The god of love, a benedicite!\\n', 'How myghty and how greet a lord is he!\\n', 'Ayeyns his myght ther gayneth none obstacles.\\n', 'He may be cleped a god for his myracles,\\n', 'For he kan maken, at his owene gyse,\\n', 'Of everich herte as that hym list divyse.\\n', 'Lo heere this Arcite and this Palamoun,\\n', 'That quitly weren out of my prisoun,\\n', 'And myghte han lyved in Thebes roially,\\n', 'And witen I am hir mortal enemy,\\n', 'And that hir deth lith in my myght also,\\n', 'And yet hath love, maugree hir eyen two,\\n', 'Broght hem hyder bothe for to dye.\\n', 'Now looketh, is nat that an heigh folye?\\n', 'Who may been a fool but if he love?\\n', 'Bihoold, for Goddes sake that sit above,\\n', 'Se how they blede! Be they noght wel arrayed?\\n', 'Thus hath hir lord, the god of love, ypayed\\n', 'Hir wages and hir fees for hir servyse!\\n', 'And yet they wenen for to been ful wyse\\n', 'That serven love, for aught that may bifalle.\\n', 'But this is yet the beste game of alle,\\n', 'That she for whom they han this jolitee\\n', 'Kan hem therfore as muche thank as me.\\n', 'She woot namoore of al this hoote fare,\\n', 'By God, than woot a cokkow or an hare!\\n', 'But all moot ben assayed, hoot and coold;\\n', 'A man moot ben a fool, or yong or oold --\\n', 'I woot it by myself ful yore agon,\\n', 'For in my tyme a servant was I oon.\\n', 'And therfore, syn I knowe of loves peyne\\n', 'And woot hou soore it kan a man distreyne,\\n', 'As he that hath ben caught ofte in his laas,\\n', 'I yow foryeve al hoolly this trespaas,\\n', 'At requeste of the queene, that kneleth heere,\\n', 'And eek of Emelye, my suster deere.\\n', 'And ye shul bothe anon unto me swere\\n', 'That nevere mo ye shal my contree dere,\\n', 'Ne make werre upon me nyght ne day,\\n', 'But been my freendes in all that ye may.\\n', 'I yow foryeve this trespas every deel.\"\\n', 'And they hym sworen his axyng faire and weel,\\n', 'And hym of lordshipe and of mercy preyde,\\n', 'And he hem graunteth grace, and thus he seyde:\\n', '\"To speke of roial lynage and richesse,\\n', 'Though that she were a queene or a princesse,\\n', 'Ech of you bothe is worthy, doutelees,\\n', 'To wedden whan tyme is; but nathelees --\\n', 'I speke as for my suster Emelye,\\n', 'For whom ye have this strif and jalousye --\\n', 'Ye woot yourself she may nat wedden two\\n', 'Atones, though ye fighten everemo,\\n', 'That oon of you, al be hym looth or lief,\\n', 'He moot go pipen in an yvy leef;\\n', 'This is to seyn, she may nat now han bothe,\\n', 'Al be ye never so jalouse ne so wrothe.\\n', 'And forthy I yow putte in this degree,\\n', 'That ech of yow shal have his destynee\\n', 'As hym is shape, and herkneth in what wyse;\\n', 'Lo, heere youre ende of that I shal devyse.\\n', 'My wyl is this, for plat conclusioun,\\n', 'Withouten any repplicacioun --\\n', 'If that you liketh, take it for the beste:\\n', 'That everich of you shal goon where hym leste\\n', 'Frely, withouten raunson or daunger,\\n', 'And this day fifty wykes, fer ne ner,\\n', 'Everich of you shal brynge an hundred knyghtes\\n', 'Armed for lystes up at alle rightes,\\n', 'Al redy to darreyne hire by bataille.\\n', 'And this bihote I yow withouten faille,\\n', 'Upon my trouthe, and as I am a knyght,\\n', 'That wheither of yow bothe that hath myght --\\n', 'This is to seyn, that wheither he or thow\\n', 'May with his hundred, as I spak of now,\\n', 'Sleen his contrarie, or out of lystes dryve,\\n', 'Thanne shal I yeve Emelya to wyve\\n', 'To whom that Fortune yeveth so fair a grace.\\n', 'The lystes shal I maken in this place,\\n', 'And God so wisly on my soule rewe\\n', 'As I shal evene juge been and trewe.\\n', 'Ye shul noon oother ende with me maken,\\n', 'That oon of yow ne shal be deed or taken.\\n', 'And if yow thynketh this is weel ysayd,\\n', 'Seyeth youre avys, and holdeth you apayd.\\n', 'This is youre ende and youre conclusioun.\"\\n', 'Who looketh lightly now but Palamoun?\\n', 'Who spryngeth up for joye but Arcite?\\n', 'Who kouthe telle, or who kouthe it endite,\\n', 'The joye that is maked in the place\\n', 'Whan Theseus hath doon so fair a grace?\\n', 'But doun on knees wente every maner wight,\\n', 'And thonked hym with al hir herte and myght,\\n', 'And namely the Thebans often sithe.\\n', 'And thus with good hope and with herte blithe\\n', 'They taken hir leve, and homward gonne they ride\\n', 'To Thebes with his olde walles wyde.\\n', 'I trowe men wolde deme it necligence\\n', 'If I foryete to tellen the dispence\\n', 'Of Theseus, that gooth so bisily\\n', 'To maken up the lystes roially,\\n', 'That swich a noble theatre as it was\\n', 'I dar wel seyen in this world ther nas.\\n', 'The circuit a myle was aboute,\\n', 'Walled of stoon, and dyched al withoute.\\n', 'Round was the shap, in manere of compas,\\n', 'Ful of degrees, the heighte of sixty pas,\\n', 'That whan a man was set on o degree,\\n', 'He letted nat his felawe for to see.\\n', 'Estward ther stood a gate of marbul whit,\\n', 'Westward right swich another in the opposit.\\n', 'And shortly to concluden, swich a place\\n', 'Was noon in erthe, as in so litel space;\\n', 'For in the lond ther was no crafty man\\n', 'That geometrie or ars-metrike kan,\\n', 'Ne portreyour, ne kervere of ymages,\\n', 'That Theseus ne yaf him mete and wages\\n', 'The theatre for to maken and devyse.\\n', 'And for to doon his ryte and sacrifise,\\n', 'He estward hath, upon the gate above,\\n', 'In worshipe of Venus, goddesse of love,\\n', 'Doon make an auter and an oratorie;\\n', 'And on the gate westward, in memorie\\n', 'Of Mars, he maked hath right swich another,\\n', 'That coste largely of gold a fother.\\n', 'And northward, in a touret on the wal,\\n', 'Of alabastre whit and reed coral,\\n', 'An oratorie, riche for to see,\\n', 'In worshipe of Dyane of chastitee,\\n', 'Hath Theseus doon wroght in noble wyse.\\n', 'But yet hadde I foryeten to devyse\\n', 'The noble kervyng and the portreitures,\\n', 'The shap, the contenaunce, and the figures\\n', 'That weren in thise oratories thre.\\n', 'First in the temple of Venus maystow se\\n', 'Wroght on the wal, ful pitous to biholde,\\n', 'The broken slepes, and the sikes colde,\\n', 'The sacred teeris, and the waymentynge,\\n', 'The firy strokes of the desirynge\\n', 'That loves servantz in this lyf enduren;\\n', 'The othes that hir covenantz assuren;\\n', 'Pleasance and Hope, Desir, Foolhardynesse,\\n', 'Beautee and Youthe, Bauderie, Richesse,\\n', 'Charmes and Force, Lesynges, Flaterye,\\n', 'Despense, Bisynesse, and Jalousye,\\n', 'That wered of yelewe gooldes a gerland,\\n', 'And a cokkow sittynge on hir hand;\\n', 'Festes, instrumentz, caroles, daunces,\\n', 'Lust and array, and alle the circumstaunces\\n', 'Of love, which that I rekned and rekne shal,\\n', 'By ordre weren peynted on the wal,\\n', 'And mo than I kan make of mencioun.\\n', 'For soothly al the mount of Citheroun,\\n', 'Ther Venus hath hir principal dwellynge,\\n', 'Was shewed on the wal in portreyynge,\\n', 'With al the gardyn and the lustynesse.\\n', 'Nat was foryeten the porter, Ydelnesse,\\n', 'Ne Narcisus the faire of yore agon,\\n', 'Ne yet the folye of kyng Salomon,\\n', 'Ne yet the grete strengthe of Ercules --\\n', \"Th'enchauntementz of Medea and Circes --\\n\", 'Ne of Turnus, with the hardy fiers corage,\\n', 'The riche Cresus, kaytyf in servage.\\n', 'Thus may ye seen that wysdom ne richesse,\\n', 'Beautee ne sleighte, strengthe ne hardynesse,\\n', 'Ne may with Venus holde champartie,\\n', 'For as hir list the world than may she gye.\\n', 'Lo, alle thise folk so caught were in hir las,\\n', 'Til they for wo ful ofte seyde \"allas!\"\\n', 'Suffiseth heere ensamples oon or two,\\n', 'And though I koude rekene a thousand mo.\\n', 'The statue of Venus, glorious for to se,\\n', 'Was naked, fletynge in the large see,\\n', 'And fro the navele doun al covered was\\n', 'With wawes grene, and brighte as any glas.\\n', 'A citole in hir right hand hadde she,\\n', 'And on hir heed, ful semely for to se,\\n', 'A rose gerland, fressh and wel smellynge;\\n', 'Above hir heed hir dowves flikerynge.\\n', 'Biforn hire stood hir sone Cupido;\\n', 'Upon his shuldres wynges hadde he two,\\n', 'And blynd he was, as it is often seene;\\n', 'A bowe he bar and arwes brighte and kene.\\n', 'Why sholde I noght as wel eek telle yow al\\n', 'The portreiture that was upon the wal\\n', 'Withinne the temple of myghty Mars the rede?\\n', 'Al peynted was the wal, in lengthe and brede,\\n', 'Lyk to the estres of the grisly place\\n', 'That highte the grete temple of Mars in Trace,\\n', 'In thilke colde, frosty regioun\\n', 'Ther as Mars hath his sovereyn mansioun.\\n', 'First on the wal was peynted a forest,\\n', 'In which ther dwelleth neither man ne best,\\n', 'With knotty, knarry, bareyne trees olde,\\n', 'Of stubbes sharpe and hidouse to biholde,\\n', 'In which ther ran a rumbel in a swough,\\n', 'As though a storm sholde bresten every bough.\\n', 'And dounward from an hille, under a bente,\\n', 'Ther stood the temple of Mars armypotente,\\n', 'Wroght al of burned steel, of which the entree\\n', 'Was long and streit, and gastly for to se.\\n', 'And therout came a rage and swich a veze\\n', 'That it made al the gate for to rese.\\n', 'The northren lyght in at the dores shoon,\\n', 'For wyndowe on the wal ne was ther noon,\\n', 'Thurgh which men myghten any light discerne.\\n', 'The dore was al of adamant eterne,\\n', 'Yclenched overthwart and endelong\\n', 'With iren tough; and for to make it strong,\\n', 'Every pyler, the temple to sustene,\\n', 'Was tonne-greet, of iren bright and shene.\\n', 'Ther saugh I first the derke ymaginyng\\n', 'Of Felonye, and al the compassyng;\\n', 'The crueel Ire, reed as any gleede;\\n', 'The pykepurs, and eek the pale Drede;\\n', 'The smylere with the knyf under the cloke;\\n', 'The shepne brennynge with the blake smoke;\\n', 'The tresoun of the mordrynge in the bedde;\\n', 'The open werre, with woundes al bibledde;\\n', 'Contek, with blody knyf and sharp manace.\\n', 'Al ful of chirkyng was that sory place.\\n', 'The sleere of hymself yet saugh I ther --\\n', 'His herte-blood hath bathed al his heer --\\n', 'The nayl ydryven in the shode anyght;\\n', 'The colde deeth, with mouth gapyng upright.\\n', 'Amyddes of the temple sat Meschaunce,\\n', 'With disconfort and sory contenaunce.\\n', 'Yet saugh I Woodnesse, laughynge in his rage,\\n', 'Armed Compleint, Outhees, and fiers Outrage;\\n', 'The careyne in the busk, with throte ycorve;\\n', 'A thousand slayn, and nat of qualm ystorve;\\n', 'The tiraunt, with the pray by force yraft;\\n', 'The toun destroyed, ther was no thyng laft.\\n', 'Yet saugh I brent the shippes hoppesteres;\\n', 'The hunte strangled with the wilde beres;\\n', 'The sowe freten the child right in the cradel;\\n', 'The cook yscalded, for al his longe ladel.\\n', 'Noght was foryeten by the infortune of Marte.\\n', 'The cartere overryden with his carte --\\n', 'Under the wheel ful lowe he lay adoun.\\n', 'Ther were also, of Martes divisioun,\\n', 'The barbour, and the bocher, and the smyth,\\n', 'That forgeth sharpe swerdes on his styth.\\n', 'And al above, depeynted in a tour,\\n', 'Saugh I Conquest, sittynge in greet honour,\\n', 'With the sharpe swerd over his heed\\n', 'Hangynge by a soutil twynes threed.\\n', 'Depeynted was the slaughtre of Julius,\\n', 'Of grete Nero, and of Antonius;\\n', 'Al be that thilke tyme they were unborn,\\n', 'Yet was hir deth depeynted ther-biforn\\n', 'By manasynge of Mars, right by figure;\\n', 'So was it shewed in that portreiture,\\n', 'As is depeynted in the sterres above\\n', 'Who shal be slayn or elles deed for love.\\n', 'Suffiseth oon ensample in stories olde;\\n', 'I may nat rekene hem alle though I wolde.\\n', 'The statue of Mars upon a carte stood\\n', 'Armed, and looked grym as he were wood;\\n', 'And over his heed ther shynen two figures\\n', 'Of sterres, that been cleped in scriptures,\\n', 'That oon Puella, that oother Rubeus --\\n', 'This god of armes was arrayed thus.\\n', 'A wolf ther stood biforn hym at his feet\\n', 'With eyen rede, and of a man he eet;\\n', 'With soutil pencel was depeynted this storie\\n', 'In redoutynge of Mars and of his glorie.\\n', 'Now to the temple of Dyane the chaste,\\n', 'As shortly as I kan, I wol me haste,\\n', 'To telle yow al the descripsioun.\\n', 'Depeynted been the walles up and doun\\n', 'Of huntyng and of shamefast chastitee.\\n', 'Ther saugh I how woful Calistopee,\\n', 'Whan that Diane agreved was with here,\\n', 'Was turned from a womman til a bere,\\n', 'And after was she maad the loode-sterre.\\n', 'Thus was it peynted; I kan sey yow no ferre.\\n', 'Hir sone is eek a sterre, as men may see.\\n', 'Ther saugh I Dane, yturned til a tree --\\n', 'I mene nat the goddesse Diane,\\n', 'But Penneus doghter, which that highte Dane.\\n', 'Ther saugh I Attheon an hert ymaked,\\n', 'For vengeaunce that he saugh Diane al naked;\\n', 'I saugh how that his houndes have hym caught\\n', 'And freeten hym, for that they knewe hym naught.\\n', 'Yet peynted was a litel forther moor\\n', 'How Atthalante hunted the wilde boor,\\n', 'And Meleagre, and many another mo,\\n', 'For which Dyane wroghte hym care and wo.\\n', 'Ther saugh I many another wonder storie,\\n', 'The which me list nat drawen to memorie.\\n', 'This goddesse on an hert ful hye seet,\\n', 'With smale houndes al aboute hir feet,\\n', 'And undernethe hir feet she hadde a moone --\\n', 'Wexynge it was and sholde wanye soone.\\n', 'In gaude grene hir statue clothed was,\\n', 'With bowe in honde and arwes in a cas.\\n', 'Hir eyen caste she ful lowe adoun\\n', 'Ther Pluto hath his derke regioun.\\n', 'A womman travaillynge was hire biforn;\\n', 'But for hir child so longe was unborn,\\n', 'Ful pitously Lucyna gan she calle\\n', 'And seyde, \"Help, for thou mayst best of alle!\"\\n', 'Wel koude he peynten lifly that it wroghte;\\n', 'With many a floryn he the hewes boghte.\\n', 'Now been thise lystes maad, and Theseus,\\n', 'That at his grete cost arrayed thus\\n', 'The temples and the theatre every deel,\\n', 'Whan it was doon, hym lyked wonder weel.\\n', 'But stynte I wole of Theseus a lite,\\n', 'And speke of Palamon and of Arcite.\\n', 'The day approcheth of hir retournynge,\\n', 'That everich sholde an hundred knyghtes brynge\\n', 'The bataille to darreyne, as I yow tolde.\\n', 'And til Atthenes, hir covenant for to holde,\\n', 'Hath everich of hem broght an hundred knyghtes,\\n', 'Wel armed for the werre at alle rightes.\\n', 'And sikerly ther trowed many a man\\n', 'That nevere, sithen that the world bigan,\\n', 'As for to speke of knyghthod of hir hond,\\n', 'As fer as God hath maked see or lond,\\n', 'Nas of so fewe so noble a compaignye.\\n', 'For every wight that lovede chivalrye\\n', 'And wolde, his thankes, han a passant name,\\n', 'Hath preyed that he myghte been of that game;\\n', 'And wel was hym that therto chosen was,\\n', 'For if ther fille tomorwe swich a cas,\\n', 'Ye knowen wel that every lusty knyght\\n', 'That loveth paramours and hath his myght,\\n', 'Were it in Engelond or elleswhere,\\n', 'They wolde, hir thankes, wilnen to be there --\\n', 'To fighte for a lady, benedicitee!\\n', 'It were a lusty sighte for to see.\\n', 'And right so ferden they with Palamon.\\n', 'With hym ther wenten knyghtes many on;\\n', 'Som wol ben armed in an haubergeoun,\\n', 'And in a brestplate and a light gypoun;\\n', 'And som wol have a paire plates large;\\n', 'And som wol have a Pruce sheeld or a targe;\\n', 'Som wol ben armed on his legges weel,\\n', 'And have an ax, and som a mace of steel --\\n', 'Ther is no newe gyse that it nas old.\\n', 'Armed were they, as I have yow told,\\n', 'Everych after his opinioun.\\n', 'Ther maistow seen, comynge with Palamoun,\\n', 'Lygurge hymself, the grete kyng of Trace.\\n', 'Blak was his berd, and manly was his face;\\n', 'The cercles of his eyen in his heed,\\n', 'They gloweden bitwixen yelow and reed,\\n', 'And lik a grifphon looked he aboute,\\n', 'With kempe heeris on his browes stoute;\\n', 'His lymes grete, his brawnes harde and stronge,\\n', 'His shuldres brode, his armes rounde and longe;\\n', 'And as the gyse was in his contree,\\n', 'Ful hye upon a chaar of gold stood he,\\n', 'With foure white boles in the trays.\\n', 'In stede of cote-armure over his harnays,\\n', 'With nayles yelewe and brighte as any gold,\\n', 'He hadde a beres skyn, col-blak for old.\\n', 'His longe heer was kembd bihynde his bak;\\n', 'As any ravenes fethere it shoon for blak;\\n', 'A wrethe of gold, arm-greet, of huge wighte,\\n', 'Upon his heed, set ful of stones brighte,\\n', 'Of fyne rubyes and of dyamauntz.\\n', 'Aboute his chaar ther wenten white alauntz,\\n', 'Twenty and mo, as grete as any steer,\\n', 'To hunten at the leoun or the deer,\\n', 'And folwed hym with mosel faste ybounde,\\n', 'Colered of gold, and tourettes fyled rounde.\\n', 'An hundred lordes hadde he in his route,\\n', 'Armed ful wel, with hertes stierne and stoute.\\n', 'With Arcita, in stories as men fynde,\\n', 'The grete Emetreus, the kyng of Inde,\\n', 'Upon a steede bay trapped in steel,\\n', 'Covered in clooth of gold, dyapred weel,\\n', 'Cam ridynge lyk the god of armes, Mars.\\n', 'His cote-armure was of clooth of Tars\\n', 'Couched with perles white and rounde and grete;\\n', 'His sadel was of brend gold newe ybete;\\n', 'A mantelet upon his shulder hangynge,\\n', 'Bret-ful of rubyes rede as fyr sparklynge;\\n', 'His crispe heer lyk rynges was yronne,\\n', 'And that was yelow, and glytered as the sonne.\\n', 'His nose was heigh, his eyen bright citryn,\\n', 'His lippes rounde, his colour was sangwyn;\\n', 'A fewe frakenes in his face yspreynd,\\n', 'Bitwixen yelow and somdel blak ymeynd;\\n', 'And as a leon he his lookyng caste.\\n', 'Of fyve and twenty yeer his age I caste.\\n', 'His berd was wel bigonne for to sprynge;\\n', 'His voys was as a trompe thonderynge.\\n', 'Upon his heed he wered of laurer grene\\n', 'A gerland, fressh and lusty for to sene.\\n', 'Upon his hand he bar for his deduyt\\n', 'An egle tame, as any lilye whyt.\\n', 'An hundred lordes hadde he with hym there,\\n', 'Al armed, save hir heddes, in al hir gere,\\n', 'Ful richely in alle maner thynges.\\n', 'For trusteth wel that dukes, erles, kynges\\n', 'Were gadered in this noble compaignye,\\n', 'For love and for encrees of chivalrye.\\n', 'Aboute this kyng ther ran on every part\\n', 'Ful many a tame leon and leopart.\\n', 'And in this wise thise lordes, alle and some,\\n', 'Been on the Sonday to the citee come\\n', 'Aboute pryme, and in the toun alight.\\n', 'This Theseus, this duc, this worthy knyght,\\n', 'Whan he had broght hem into his citee,\\n', 'And inned hem, everich at his degree,\\n', 'He festeth hem, and dooth so greet labour\\n', 'To esen hem and doon hem al honour\\n', 'That yet men wenen that no mannes wit\\n', 'Of noon estaat ne koude amenden it.\\n', 'The mynstralcye, the service at the feeste,\\n', 'The grete yiftes to the meeste and leeste,\\n', 'The riche array of Theseus paleys,\\n', 'Ne who sat first ne last upon the deys,\\n', 'What ladyes fairest been or best daunsynge,\\n', 'Or which of hem kan dauncen best and synge,\\n', 'Ne who moost felyngly speketh of love;\\n', 'What haukes sitten on the perche above,\\n', 'What houndes liggen on the floor adoun --\\n', 'Of al this make I now no mencioun,\\n', \"But al th' effect; that thynketh me the beste.\\n\", 'Now cometh the point, and herkneth if yow leste.\\n', 'The Sonday nyght, er day bigan to sprynge,\\n', 'Whan Palamon the larke herde synge\\n', '(Although it nere nat day by houres two,\\n', 'Yet the larke sang) and Palamon right then\\n', 'With hooly herte and with an heigh corage,\\n', 'He roos to wenden on his pilgrymage\\n', 'Unto the blissful Citherea benign --\\n', 'I mene Venus, honurable and digne.\\n', 'And in hir houre he walketh forth a pas\\n', 'Unto the lystes ther hire temple was,\\n', 'And doun he kneleth, and with humble cheere\\n', 'And herte soor he seyde as ye shal heere:\\n', '\"Faireste of faire, O lady myn, Venus,\\n', 'Doughter to Jove and spouse of Vulcanus,\\n', 'Thow gladere of the mount of Citheron,\\n', 'For thilke love thow haddest to Adoon,\\n', 'Have pitee of my bittre teeris smerte,\\n', 'And taak myn humble preyere at thyn herte.\\n', 'Allas! I ne have no langage to telle\\n', \"Th'effectes ne the tormentz of myn helle;\\n\", 'Myn herte may myne harmes nat biwreye;\\n', 'I am so confus that I kan noght seye\\n', 'But `Mercy, lady bright, that knowest weele\\n', \"My thought and seest what harmes that I feele!'\\n\", 'Considere al this and rewe upon my soore,\\n', 'As wisly as I shal for everemoore,\\n', 'Emforth my myght, thy trewe servant be,\\n', 'And holden werre alwey with chastitee.\\n', 'That make I myn avow, so ye me helpe!\\n', 'I kepe noght of armes for to yelpe,\\n', 'Ne I ne axe nat tomorwe to have victorie,\\n', 'Ne renoun in this cas, ne veyne glorie\\n', 'Of pris of armes blowen up and doun;\\n', 'But I wolde have fully possessioun\\n', 'Of Emelye, and dye in thy servyse.\\n', 'Fynd thow the manere hou and in what wyse:\\n', 'I recche nat but it may bettre be\\n', 'To have victorie of hem, or they of me,\\n', 'So that I have my lady in myne armes.\\n', 'For though so be that Mars is god of armes,\\n', 'Youre vertu is so greet in hevene above\\n', 'That if yow list, I shal wel have my love.\\n', 'Thy temple wol I worshipe everemo,\\n', 'And on thyn auter, where I ride or go,\\n', 'I wol doon sacrifice and fires beete.\\n', 'And if ye wol nat so, my lady sweete,\\n', 'Thanne preye I thee, tomorwe with a spere\\n', 'That Arcita me thurgh the herte bere.\\n', 'Thanne rekke I noght, whan I have lost my lyf,\\n', 'Though that Arcita wynne hire to his wyf.\\n', \"This is th'effect and ende of my preyere:\\n\", 'Yif me my love, thow blisful lady deere.\"\\n', 'Whan the orison was doon of Palamon,\\n', 'His sacrifice he dide, and that anon,\\n', 'Ful pitously, with alle circumstaunces,\\n', 'Al telle I noght as now his observaunces;\\n', 'But atte laste the statue of Venus shook,\\n', 'And made a signe, wherby that he took\\n', 'That his preyere accepted was that day.\\n', 'For thogh the signe shewed a delay,\\n', 'Yet wiste he wel that graunted was his boone,\\n', 'And with glad herte he wente hym hoom ful soone.\\n', 'The thridde houre inequal that Palamon\\n', 'Bigan to Venus temple for to gon,\\n', 'Up roos the sonne, and up roos Emelye\\n', 'And to the temple of Dyane gan hye.\\n', 'Hir maydens, that she thider with hire ladde,\\n', 'Ful redily with hem the fyr they hadde,\\n', \"Th'encens, the clothes, and the remenant al\\n\", 'That to the sacrifice longen shal;\\n', 'The hornes fulle of meeth, as was the gyse --\\n', 'Ther lakked noght to doon hir sacrifise.\\n', 'Smokynge the temple, ful of clothes faire,\\n', 'This Emelye, with herte debonaire,\\n', 'Hir body wessh with water of a welle.\\n', 'But hou she dide hir ryte I dar nat telle,\\n', 'But it be any thing in general;\\n', 'And yet it were a game to heeren al.\\n', 'To hym that meneth wel it were no charge;\\n', 'But it is good a man been at his large.\\n', 'Hir brighte heer was kembd, untressed al;\\n', 'A coroune of a grene ook cerial\\n', 'Upon hir heed was set ful fair and meete.\\n', 'Two fyres on the auter gan she beete,\\n', 'And dide hir thynges, as men may biholde\\n', 'In Stace of Thebes and thise bookes olde.\\n', 'Whan kyndled was the fyr, with pitous cheere\\n', 'Unto Dyane she spak as ye may heere:\\n', '\"O chaste goddesse of the wodes grene,\\n', 'To whom bothe hevene and erthe and see is sene,\\n', 'Queene of the regne of Pluto derk and lowe,\\n', 'Goddesse of maydens, that myn herte hast knowe\\n', 'Ful many a yeer, and woost what I desire,\\n', 'As keepe me fro thy vengeaunce and thyn ire,\\n', 'That Attheon aboughte cruelly.\\n', 'Chaste goddesse, wel wostow that I\\n', 'Desire to ben a mayden al my lyf,\\n', 'Ne nevere wol I be no love ne wyf.\\n', 'I am, thow woost, yet of thy compaignye,\\n', 'A mayde, and love huntynge and venerye,\\n', 'And for to walken in the wodes wilde,\\n', 'And noght to ben a wyf and be with childe.\\n', 'Noght wol I knowe compaignye of man.\\n', 'Now help me, lady, sith ye may and kan,\\n', 'For tho thre formes that thou hast in thee.\\n', 'And Palamon, that hath swich love to me,\\n', 'And eek Arcite, that loveth me so soore,\\n', 'This grace I preye thee withoute moore,\\n', 'As sende love and pees bitwixe hem two,\\n', 'And fro me turne awey hir hertes so\\n', 'That al hire hoote love and hir desir,\\n', 'And al hir bisy torment, and hir fir\\n', 'Be queynt, or turned in another place.\\n', 'And if so be thou wolt nat do me grace,\\n', 'Or if my destynee be shapen so\\n', 'That I shal nedes have oon of hem two,\\n', 'As sende me hym that moost desireth me.\\n', 'Bihoold, goddesse of clene chastitee,\\n', 'The bittre teeris that on my chekes falle.\\n', 'Syn thou art mayde and kepere of us alle,\\n', 'My maydenhede thou kepe and wel conserve,\\n', 'And whil I lyve, a mayde I wol thee serve.\"\\n', 'The fires brenne upon the auter cleere,\\n', 'Whil Emelye was thus in hir preyere.\\n', 'But sodeynly she saugh a sighte queynte,\\n', 'For right anon oon of the fyres queynte\\n', 'And quyked agayn, and after that anon\\n', 'That oother fyr was queynt and al agon;\\n', 'And as it queynte it made a whistelynge,\\n', 'As doon thise wete brondes in hir brennynge,\\n', 'And at the brondes ende out ran anon\\n', 'As it were blody dropes many oon;\\n', 'For which so soore agast was Emelye\\n', 'That she was wel ny mad and gan to crye,\\n', 'For she ne wiste what it signyfied,\\n', 'But oonly for the feere thus hath she cried,\\n', 'And weep that it was pitee for to heere.\\n', 'And therwithal Dyane gan appeere,\\n', 'With bowe in honde, right as an hunteresse,\\n', 'And seyde, \"Doghter, stynt thyn hevynesse.\\n', 'Among the goddes hye it is affermed,\\n', 'And by eterne word writen and confermed,\\n', 'Thou shalt ben wedded unto oon of tho\\n', 'That han for thee so muchel care and wo,\\n', 'But unto which of hem I may nat telle.\\n', 'Farwel, for I ne may no lenger dwelle.\\n', 'The fires which that on myn auter brenne\\n', 'Shulle thee declaren, er that thou go henne,\\n', 'Thyn aventure of love, as in this cas.\"\\n', 'And with that word, the arwes in the caas\\n', 'Of the goddesse clateren faste and rynge,\\n', 'And forth she wente and made a vanysshynge;\\n', 'For which this Emelye astoned was,\\n', 'And seyde, \"What amounteth this, allas?\\n', 'I putte me in thy proteccioun,\\n', 'Dyane, and in thy disposicioun.\"\\n', 'And hoom she goth anon the nexte weye.\\n', \"This is th'effect; ther is namoore to seye.\\n\", 'The nexte houre of Mars folwynge this,\\n', 'Arcite unto the temple walked is\\n', 'Of fierse Mars to doon his sacrifise,\\n', 'With alle the rytes of his payen wyse.\\n', 'With pitous herte and heigh devocioun,\\n', 'Right thus to Mars he seyde his orisoun:\\n', '\"O stronge god, that in the regnes colde\\n', 'Of Trace honoured art and lord yholde,\\n', 'And hast in every regne and every lond\\n', 'Of armes al the brydel in thyn hond,\\n', 'And hem fortunest as thee lyst devyse,\\n', 'Accepte of me my pitous sacrifise.\\n', 'If so be that my youthe may deserve,\\n', 'And that my myght be worthy for to serve\\n', 'Thy godhede, that I may been oon of thyne,\\n', 'Thanne preye I thee to rewe upon my pyne.\\n', 'For thilke peyne and thilke hoote fir\\n', 'In which thow whilom brendest for desir,\\n', 'Whan that thow usedest the beautee\\n', 'Of faire, yonge, fresshe Venus free,\\n', 'And haddest hire in armes at thy wille --\\n', 'Although thee ones on a tyme mysfille,\\n', 'Whan Vulcanus hadde caught thee in his las\\n', 'And foond thee liggynge by his wyf, allas! --\\n', 'For thilke sorwe that was in thyn herte,\\n', 'Have routhe as wel upon my peynes smerte.\\n', 'I am yong and unkonnynge, as thow woost,\\n', 'And, as I trowe, with love offended moost\\n', 'That evere was any lyves creature,\\n', 'For she that dooth me al this wo endure\\n', 'Ne reccheth nevere wher I synke or fleete.\\n', 'And wel I woot, er she me mercy heete,\\n', 'I moot with strengthe wynne hire in the place,\\n', 'And wel I woot, withouten help or grace\\n', 'Of thee ne may my strengthe noght availle.\\n', 'Thanne help me, lord, tomorwe in my bataille,\\n', 'For thilke fyr that whilom brente thee,\\n', 'As wel as thilke fyr now brenneth me,\\n', 'And do that I tomorwe have victorie.\\n', 'Myn be the travaille, and thyn be the glorie!\\n', 'Thy sovereyn temple wol I moost honouren\\n', 'Of any place, and alwey moost labouren\\n', 'In thy plesaunce and in thy craftes stronge,\\n', 'And in thy temple I wol my baner honge\\n', 'And alle the armes of my compaignye,\\n', 'And everemo, unto that day I dye,\\n', 'Eterne fir I wol bifore thee fynde.\\n', 'And eek to this avow I wol me bynde:\\n', 'My beerd, myn heer, that hongeth long adoun,\\n', 'That nevere yet ne felte offensioun\\n', 'Of rasour nor of shere, I wol thee yive,\\n', 'And ben thy trewe servant whil I lyve.\\n', 'Now, lord, have routhe upon my sorwes soore;\\n', 'Yif me [victorie]; I aske thee namoore.\"\\n', 'The preyere stynt of Arcita the stronge,\\n', 'The rynges on the temple dore that honge,\\n', 'And eek the dores, clatereden ful faste,\\n', 'Of which Arcita somwhat hym agaste.\\n', 'The fyres brenden upon the auter brighte\\n', 'That it gan al the temple for to lighte;\\n', 'A sweete smel the ground anon up yaf,\\n', 'And Arcita anon his hand up haf,\\n', 'And moore encens into the fyr he caste,\\n', 'With othere rytes mo; and atte laste\\n', 'The statue of Mars bigan his hauberk rynge,\\n', 'And with that soun he herde a murmurynge\\n', 'Ful lowe and dym, and seyde thus, \"Victorie!\"\\n', 'For which he yaf to Mars honour and glorie.\\n', 'And thus with joye and hope wel to fare\\n', 'Arcite anon unto his in is fare,\\n', 'As fayn as fowel is of the brighte sonne.\\n', 'And right anon swich strif ther is bigonne,\\n', 'For thilke grauntyng, in the hevene above,\\n', 'Bitwixe Venus, the goddesse of love,\\n', 'And Mars, the stierne god armypotente,\\n', 'That Juppiter was bisy it to stente,\\n', 'Til that the pale Saturnus the colde,\\n', 'That knew so manye of aventures olde,\\n', 'Foond in his olde experience an art\\n', 'That he ful soone hath plesed every part.\\n', 'As sooth is seyd, elde hath greet avantage;\\n', 'In elde is bothe wysdom and usage;\\n', 'Men may the olde atrenne and noght atrede.\\n', 'Saturne anon, to stynten strif and drede,\\n', 'Al be it that it is agayn his kynde,\\n', 'Of al this strif he gan remedie fynde.\\n', '\"My deere doghter Venus,\" quod Saturne,\\n', '\"My cours, that hath so wyde for to turne,\\n', 'Hath moore power than woot any man.\\n', 'Myn is the drenchyng in the see so wan;\\n', 'Myn is the prison in the derke cote;\\n', 'Myn is the stranglyng and hangyng by the throte,\\n', 'The murmure and the cherles rebellyng,\\n', 'The groynynge, and the pryvee empoysonyng;\\n', 'I do vengeance and pleyn correccioun,\\n', 'Whil I dwelle in the signe of the leoun.\\n', 'Myn is the ruyne of the hye halles,\\n', 'The fallynge of the toures and of the walles\\n', 'Upon the mynour or the carpenter.\\n', 'I slow Sampsoun, shakynge the piler;\\n', 'And myne be the maladyes colde,\\n', 'The derke tresons, and the castes olde;\\n', 'My lookyng is the fader of pestilence.\\n', 'Now weep namoore; I shal doon diligence\\n', 'That Palamon, that is thyn owene knyght,\\n', 'Shal have his lady, as thou hast him hight.\\n', 'Though Mars shal helpe his knyght, yet nathelees\\n', 'Bitwixe yow ther moot be som tyme pees,\\n', 'Al be ye noght of o compleccioun,\\n', 'That causeth al day swich divisioun.\\n', 'I am thyn aiel, redy at thy wille;\\n', 'Weep now namoore; I wol thy lust fulfille.\"\\n', 'Now wol I stynten of the goddes above,\\n', 'Of Mars, and of Venus, goddesse of love,\\n', 'And telle yow as pleynly as I kan\\n', 'The grete effect, for which that I bygan.\\n', 'Greet was the feeste in Atthenes that day,\\n', 'And eek the lusty seson of that May\\n', 'Made every wight to been in swich plesaunce\\n', 'That al that Monday justen they and daunce,\\n', 'And spenden it in Venus heigh servyse.\\n', 'But by the cause that they sholde ryse\\n', 'Eerly, for to seen the grete fight,\\n', 'Unto hir reste wenten they at nyght.\\n', 'And on the morwe, whan that day gan sprynge,\\n', 'Of hors and harneys noyse and claterynge\\n', 'Ther was in hostelryes al aboute,\\n', 'And to the paleys rood ther many a route\\n', 'Of lordes upon steedes and palfreys.\\n', 'Ther maystow seen devisynge of harneys\\n', 'So unkouth and so riche, and wroght so weel\\n', 'Of goldsmythrye, of browdynge, and of steel;\\n', 'The sheeldes brighte, testeres, and trappures,\\n', 'Gold-hewen helmes, coats of mail, cote-armures;\\n', 'Lordes in parementz on hir courseres,\\n', 'Knyghtes of retenue, and eek squieres\\n', 'Nailynge the speres, and helmes bokelynge;\\n', 'Giggynge of sheeldes, with layneres lacynge --\\n', 'There as nede is they weren no thyng ydel;\\n', 'The fomy steedes on the golden brydel\\n', 'Gnawynge, and faste the armurers also\\n', 'With fyle and hamer prikynge to and fro;\\n', 'Yemen on foote, and communes many oon\\n', 'With shorte staves, thikke as they may goon;\\n', 'Pypes, trompes, nakers, clariounes,\\n', 'That in the bataille blowen blody sounes;\\n', 'The paleys ful of peple up and doun,\\n', 'Heere thre, ther ten, holdynge hir questioun,\\n', 'Dyvynynge of thise Thebane knyghtes two.\\n', 'Somme seyden thus, somme seyde \"it shal be so\";\\n', 'Somme helden with hym with the blake berd,\\n', 'Somme with the balled, somme with the thikke herd;\\n', 'Somme seyde he looked grymme, and he wolde fighte:\\n', '\"He hath a sparth of twenty pound of wighte.\"\\n', 'Thus was the halle ful of divynynge,\\n', 'Longe after that the sonne gan to sprynge.\\n', 'The grete Theseus, that of his sleep awaked\\n', 'With mynstralcie and noyse that was maked,\\n', 'Heeld yet the chambre of his paleys riche\\n', 'Til that the Thebane knyghtes, bothe yliche\\n', 'Honured, were into the paleys fet.\\n', 'Duc Theseus was at a wyndow set,\\n', 'Arrayed right as he were a god in trone.\\n', 'The peple preesseth thiderward ful soone\\n', 'Hym for to seen, and doon heigh reverence,\\n', 'And eek to herkne his heste and his sentence.\\n', 'An heraud on a scaffold made an \"Oo!\"\\n', 'Til al the noyse of peple was ydo,\\n', 'And whan he saugh the peple of noyse al stille,\\n', 'Tho shewed he the myghty dukes wille:\\n', '\"The lord hath of his heigh discrecioun\\n', 'Considered that it were destruccioun\\n', 'To gentil blood to fighten in the gyse\\n', 'Of mortal bataille now in this emprise.\\n', 'Wherfore, to shapen that they shal nat dye,\\n', 'He wol his firste purpos modifye.\\n', 'No man therfore, up peyne of los of lyf,\\n', 'No maner shot, ne polax, ne short knyf\\n', 'Into the lystes sende or thider brynge;\\n', 'Ne short swerd, for to stoke with poynt bitynge,\\n', 'No man ne drawe, ne bere it by his syde.\\n', 'Ne no man shal unto his felawe ryde\\n', 'But o cours with a sharpe ygrounde spere;\\n', 'Foyne, if hym list, on foote, hymself to were.\\n', 'And he that is at meschief shal be take\\n', 'And noght slayn, but be broght unto the stake\\n', 'That shal ben ordeyned on either syde;\\n', 'But thider he shal by force, and there abyde.\\n', 'And if so falle the chieftayn be take\\n', 'On outher syde, or elles sleen his make,\\n', 'No lenger shal the turneiynge laste.\\n', 'God spede you! Gooth forth and ley on faste!\\n', 'With long swerd and with mace fighteth youre fille.\\n', 'Gooth now youre wey; this is the lordes wille.\"\\n', 'The voys of peple touchede the hevene,\\n', 'So loude cride they with murie stevene,\\n', '\"God save swich a lord, that is so good\\n', 'He wilneth no destruccion of blood!\"\\n', 'Up goon the trompes and the melodye,\\n', 'And to the lystes rit the compaignye,\\n', 'By ordinance, thurghout the citee large,\\n', 'Hanged with clooth of gold, and nat with sarge.\\n', 'Ful lik a lord this noble duc gan ryde,\\n', 'Thise two Thebans upon either syde,\\n', 'And after rood the queene and Emelye,\\n', 'And after that another compaignye\\n', 'Of oon and oother, after hir degree.\\n', 'And thus they passen thurghout the citee,\\n', 'And to the lystes come they by tyme.\\n', 'It nas nat of the day yet fully pryme\\n', 'Whan set was Theseus ful riche and hye,\\n', 'Ypolita the queene, and Emelye,\\n', 'And othere ladys in degrees aboute.\\n', 'Unto the seetes preesseth al the route.\\n', 'And westward, thurgh the gates under Marte,\\n', 'Arcite, and eek the hondred of his parte,\\n', 'With baner reed is entred right anon;\\n', 'And in that selve moment Palamon\\n', 'Is under Venus, estward in the place,\\n', 'With baner whyt and hardy chiere and face.\\n', 'In al the world, to seken up and doun,\\n', 'So evene, withouten variacioun,\\n', 'Ther nere swiche compaignyes tweye,\\n', 'For ther was noon so wys that koude seye\\n', 'That any hadde of oother avauntage\\n', 'Of worthynesse, ne of estaat, ne age,\\n', 'So evene were they chosen, for to gesse.\\n', 'And in two renges faire they hem dresse.\\n', 'Whan that hir names rad were everichon,\\n', 'That in hir nombre gyle were ther noon,\\n', 'Tho were the gates shet, and cried was loude:\\n', '\"Do now youre devoir, yonge knyghtes proude!\"\\n', 'The heraudes lefte hir prikyng up and doun;\\n', 'Now ryngen trompes loude and clarioun.\\n', 'Ther is namoore to seyn, but west and est\\n', 'In goon the speres ful sadly in arrest;\\n', 'In gooth the sharpe spore into the syde.\\n', 'Ther seen men who kan juste and who kan ryde;\\n', 'Ther shyveren shaftes upon sheeldes thikke;\\n', 'He feeleth thurgh the herte-spoon the prikke.\\n', 'Up spryngen speres twenty foot on highte;\\n', 'Out goon the swerdes as the silver brighte;\\n', 'The helmes they tohewen and toshrede;\\n', 'Out brest the blood with stierne stremes rede;\\n', 'With myghty maces the bones they tobreste.\\n', 'He thurgh the thikkeste of the throng gan threste;\\n', 'Ther stomblen steedes stronge, and doun gooth al,\\n', 'He rolleth under foot as dooth a bal;\\n', 'He foyneth on his feet with his tronchoun,\\n', 'And he hym hurtleth with his hors adoun;\\n', 'He thurgh the body is hurt and sithen ytake,\\n', 'Maugree his heed, and broght unto the stake;\\n', 'As forward was, right there he moste abyde.\\n', 'Another lad is on that oother syde.\\n', 'And some tyme dooth hem Theseus to reste,\\n', 'Hem to refresshe and drynken, if hem leste.\\n', 'Ful ofte a day han thise Thebanes two\\n', 'Togydre ymet, and wroght his felawe wo;\\n', 'Unhorsed hath ech oother of hem tweye.\\n', 'Ther nas no tygre in the vale of Galgopheye,\\n', 'Whan that hir whelp is stole whan it is lite,\\n', 'So crueel on the hunte as is Arcite\\n', 'For jelous herte upon this Palamon.\\n', 'Ne in Belmarye ther nys so fel leon,\\n', 'That hunted is, or for his hunger wood,\\n', 'Ne of his praye desireth so the blood,\\n', 'As Palamon to sleen his foo Arcite.\\n', 'The jelous strokes on hir helmes byte;\\n', 'Out renneth blood on bothe hir sydes rede.\\n', 'Som tyme an ende ther is of every dede.\\n', 'For er the sonne unto the reste wente,\\n', 'The stronge kyng Emetreus gan hente\\n', 'This Palamon, as he faught with Arcite,\\n', 'And made his swerd depe in his flessh to byte,\\n', 'And by the force of twenty is he take\\n', 'Unyolden, and ydrawen to the stake.\\n', 'And in the rescus of this Palamoun\\n', 'The stronge kyng Lygurge is born adoun,\\n', 'And kyng Emetreus, for al his strengthe,\\n', 'Is born out of his sadel a swerdes lengthe,\\n', 'So hitte him Palamoun er he were take.\\n', 'But al for noght; he was broght to the stake.\\n', 'His hardy herte myghte hym helpe naught:\\n', 'He moste abyde, whan that he was caught,\\n', 'By force and eek by composicioun.\\n', 'Who sorweth now but woful Palamoun,\\n', 'That moot namoore goon agayn to fighte?\\n', 'And whan that Theseus hadde seyn this sighte,\\n', 'Unto the folk that foghten thus echon\\n', 'He cryde, \"Hoo! namoore, for it is doon!\\n', 'I wol be trewe juge, and no partie.\\n', 'Arcite of Thebes shal have Emelie,\\n', 'That by his fortune hath hire faire ywonne.\"\\n', 'Anon ther is a noyse of peple bigonne\\n', 'For joye of this, so loude and heighe withalle\\n', 'It semed that the lystes sholde falle.\\n', 'What kan now faire Venus doon above?\\n', 'What seith she now? What dooth this queene of love,\\n', 'But wepeth so, for wantynge of hir wille,\\n', 'Til that hir teeres in the lystes fille?\\n', 'She seyde, \"I am ashamed, doutelees.\"\\n', 'Saturnus seyde, \"Doghter, hoold thy pees!\\n', 'Mars hath his wille, his knyght hath al his boone,\\n', 'And, by myn heed, thow shalt been esed soone.\"\\n', 'The trompours, with the loude mynstralcie,\\n', 'The heraudes, that ful loude yelle and crie,\\n', 'Been in hire wele for joye of daun Arcite.\\n', 'But herkneth me, and stynteth noyse a lite,\\n', 'Which a myracle ther bifel anon.\\n', 'This fierse Arcite hath of his helm ydon,\\n', 'And on a courser, for to shewe his face,\\n', 'He priketh endelong the large place\\n', 'Lokynge upward upon this Emelye;\\n', 'And she agayn hym caste a freendlich ye\\n', '(For wommen, as to speken in comune,\\n', 'Thei folwen alle the favour of Fortune)\\n', 'And was al his chiere, as in his herte.\\n', 'Out of the ground a furie infernal sterte,\\n', 'From Pluto sent at requeste of Saturne,\\n', 'For which his hors for fere gan to turne,\\n', 'And leep aside, and foundred as he leep;\\n', 'And er that Arcite may taken keep,\\n', 'He pighte hym on the pomel of his heed,\\n', 'That in the place he lay as he were deed,\\n', 'His brest tobrosten with his sadel-bowe.\\n', 'As blak he lay as any cole or crowe,\\n', 'So was the blood yronnen in his face.\\n', 'Anon he was yborn out of the place,\\n', 'With herte soor, to Theseus paleys.\\n', 'Tho was he korven out of his harneys\\n', 'And in a bed ybrought ful faire and blyve,\\n', 'For he was yet in memorie and alyve,\\n', 'And alwey criynge after Emelye.\\n', 'Duc Theseus, with al his compaignye,\\n', 'Is comen hoom to Atthenes his citee,\\n', 'With alle blisse and greet solempnitee.\\n', 'Al be it that this aventure was falle,\\n', 'He nolde noght disconforten hem alle.\\n', 'Men seyde eek that Arcite shal nat dye;\\n', 'He shal been heeled of his maladye.\\n', 'And of another thyng they weren as fayn,\\n', 'That of hem alle was ther noon yslayn,\\n', 'Al were they soore yhurt, and namely oon,\\n', 'That with a spere was thirled his brest boon.\\n', 'To othere woundes and to broken armes\\n', 'Somme hadden salves, and somme hadden charmes;\\n', 'Fermacies of herbes, and eek save\\n', 'They dronken, for they wolde hir lymes have.\\n', 'For which this noble duc, as he wel kan,\\n', 'Conforteth and honoureth every man,\\n', 'And made revel al the longe nyght\\n', 'Unto the straunge lordes, as was right.\\n', 'Ne ther was holden no disconfitynge\\n', 'But as a justes or a tourneiynge;\\n', 'For soothly ther was no disconfiture.\\n', 'For fallyng nys nat but an aventure,\\n', 'Ne to be lad by force unto the stake\\n', 'Unyolden, and with twenty knyghtes take,\\n', 'O persone allone, withouten mo,\\n', 'And haryed forth by arme, foot, and too,\\n', 'And eke his steede dryven forth with staves\\n', 'With footmen, bothe yemen and eek knaves --\\n', 'It nas arretted hym no vileynye;\\n', 'Ther may no man clepen it cowardye.\\n', 'For which anon duc Theseus leet crye,\\n', 'To stynten alle rancour and envye,\\n', 'The gree as wel of o syde as of oother,\\n', 'And eyther syde ylik as ootheres brother;\\n', 'And yaf hem yiftes after hir degree,\\n', 'And fully heeld a feeste dayes three,\\n', 'And conveyed the kynges worthily\\n', 'Out of his toun a journee largely.\\n', 'And hoom wente every man the righte way.\\n', 'Ther was namoore but \"Fare wel, have good day!\"\\n', 'Of this bataille I wol namoore endite,\\n', 'But speke of Palamon and of Arcite.\\n', 'Swelleth the brest of Arcite, and the soore\\n', 'Encreesseth at his herte moore and moore.\\n', 'The clothered blood, for any lechecraft,\\n', 'Corrupteth, and is in his bouk ylaft,\\n', 'That neither veyne-blood, ne ventusynge,\\n', 'Ne drynke of herbes may ben his helpynge.\\n', 'The vertu expulsif, or animal,\\n', 'Fro thilke vertu cleped natural\\n', 'Ne may the venym voyden ne expelle.\\n', 'The pipes of his longes gonne to swelle,\\n', 'And every lacerte in his brest adoun\\n', 'Is shent with venym and corrupcioun.\\n', 'Hym gayneth neither, for to gete his lif,\\n', 'Vomyt upward, ne dounward laxatif.\\n', 'Al is tobrosten thilke regioun;\\n', 'Nature hath now no dominacioun.\\n', 'And certeinly, ther Nature wol nat wirche,\\n', 'Fare wel phisik! Go ber the man to chirche!\\n', 'This al and som, that Arcita moot dye;\\n', 'For which he sendeth after Emelye,\\n', 'And Palamon, that was his cosyn deere.\\n', 'Thanne seyde he thus, as ye shal after heere:\\n', '\"Naught may the woful spirit in myn herte\\n', 'Declare o point of alle my sorwes smerte\\n', 'To yow, my lady, that I love moost,\\n', 'But I biquethe the servyce of my goost\\n', 'To yow aboven every creature,\\n', 'Syn that my lyf may no lenger dure.\\n', 'Allas, the wo! Allas, the peynes stronge,\\n', 'That I for yow have suffred, and so longe!\\n', 'Allas, the deeth! Allas, myn Emelye!\\n', 'Allas, departynge of oure compaignye!\\n', 'Allas, myn hertes queene! Allas, my wyf,\\n', 'Myn hertes lady, endere of my lyf!\\n', 'What is this world? What asketh men to have?\\n', 'Now with his love, now in his colde grave\\n', 'Allone, withouten any compaignye.\\n', 'Fare wel, my sweete foo, myn Emelye!\\n', 'And softe taak me in youre armes tweye,\\n', 'For love of God, and herkneth what I seye.\\n', '\"I have heer with my cosyn Palamon\\n', 'Had strif and rancour many a day agon\\n', 'For love of yow, and for my jalousye.\\n', 'And Juppiter so wys my soule gye,\\n', 'To speken of a servaunt proprely,\\n', 'With alle circumstances trewely --\\n', 'That is to seyen, trouthe, honour, knyghthede,\\n', 'Wysdom, humblesse, estaat, and heigh kynrede,\\n', 'Fredom, and al that longeth to that art --\\n', 'So Juppiter have of my soule part,\\n', 'As in this world right now ne knowe I non\\n', 'So worthy to ben loved as Palamon,\\n', 'That serveth yow, and wol doon al his lyf.\\n', 'And if that evere ye shul ben a wyf,\\n', 'Foryet nat Palamon, the gentil man.\"\\n', 'And with that word his speche faille gan,\\n', 'For from his feet up to his brest was come\\n', 'The coold of deeth, that hadde hym overcome,\\n', 'And yet mooreover, for in his armes two\\n', 'The vital strengthe is lost and al ago.\\n', 'Oonly the intellect, withouten moore,\\n', 'That dwelled in his herte syk and soore,\\n', 'Gan faillen whan the herte felte deeth.\\n', 'Dusked his eyen two, and failled breeth,\\n', 'But on his lady yet caste he his ye;\\n', 'His laste word was, \"Mercy, Emelye!\"\\n', 'His spirit chaunged hous and wente ther,\\n', 'As I cam nevere, I kan nat tellen wher.\\n', 'Therfore I stynte; I nam no divinistre;\\n', 'Of soules fynde I nat in this registre,\\n', 'Ne me ne list thilke opinions to telle\\n', 'Of hem, though that they writen wher they dwelle.\\n', 'Arcite is coold, ther Mars his soule gye!\\n', 'Now wol I speken forth of Emelye.\\n', 'Shrighte Emelye, and howleth Palamon,\\n', 'And Theseus his suster took anon\\n', 'Swownynge, and baar hire fro the corps away.\\n', 'What helpeth it to tarien forth the day\\n', 'To tellen how she weep bothe eve and morwe?\\n', 'For in swich cas wommen have swich sorwe,\\n', 'Whan that hir housbondes ben from hem ago,\\n', 'That for the moore part they sorwen so,\\n', 'Or ellis fallen in swich maladye\\n', 'That at the laste certeinly they dye.\\n', 'Infinite been the sorwes and the teeres\\n', 'Of olde folk and folk of tendre yeeres\\n', 'In al the toun for deeth of this Theban.\\n', 'For hym ther wepeth bothe child and man;\\n', 'So greet wepyng was ther noon, certayn,\\n', 'Whan Ector was ybroght, al fressh yslayn,\\n', 'To Troye. Allas, the pitee that was ther,\\n', 'Cracchynge of chekes, rentynge eek of heer.\\n', '\"Why woldestow be deed,\" thise wommen crye,\\n', '\"And haddest gold ynough, and Emelye?\"\\n', 'No man myghte gladen Theseus,\\n', 'Savynge his olde fader Egeus,\\n', 'That knew this worldes transmutacioun,\\n', 'As he hadde seyn it chaunge bothe up and doun,\\n', 'Joye after wo, and wo after gladnesse,\\n', 'And shewed hem ensamples and liknesse.\\n', '\"Right as ther dyed nevere man,\" quod he,\\n', '\"That he ne lyvede in erthe in some degree,\\n', 'Right so ther lyvede never man,\" he seyde,\\n', '\"In al this world, that som tyme he ne deyde.\\n', 'This world nys but a thurghfare ful of wo,\\n', 'And we been pilgrymes, passynge to and fro.\\n', 'Deeth is an ende of every worldly soore.\"\\n', 'And over al this yet seyde he muchel moore\\n', 'To this effect, ful wisely to enhorte\\n', 'The peple that they sholde hem reconforte.\\n', 'Duc Theseus, with al his bisy cure,\\n', 'Caste now wher that the sepulture\\n', 'Of goode Arcite may best ymaked be,\\n', 'And eek moost honurable in his degree.\\n', 'And at the laste he took conclusioun\\n', 'That ther as first Arcite and Palamoun\\n', 'Hadden for love the bataille hem bitwene,\\n', 'That in that selve grove, swoote and grene,\\n', 'Ther as he hadde his amorouse desires,\\n', 'His compleynte, and for love his hoote fires,\\n', 'He wolde make a fyr in which the office\\n', 'Funeral he myghte al accomplice.\\n', 'And leet comande anon to hakke and hewe\\n', 'The okes olde, and leye hem on a rewe\\n', 'In colpons wel arrayed for to brenne.\\n', 'His officers with swifte feet they renne\\n', 'And ryde anon at his comandement.\\n', 'And after this, Theseus hath ysent\\n', 'After a beere, and it al overspradde\\n', 'With clooth of gold, the richeste that he hadde.\\n', 'And of the same suyte he cladde Arcite;\\n', 'Upon his hondes hadde he gloves white,\\n', 'Eek on his heed a coroune of laurer grene,\\n', 'And in his hond a swerd ful bright and kene.\\n', 'He leyde hym, bare the visage, on the beere;\\n', 'Therwith he weep that pitee was to heere.\\n', 'And for the peple sholde seen hym alle,\\n', 'Whan it was day, he broghte hym to the halle,\\n', 'That roreth of the criyng and the soun.\\n', 'Tho cam this woful Theban Palamoun,\\n', 'With flotery berd and ruggy, asshy heeres,\\n', 'In clothes blake, ydropped al with teeres;\\n', 'And, passynge othere of wepynge, Emelye,\\n', 'The rewefulleste of al the compaignye.\\n', 'In as muche as the servyce sholde be\\n', 'The moore noble and riche in his degree,\\n', 'Duc Theseus leet forth thre steedes brynge,\\n', 'That trapped were in steel al gliterynge,\\n', 'And covered with the armes of daun Arcite.\\n', 'Upon thise steedes, that weren grete and white,\\n', 'Ther seten folk, of whiche oon baar his sheeld,\\n', 'Another his spere up on his hondes heeld,\\n', 'The thridde baar with hym his bowe Turkeys\\n', '(Of brend gold was the caas and eek the harneys);\\n', 'And riden forth a paas with sorweful cheere\\n', 'Toward the grove, as ye shul after heere.\\n', 'The nobleste of the Grekes that ther were\\n', 'Upon hir shuldres caryeden the beere,\\n', 'With slakke paas and eyen rede and wete,\\n', 'Thurghout the citee by the maister strete,\\n', 'That sprad was al with blak, and wonder hye\\n', 'Right of the same is the strete ywrye.\\n', 'Upon the right hond wente olde Egeus,\\n', 'And on that oother syde duc Theseus,\\n', 'With vessels in hir hand of gold ful fyn,\\n', 'Al ful of hony, milk, and blood, and wyn;\\n', 'Eek Palamon, with ful greet compaignye;\\n', 'And after that cam woful Emelye,\\n', 'With fyr in honde, as was that tyme the gyse,\\n', 'To do the ritual of funeral service.\\n', 'Heigh labour and ful greet apparaillynge\\n', 'Was at the service and the fyr-makynge,\\n', 'That with his grene top the hevene raughte;\\n', 'And twenty fadme of brede the armes straughte --\\n', 'This is to seyn, the bowes weren so brode.\\n', 'Of stree first ther was leyd ful many a lode.\\n', 'But how the fyr was maked upon highte,\\n', 'Ne eek the names that the trees highte,\\n', 'As ook, firre, birch, aspe, alder, holm, popler,\\n', 'Wylugh, elm, plane, assh, box, chasteyn, lynde, laurer,\\n', 'Mapul, thorn, bech, hasel, ew, whippeltree --\\n', 'How they weren feld shal nat be toold for me;\\n', 'Ne hou the goddes ronnen up and doun,\\n', 'Disherited of hire habitacioun,\\n', 'In which they woneden in reste and pees,\\n', 'Nymphes, fawnes and amadrides;\\n', 'Ne hou the beestes and the briddes alle\\n', 'Fledden for fere, whan the wode was falle;\\n', 'Ne how the ground agast was of the light,\\n', 'That was nat wont to seen the sonne bright;\\n', 'Ne how the fyr was couched first with stree,\\n', 'And thanne with drye stikkes cloven a thre,\\n', 'And thanne with grene wode and spicerye,\\n', 'And thanne with clooth of gold and with perrye,\\n', 'And gerlandes, hangynge with ful many a flour;\\n', \"The mirre, th'encens, with al so greet odour;\\n\", 'Ne how Arcite lay among al this,\\n', 'Ne what richesse aboute his body is;\\n', 'Ne how that Emelye, as was the gyse,\\n', 'Putte in the fyr of funeral servyse;\\n', 'Ne how she swowned whan men made the fyr,\\n', 'Ne what she spak, ne what was hir desir;\\n', 'Ne what jeweles men in the fyre caste,\\n', 'Whan that the fyr was greet and brente faste;\\n', 'Ne how somme caste hir sheeld, and somme hir spere,\\n', 'And of hire vestimentz, whiche that they were,\\n', 'And coppes fulle of wyn, and milk, and blood,\\n', 'Into the fyr, that brente as it were wood;\\n', 'Ne how the Grekes, with an huge route,\\n', 'Thries riden al the fyr aboute\\n', 'Upon the left hand, with a loud shoutynge,\\n', 'And thries with hir speres claterynge;\\n', 'And thries how the ladyes gonne crye;\\n', 'And how that lad was homward Emelye;\\n', 'Ne how Arcite is brent to asshen colde;\\n', 'Ne how that lyche-wake was yholde\\n', 'Al thilke nyght; ne how the Grekes pleye\\n', 'The wake-pleyes; ne kepe I nat to seye\\n', 'Who wrastleth best naked with oille enoynt,\\n', 'Ne who that baar hym best, in no disjoynt.\\n', 'I wol nat tellen eek how that they goon\\n', 'Hoom til Atthenes, whan the pley is doon;\\n', 'But shortly to the point thanne wol I wende\\n', 'And maken of my longe tale an ende.\\n', 'By processe and by lengthe of certeyn yeres,\\n', 'Al stynted is the moornynge and the teres\\n', 'Of Grekes, by oon general assent.\\n', 'Thanne semed me ther was a parlement\\n', 'At Atthenes, upon certein pointz and caas;\\n', 'Among the whiche pointz yspoken was,\\n', 'To have with certein contrees alliaunce,\\n', 'And have fully of Thebans obeisaunce.\\n', 'For which this noble Theseus anon\\n', 'Leet senden after gentil Palamon,\\n', 'Unwist of hym what was the cause and why,\\n', 'But in his blake clothes sorwefully\\n', 'He cam at his comandement in hye.\\n', 'Tho sente Theseus for Emelye.\\n', 'Whan they were set, and hust was al the place,\\n', 'And Theseus abiden hadde a space\\n', 'Er any word cam fram his wise brest,\\n', 'His eyen sette he ther as was his lest.\\n', 'And with a sad visage he siked stille,\\n', 'And after that right thus he seyde his wille:\\n', '\"The Firste Moevere of the cause above,\\n', 'Whan he first made the faire cheyne of love,\\n', \"Greet was th'effect, and heigh was his entente.\\n\", 'Wel wiste he why, and what thereof he mente,\\n', 'For with that faire cheyne of love he bond\\n', 'The fyr, the eyr, the water, and the lond\\n', 'In certeyn boundes, that they may nat flee.\\n', 'That same Prince and that Moevere,\" quod he,\\n', '\"Hath stablissed in this wrecched world adoun\\n', 'Certeyne dayes and duracioun\\n', 'To al that is engendred in this place,\\n', 'Over the whiche day they may nat pace,\\n', 'Al mowe they yet tho dayes wel abregge.\\n', \"Ther nedeth noght noon auctoritee t'allegge,\\n\", 'For it is preeved by experience,\\n', 'But that me list declaren my sentence.\\n', 'Thanne may men by this ordre wel discerne\\n', 'That thilke Moevere stable is and eterne.\\n', 'Wel may men knowe, but it be a fool,\\n', 'That every part dirryveth from his hool,\\n', 'For nature hath nat taken his bigynnyng\\n', 'Of no partie or cantel of a thyng,\\n', 'But of a thyng that parfit is and stable,\\n', 'Descendynge so til it be corrumpable.\\n', 'And therfore, of his wise purveiaunce,\\n', 'He hath so wel biset his ordinaunce\\n', 'That speces of thynges and progressiouns\\n', 'Shullen enduren by successiouns,\\n', 'And nat eterne, withouten any lye.\\n', 'This maystow understonde and seen at ye.\\n', '\"Loo the ook, that hath so long a norisshynge\\n', 'From tyme that it first bigynneth to sprynge,\\n', 'And hath so long a lif, as we may see,\\n', 'Yet at the laste wasted is the tree.\\n', '\"Considereth eek how that the harde stoon\\n', 'Under oure feet, on which we trede and goon,\\n', 'Yet wasteth it as it lyth by the weye.\\n', 'The brode ryver somtyme wexeth dreye;\\n', 'The grete tounes se we wane and wende.\\n', 'Thanne may ye se that al this thyng hath ende.\\n', '\"Of man and womman seen we wel also\\n', 'That nedes, in oon of thise termes two --\\n', 'This is to seyn, in youthe or elles age --\\n', 'He moot be deed, the kyng as shal a page;\\n', 'Som in his bed, som in the depe see,\\n', 'Som in the large feeld, as men may see;\\n', 'Ther helpeth noght; al goth that ilke weye.\\n', 'Thanne may I seyn that al this thyng moot deye.\\n', '\"What maketh this but Juppiter, the kyng,\\n', 'That is prince and cause of alle thyng,\\n', 'Convertynge al unto his propre welle\\n', 'From which it is dirryved, sooth to telle?\\n', 'And heer-agayns no creature on lyve,\\n', 'Of no degree, availleth for to stryve.\\n', '\"Thanne is it wysdom, as it thynketh me,\\n', 'To maken vertu of necessitee,\\n', 'And take it weel that we may nat eschue,\\n', 'And namely that to us alle is due.\\n', 'And whoso gruccheth ought, he dooth folye,\\n', 'And rebel is to hym that al may gye.\\n', 'And certeinly a man hath moost honour\\n', 'To dyen in his excellence and flour,\\n', 'Whan he is siker of his goode name;\\n', 'Thanne hath he doon his freend, ne hym, no shame.\\n', 'And gladder oghte his freend been of his deeth,\\n', 'Whan with honour up yolden is his breeth,\\n', 'Than whan his name apalled is for age,\\n', 'For al forgeten is his vassellage.\\n', 'Thanne is it best, as for a worthy fame,\\n', 'To dyen whan that he is best of name.\\n', '\"The contrarie of al this is wilfulnesse.\\n', 'Why grucchen we, why have we hevynesse,\\n', 'That goode Arcite, of chivalrie flour,\\n', 'Departed is with duetee and honour\\n', 'Out of this foule prisoun of this lyf?\\n', 'Why grucchen heere his cosyn and his wyf\\n', 'Of his welfare, that loved hem so weel?\\n', 'Kan he hem thank? Nay, God woot, never a deel,\\n', 'That both his soule and eek hemself offende,\\n', 'And yet they mowe hir lustes nat amende.\\n', '\"What may I conclude of this longe serye,\\n', 'But after wo I rede us to be merye\\n', 'And thanken Juppiter of al his grace?\\n', 'And er that we departen from this place\\n', 'I rede that we make of sorwes two\\n', 'O parfit joye, lastynge everemo.\\n', 'And looketh now, wher moost sorwe is herinne,\\n', 'Ther wol we first amenden and bigynne.\\n', '\"Suster,\" quod he, \"this is my fulle assent,\\n', \"With al th'avys heere of my parlement,\\n\", 'That gentil Palamon, youre owene knyght,\\n', 'That serveth yow with wille, herte, and myght,\\n', 'And ever hath doon syn ye first hym knewe,\\n', 'That ye shul of youre grace upon hym rewe,\\n', 'And taken hym for housbonde and for lord.\\n', 'Lene me youre hond, for this is oure accord.\\n', 'Lat se now of youre wommanly pitee.\\n', 'He is a kynges brother sone, pardee;\\n', 'And though he were a povre bacheler,\\n', 'Syn he hath served yow so many a yeer,\\n', 'And had for yow so greet adversitee,\\n', 'It moste been considered, leeveth me,\\n', 'For gentil mercy oghte to passen right.\"\\n', 'Thanne seyde he thus to Palamon the knight:\\n', '\"I trowe ther nedeth litel sermonyng\\n', 'To make yow assente to this thyng.\\n', 'Com neer, and taak youre lady by the hond.\"\\n', 'Bitwixen hem was maad anon the bond\\n', 'That highte matrimoigne or mariage,\\n', 'By al the conseil and the baronage.\\n', 'And thus with alle blisse and melodye\\n', 'Hath Palamon ywedded Emelye.\\n', 'And God, that al this wyde world hath wroght,\\n', 'Sende hym his love that hath it deere aboght;\\n', 'For now is Palamon in alle wele,\\n', 'Lyvynge in blisse, in richesse, and in heele,\\n', 'And Emelye hym loveth so tendrely,\\n', 'And he hire serveth so gentilly,\\n', 'That nevere was ther no word hem bitwene\\n', 'Of jalousie or any oother teene.\\n', 'Thus endeth Palamon and Emelye;\\n', 'And God save al this faire compaignye! Amen.\\n']\n",
            "The current epoch is : 0\n",
            "The mean score of the bleu scores is: 0.05325362640480957\n",
            "The mean score of the rouge-2 scores is: 0.19546616963283692\n"
          ]
        }
      ]
    },
    {
      "cell_type": "code",
      "source": [
        "import pandas as pd\n",
        "\n",
        "# del(bleu_scores_list[-1])\n",
        "\n",
        "name = ['bleu_score']\n",
        "name1 = ['rouge-2_score']\n",
        "bleu_csv = pd.DataFrame(columns = name, data = bleu_scores_list)\n",
        "rou2_csv = pd.DataFrame(columns = name1, data = rouge_2_list)\n",
        "test = bleu_csv\n",
        "test1 = rou2_csv\n",
        "print(test)\n",
        "print(test1)\n",
        "test.to_csv('bleu_scores_forYLTvsDRA.csv',encoding = 'gbk')\n",
        "test1.to_csv('rouge-2_scores_forforYLTvsDRA.csv',encoding = 'gbk')"
      ],
      "metadata": {
        "colab": {
          "base_uri": "https://localhost:8080/"
        },
        "outputId": "5ff04e5b-95f9-4317-9a2d-56cd1f4977aa",
        "id": "SpwM-jDah3MZ"
      },
      "execution_count": 81,
      "outputs": [
        {
          "output_type": "stream",
          "name": "stdout",
          "text": [
            "The mean score of the bleu scores is: 0.05325362640480957\n",
            "      bleu_score\n",
            "0       0.000000\n",
            "1       0.000000\n",
            "2       0.000000\n",
            "3       0.000000\n",
            "4       0.000000\n",
            "...          ...\n",
            "2246    0.000000\n",
            "2247    0.000000\n",
            "2248    0.000000\n",
            "2249    0.000000\n",
            "2250    0.053254\n",
            "\n",
            "[2251 rows x 1 columns]\n"
          ]
        }
      ]
    },
    {
      "cell_type": "markdown",
      "source": [
        "***Knights_tale_TWO***"
      ],
      "metadata": {
        "id": "JGm721uQCjEN"
      }
    },
    {
      "cell_type": "code",
      "source": [
        "import csv\n",
        "from rouge import Rouge\n",
        "# Read from the csv, and put into the list: references[], candidates[]\n",
        "with open(\"knightstale_decoded_two.csv\",'r') as f :\n",
        "    reader = csv.reader(f)\n",
        "    references = []\n",
        "    candidates = []\n",
        "    for row in reader:\n",
        "    \treferences.append(row[3])\n",
        "    \tcandidates.append(row[4])   \n",
        "\n",
        "# Check some sentences inside  \n",
        "# print('A:', candidates[0:10])\n",
        "# print('B:', references[0:10])\n",
        "\n",
        "rouge = Rouge()\n",
        "\n",
        "epoch_num = 1 \n",
        "epoch_size = 1000\n",
        "\n",
        "bleu_scores_list = []\n",
        "for epoch in range(epoch_num):\n",
        "  print(\"The current epoch is :\",epoch)\n",
        "  for i in range(epoch*epoch_size,(epoch+1)*epoch_size):\n",
        "    bleu_scores = bleu_metric.compute(predictions=[candidates[i].split(' ')],references=[[references[i].split(' ')]])\n",
        "    \n",
        "    scores = rouge.get_scores(candidates[i], references[i])\n",
        "    rouge_2_list.append(scores[0]['rouge-2']['r'])\n",
        "    # print(\"The #\",i, \"is:\",bleu_scores)\n",
        "    # print(\"The candidiates:\",candidates[i], \"The reference:\",references[i])\n",
        "    bleu_scores_list.append(bleu_scores['bleu'])\n",
        "\n",
        "\n",
        "\n",
        "bleu_mean = sum(bleu_scores_list)/len(bleu_scores_list)\n",
        "print(\"The mean score of the bleu scores is:\", bleu_mean)\n",
        "bleu_scores_list.append(bleu_mean)\n",
        "\n",
        "rou2_mean = sum(rouge_2_list)/len(rouge_2_list)\n",
        "print(\"The mean score of the rouge-2 scores is:\", rou2_mean)\n",
        "rouge_2_list.append(rou2_mean)"
      ],
      "metadata": {
        "colab": {
          "base_uri": "https://localhost:8080/"
        },
        "id": "mO1aNKI9hLHc",
        "outputId": "32c85245-70c7-4bcf-8b3b-43e4a533d51c"
      },
      "execution_count": 146,
      "outputs": [
        {
          "output_type": "stream",
          "name": "stdout",
          "text": [
            "The current epoch is : 0\n",
            "The mean score of the bleu scores is: 0.002114658105348788\n",
            "The mean score of the rouge-2 scores is: 0.1096801057002121\n"
          ]
        }
      ]
    },
    {
      "cell_type": "code",
      "source": [
        "import pandas as pd\n",
        "\n",
        "# del(bleu_scores_list[-1])\n",
        "\n",
        "name = ['bleu_score']\n",
        "name1 = ['rouge-2_score']\n",
        "bleu_csv = pd.DataFrame(columns = name, data = bleu_scores_list)\n",
        "rou2_csv = pd.DataFrame(columns = name1, data = rouge_2_list)\n",
        "test = bleu_csv\n",
        "test1 = rou2_csv\n",
        "print(test)\n",
        "print(test1)\n",
        "test.to_csv('bleu_scores_forknights_two.csv',encoding = 'gbk')\n",
        "test1.to_csv('rouge-2_scores_forknights_two.csv',encoding = 'gbk')"
      ],
      "metadata": {
        "colab": {
          "base_uri": "https://localhost:8080/"
        },
        "id": "eKKurLNaYrDZ",
        "outputId": "7a65c836-d6e8-45e6-f70b-4087bc3d863e"
      },
      "execution_count": 147,
      "outputs": [
        {
          "output_type": "stream",
          "name": "stdout",
          "text": [
            "      bleu_score\n",
            "0       0.000000\n",
            "1       0.000000\n",
            "2       0.000000\n",
            "3       0.000000\n",
            "4       0.000000\n",
            "...          ...\n",
            "996     0.000000\n",
            "997     0.000000\n",
            "998     0.000000\n",
            "999     0.000000\n",
            "1000    0.002115\n",
            "\n",
            "[1001 rows x 1 columns]\n",
            "      rouge-2_score\n",
            "0          0.000000\n",
            "1          0.000000\n",
            "2          0.166667\n",
            "3          0.333333\n",
            "4          0.333333\n",
            "...             ...\n",
            "5248       0.000000\n",
            "5249       0.333333\n",
            "5250       0.000000\n",
            "5251       0.000000\n",
            "5252       0.109680\n",
            "\n",
            "[5253 rows x 1 columns]\n"
          ]
        }
      ]
    }
  ]
}